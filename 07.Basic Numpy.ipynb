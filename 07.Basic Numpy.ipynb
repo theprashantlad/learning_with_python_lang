{
 "cells": [
  {
   "cell_type": "markdown",
   "id": "d8004190",
   "metadata": {},
   "source": [
    "# Limitations of Lists"
   ]
  },
  {
   "cell_type": "markdown",
   "id": "d1e30f2e",
   "metadata": {},
   "source": [
    "You have already seen what lists are and what you can do with them. To quickly recap, a list is a basic Python data structure which can hold multiple values of multiple data types such as integers, floats, strings, and so on. \n",
    "\n",
    "In this example, we have two lists “distance” and “speed.” Each list holds four different readings. These readings correspond to each other. "
   ]
  },
  {
   "cell_type": "code",
   "execution_count": 1,
   "id": "fc3bc40c",
   "metadata": {},
   "outputs": [],
   "source": [
    "distance = [100, 15, 900, 60]\n",
    "speed = [20, 0.75, 90, 5]"
   ]
  },
  {
   "cell_type": "code",
   "execution_count": 2,
   "id": "a1f97122",
   "metadata": {},
   "outputs": [
    {
     "ename": "TypeError",
     "evalue": "unsupported operand type(s) for /: 'list' and 'list'",
     "output_type": "error",
     "traceback": [
      "\u001b[1;31m---------------------------------------------------------------------------\u001b[0m",
      "\u001b[1;31mTypeError\u001b[0m                                 Traceback (most recent call last)",
      "Input \u001b[1;32mIn [2]\u001b[0m, in \u001b[0;36m<cell line: 1>\u001b[1;34m()\u001b[0m\n\u001b[1;32m----> 1\u001b[0m time \u001b[38;5;241m=\u001b[39m \u001b[43mdistance\u001b[49m\u001b[38;5;241;43m/\u001b[39;49m\u001b[43mspeed\u001b[49m\n\u001b[0;32m      2\u001b[0m time\n",
      "\u001b[1;31mTypeError\u001b[0m: unsupported operand type(s) for /: 'list' and 'list'"
     ]
    }
   ],
   "source": [
    "time = distance/speed\n",
    "time\n",
    "\n",
    "# TypeError: unsupported operand type(s) for /: 'list' and 'list'"
   ]
  },
  {
   "cell_type": "code",
   "execution_count": 3,
   "id": "9cd99c5e",
   "metadata": {},
   "outputs": [
    {
     "data": {
      "text/plain": [
       "[5.0, 20.0, 10.0, 12.0]"
      ]
     },
     "execution_count": 3,
     "metadata": {},
     "output_type": "execute_result"
    }
   ],
   "source": [
    "def DivList(L1, L2):\n",
    "    l1 = len(L1)\n",
    "    l2 = len(L2)\n",
    "    if l1 is not l2:\n",
    "        print (\"Error can not multiply two lists\")\n",
    "    for i in range(0, l1):\n",
    "        L3.append(L1[i] / L2[i])\n",
    "    return L3\n",
    "\n",
    "distance = [100, 15, 900, 60]\n",
    "speed = [20, 0.75, 90, 5]\n",
    "L3 = []\n",
    "DivList(distance, speed)"
   ]
  },
  {
   "cell_type": "markdown",
   "id": "5df6f1bd",
   "metadata": {},
   "source": [
    "Using these lists, if you try to calculate the time, which is equal to distance over time, it will give you an error. That’s because mathematical functions can’t be applied over an entire list. Now, let’s see how **NumPy** solves this problem.\n",
    "\n",
    "**A Python library is a collection of related modules. It contains bundles of code that can be used repeatedly in different programs.**"
   ]
  },
  {
   "cell_type": "markdown",
   "id": "53877a5b",
   "metadata": {},
   "source": [
    "# Numpy\n",
    "\n",
    "NumPy is a Python library that supports a data container called arrays. **Arrays are like lists, but they can do something that lists can’t.** They easily allow you to **apply mathematical operations over the entire dataset**. Let’s see how this works. \n",
    "\n",
    "First, you need to import the NumPy library. You then need to convert the ‘distance’ and ‘time’ lists into NumPy arrays. Apply the formula for time using these arrays. You can see that NumPy easily generates an output for each of the four readings. \n",
    "\n",
    "This property of NumPy makes a Data Scientist’s job much easier, because it helps them to easily manipulate data by applying mathematical functions over a given dataset."
   ]
  },
  {
   "cell_type": "code",
   "execution_count": 4,
   "id": "0d2b6b9f",
   "metadata": {},
   "outputs": [],
   "source": [
    "import numpy as np # calling the library with import and giving it an alias\n",
    "\n",
    "# sqrt = np.sqrt"
   ]
  },
  {
   "cell_type": "code",
   "execution_count": 5,
   "id": "8910b5eb",
   "metadata": {},
   "outputs": [],
   "source": [
    "np_distance = np.array(distance)\n",
    "np_speed = np.array(speed)"
   ]
  },
  {
   "cell_type": "code",
   "execution_count": 6,
   "id": "90230788",
   "metadata": {},
   "outputs": [
    {
     "data": {
      "text/plain": [
       "array([100,  15, 900,  60])"
      ]
     },
     "execution_count": 6,
     "metadata": {},
     "output_type": "execute_result"
    }
   ],
   "source": [
    "np_distance"
   ]
  },
  {
   "cell_type": "code",
   "execution_count": 7,
   "id": "79e3a65f",
   "metadata": {},
   "outputs": [
    {
     "data": {
      "text/plain": [
       "array([20.  ,  0.75, 90.  ,  5.  ])"
      ]
     },
     "execution_count": 7,
     "metadata": {},
     "output_type": "execute_result"
    }
   ],
   "source": [
    "np_speed"
   ]
  },
  {
   "cell_type": "code",
   "execution_count": 8,
   "id": "fced81ef",
   "metadata": {},
   "outputs": [
    {
     "data": {
      "text/plain": [
       "array([ 5., 20., 10., 12.])"
      ]
     },
     "execution_count": 8,
     "metadata": {},
     "output_type": "execute_result"
    }
   ],
   "source": [
    "time = np_distance/np_speed\n",
    "time"
   ]
  },
  {
   "cell_type": "markdown",
   "id": "c445a166",
   "metadata": {},
   "source": [
    "### Arrays\n",
    "\n",
    "- Arrays can be one-dimensional, two-dimensional, or multi-dimensional. \n",
    "- The best way to visualize an array is as rows and columns. You can also look at it by its dimensional axes or rank. \n",
    "- You can think of a one-dimensional array as a single row of values. So, a one-dimensional array has one axis or rank 1. \n",
    "- Two-dimensional arrays can be visualized with rows and columns. This means that it has two axes or rank 2. \n",
    "- A three-dimensional array has three axes and can be visualized as a cube which has height, width, and length.\n",
    "- Similarly, multi-dimensional arrays have multiple axes."
   ]
  },
  {
   "cell_type": "markdown",
   "id": "146c38ac",
   "metadata": {},
   "source": [
    "# Creating and Printing an array"
   ]
  },
  {
   "cell_type": "code",
   "execution_count": 9,
   "id": "5667819d",
   "metadata": {},
   "outputs": [
    {
     "name": "stdout",
     "output_type": "stream",
     "text": [
      "[1, 2, 3, 4, 5, 6]\n",
      "\n",
      "[1 2 3 4 5 6]\n",
      "<class 'numpy.ndarray'>\n"
     ]
    },
    {
     "data": {
      "text/plain": [
       "array([1, 2, 3, 4, 5, 6])"
      ]
     },
     "execution_count": 9,
     "metadata": {},
     "output_type": "execute_result"
    }
   ],
   "source": [
    "# Create a One Dimensional Array == Row\n",
    "\n",
    "list1 = [1,2,3,4,5,6]\n",
    "print (list1)\n",
    "print ()\n",
    "\n",
    "oneDimExample = np.array(list1)\n",
    "print (oneDimExample) # array looks just like a list\n",
    "print (type(oneDimExample)) # numpy.ndarray\n",
    "oneDimExample\n",
    "\n",
    "# n-dimensional array"
   ]
  },
  {
   "cell_type": "code",
   "execution_count": 10,
   "id": "cab21660",
   "metadata": {},
   "outputs": [
    {
     "data": {
      "text/plain": [
       "array([[1, 2, 3],\n",
       "       [4, 5, 6],\n",
       "       [7, 8, 9]])"
      ]
     },
     "execution_count": 10,
     "metadata": {},
     "output_type": "execute_result"
    }
   ],
   "source": [
    "# Create a two dimensional array == Matrix\n",
    "\n",
    "twoDimExample = np.array([[1,2,3],\n",
    "                         [4,5,6],\n",
    "                         [7,8,9]])\n",
    "twoDimExample"
   ]
  },
  {
   "cell_type": "code",
   "execution_count": 11,
   "id": "629ef1a2",
   "metadata": {},
   "outputs": [
    {
     "data": {
      "text/plain": [
       "array([[[  1,   2,   3],\n",
       "        [  4,   5,   6],\n",
       "        [  7,   8,   9],\n",
       "        [ 10,  11,  12]],\n",
       "\n",
       "       [[ 10,  20,  30],\n",
       "        [ 40,  50,  60],\n",
       "        [ 70,  80,  90],\n",
       "        [100, 110, 120]]])"
      ]
     },
     "execution_count": 11,
     "metadata": {},
     "output_type": "execute_result"
    }
   ],
   "source": [
    "# Create a three dimensional array == Cube\n",
    "\n",
    "arr_3d = np.array([[[1,2,3], [4,5,6], [7,8,9],[10,11,12]], \n",
    "                   [[10,20,30], [40,50,60], [70,80,90], [100,110,120]]])\n",
    "arr_3d"
   ]
  },
  {
   "cell_type": "markdown",
   "id": "4d618caf",
   "metadata": {},
   "source": [
    "# Class and Attributes of ndarray"
   ]
  },
  {
   "cell_type": "markdown",
   "id": "60eac466",
   "metadata": {},
   "source": [
    "Numpy’s array class is “ndarray,” also referred to as “numpy.ndarray.” The attributes of ndarray are:"
   ]
  },
  {
   "cell_type": "markdown",
   "id": "3251aa6a",
   "metadata": {},
   "source": [
    "## dim\n",
    "\n",
    "ndarray.ndim – This refers to the number of axes or the dimensions of the array, which means that it will indicate whether it is a one-dimensional, two-dimensional. It is also called the rank of the array."
   ]
  },
  {
   "cell_type": "code",
   "execution_count": 12,
   "id": "20c0c997",
   "metadata": {},
   "outputs": [
    {
     "name": "stdout",
     "output_type": "stream",
     "text": [
      "[1 2 3 4 5 6]\n"
     ]
    },
    {
     "data": {
      "text/plain": [
       "1"
      ]
     },
     "execution_count": 12,
     "metadata": {},
     "output_type": "execute_result"
    }
   ],
   "source": [
    "print (oneDimExample)\n",
    "oneDimExample.ndim"
   ]
  },
  {
   "cell_type": "code",
   "execution_count": 13,
   "id": "db674380",
   "metadata": {},
   "outputs": [
    {
     "name": "stdout",
     "output_type": "stream",
     "text": [
      "[[1 2 3]\n",
      " [4 5 6]\n",
      " [7 8 9]]\n"
     ]
    },
    {
     "data": {
      "text/plain": [
       "2"
      ]
     },
     "execution_count": 13,
     "metadata": {},
     "output_type": "execute_result"
    }
   ],
   "source": [
    "print (twoDimExample)\n",
    "twoDimExample.ndim"
   ]
  },
  {
   "cell_type": "code",
   "execution_count": 14,
   "id": "840bfd45",
   "metadata": {},
   "outputs": [
    {
     "name": "stdout",
     "output_type": "stream",
     "text": [
      "[[[  1   2   3]\n",
      "  [  4   5   6]\n",
      "  [  7   8   9]\n",
      "  [ 10  11  12]]\n",
      "\n",
      " [[ 10  20  30]\n",
      "  [ 40  50  60]\n",
      "  [ 70  80  90]\n",
      "  [100 110 120]]]\n"
     ]
    },
    {
     "data": {
      "text/plain": [
       "3"
      ]
     },
     "execution_count": 14,
     "metadata": {},
     "output_type": "execute_result"
    }
   ],
   "source": [
    "print (arr_3d)\n",
    "arr_3d.ndim"
   ]
  },
  {
   "cell_type": "markdown",
   "id": "312c6c33",
   "metadata": {},
   "source": [
    "## shape\n",
    "\n",
    "This consists of a tuple of integers showing the size of the array in each dimension. The length of the “shape tuple” is the rank or ndim.\n",
    "\n",
    "ndarray.shape describes the structure of an array. It consists of a tuple of integers indicating the size of the array in each dimension. For a matrix with n rows and m columns, the shape will be (n, m). So, the length of the shape tuple is the rank or ndim. \n",
    "\n",
    "The shape tuple of both the arrays indicate their size along each dimension."
   ]
  },
  {
   "cell_type": "code",
   "execution_count": 15,
   "id": "33ad4439",
   "metadata": {},
   "outputs": [
    {
     "name": "stdout",
     "output_type": "stream",
     "text": [
      "[1 2 3 4 5 6]\n"
     ]
    },
    {
     "data": {
      "text/plain": [
       "(6,)"
      ]
     },
     "execution_count": 15,
     "metadata": {},
     "output_type": "execute_result"
    }
   ],
   "source": [
    "print (oneDimExample)\n",
    "oneDimExample.shape"
   ]
  },
  {
   "cell_type": "code",
   "execution_count": 16,
   "id": "eb2aecdb",
   "metadata": {},
   "outputs": [
    {
     "name": "stdout",
     "output_type": "stream",
     "text": [
      "[[1 2 3]\n",
      " [4 5 6]\n",
      " [7 8 9]]\n"
     ]
    },
    {
     "data": {
      "text/plain": [
       "(3, 3)"
      ]
     },
     "execution_count": 16,
     "metadata": {},
     "output_type": "execute_result"
    }
   ],
   "source": [
    "print (twoDimExample)\n",
    "twoDimExample.shape"
   ]
  },
  {
   "cell_type": "code",
   "execution_count": 17,
   "id": "7401cccb",
   "metadata": {},
   "outputs": [
    {
     "name": "stdout",
     "output_type": "stream",
     "text": [
      "[[[  1   2   3]\n",
      "  [  4   5   6]\n",
      "  [  7   8   9]\n",
      "  [ 10  11  12]]\n",
      "\n",
      " [[ 10  20  30]\n",
      "  [ 40  50  60]\n",
      "  [ 70  80  90]\n",
      "  [100 110 120]]]\n"
     ]
    },
    {
     "data": {
      "text/plain": [
       "(2, 4, 3)"
      ]
     },
     "execution_count": 17,
     "metadata": {},
     "output_type": "execute_result"
    }
   ],
   "source": [
    "print (arr_3d)\n",
    "arr_3d.shape\n",
    "\n",
    "# (no. of matrix, no. of rows, no. of cols)"
   ]
  },
  {
   "cell_type": "markdown",
   "id": "a6676b03",
   "metadata": {},
   "source": [
    "## size\n",
    "\n",
    "It gives the total number of elements in the array. It is equal to the product of the elements of the shape tuple.\n",
    "ndarray.size indicates the number of elements present in an array. It is equal to the product of the elements of its shape tuple."
   ]
  },
  {
   "cell_type": "code",
   "execution_count": 18,
   "id": "be70c496",
   "metadata": {},
   "outputs": [
    {
     "name": "stdout",
     "output_type": "stream",
     "text": [
      "[1 2 3 4 5 6]\n"
     ]
    },
    {
     "data": {
      "text/plain": [
       "6"
      ]
     },
     "execution_count": 18,
     "metadata": {},
     "output_type": "execute_result"
    }
   ],
   "source": [
    "print (oneDimExample)\n",
    "oneDimExample.size"
   ]
  },
  {
   "cell_type": "code",
   "execution_count": 19,
   "id": "5297d876",
   "metadata": {},
   "outputs": [
    {
     "name": "stdout",
     "output_type": "stream",
     "text": [
      "[[1 2 3]\n",
      " [4 5 6]\n",
      " [7 8 9]]\n"
     ]
    },
    {
     "data": {
      "text/plain": [
       "9"
      ]
     },
     "execution_count": 19,
     "metadata": {},
     "output_type": "execute_result"
    }
   ],
   "source": [
    "print (twoDimExample)\n",
    "twoDimExample.size"
   ]
  },
  {
   "cell_type": "code",
   "execution_count": 20,
   "id": "288d7a62",
   "metadata": {},
   "outputs": [
    {
     "name": "stdout",
     "output_type": "stream",
     "text": [
      "[[[  1   2   3]\n",
      "  [  4   5   6]\n",
      "  [  7   8   9]\n",
      "  [ 10  11  12]]\n",
      "\n",
      " [[ 10  20  30]\n",
      "  [ 40  50  60]\n",
      "  [ 70  80  90]\n",
      "  [100 110 120]]]\n"
     ]
    },
    {
     "data": {
      "text/plain": [
       "24"
      ]
     },
     "execution_count": 20,
     "metadata": {},
     "output_type": "execute_result"
    }
   ],
   "source": [
    "print (arr_3d)\n",
    "arr_3d.size"
   ]
  },
  {
   "cell_type": "markdown",
   "id": "41cb74dd",
   "metadata": {},
   "source": [
    "# Built-in Mathematical Functions"
   ]
  },
  {
   "cell_type": "code",
   "execution_count": 21,
   "id": "1db78dad",
   "metadata": {},
   "outputs": [],
   "source": [
    "A = [10,15,17,26]\n",
    "B = [12,11,21,24]\n",
    "\n",
    "A = np.array(A)\n",
    "B = np.array(B)"
   ]
  },
  {
   "cell_type": "code",
   "execution_count": 22,
   "id": "50a0bee1",
   "metadata": {},
   "outputs": [
    {
     "data": {
      "text/plain": [
       "array([22, 26, 38, 50])"
      ]
     },
     "execution_count": 22,
     "metadata": {},
     "output_type": "execute_result"
    }
   ],
   "source": [
    "A + B"
   ]
  },
  {
   "cell_type": "code",
   "execution_count": 23,
   "id": "04bdca17",
   "metadata": {},
   "outputs": [
    {
     "data": {
      "text/plain": [
       "array([-2,  4, -4,  2])"
      ]
     },
     "execution_count": 23,
     "metadata": {},
     "output_type": "execute_result"
    }
   ],
   "source": [
    "A - B"
   ]
  },
  {
   "cell_type": "code",
   "execution_count": 24,
   "id": "27ec60e9",
   "metadata": {},
   "outputs": [
    {
     "data": {
      "text/plain": [
       "array([120, 165, 357, 624])"
      ]
     },
     "execution_count": 24,
     "metadata": {},
     "output_type": "execute_result"
    }
   ],
   "source": [
    "A * B"
   ]
  },
  {
   "cell_type": "code",
   "execution_count": 25,
   "id": "4664b54e",
   "metadata": {},
   "outputs": [
    {
     "data": {
      "text/plain": [
       "array([0.83333333, 1.36363636, 0.80952381, 1.08333333])"
      ]
     },
     "execution_count": 25,
     "metadata": {},
     "output_type": "execute_result"
    }
   ],
   "source": [
    "A / B"
   ]
  },
  {
   "cell_type": "code",
   "execution_count": 26,
   "id": "57f40888",
   "metadata": {},
   "outputs": [
    {
     "data": {
      "text/plain": [
       "array([100, 225, 289, 676], dtype=int32)"
      ]
     },
     "execution_count": 26,
     "metadata": {},
     "output_type": "execute_result"
    }
   ],
   "source": [
    "A **2 # ** power of"
   ]
  },
  {
   "cell_type": "code",
   "execution_count": 27,
   "id": "65bc8051",
   "metadata": {},
   "outputs": [
    {
     "ename": "NameError",
     "evalue": "name 'sqrt' is not defined",
     "output_type": "error",
     "traceback": [
      "\u001b[1;31m---------------------------------------------------------------------------\u001b[0m",
      "\u001b[1;31mNameError\u001b[0m                                 Traceback (most recent call last)",
      "Input \u001b[1;32mIn [27]\u001b[0m, in \u001b[0;36m<cell line: 1>\u001b[1;34m()\u001b[0m\n\u001b[1;32m----> 1\u001b[0m \u001b[43msqrt\u001b[49m(A)\n",
      "\u001b[1;31mNameError\u001b[0m: name 'sqrt' is not defined"
     ]
    }
   ],
   "source": [
    "sqrt(A)"
   ]
  },
  {
   "cell_type": "code",
   "execution_count": 28,
   "id": "2d1fdfca",
   "metadata": {},
   "outputs": [
    {
     "data": {
      "text/plain": [
       "array([3.16227766, 3.87298335, 4.12310563, 5.09901951])"
      ]
     },
     "execution_count": 28,
     "metadata": {},
     "output_type": "execute_result"
    }
   ],
   "source": [
    "np.sqrt(A)"
   ]
  },
  {
   "cell_type": "code",
   "execution_count": 29,
   "id": "2ec96206",
   "metadata": {},
   "outputs": [
    {
     "name": "stdout",
     "output_type": "stream",
     "text": [
      "[1. 1. 4. 2. 3. 5.]\n"
     ]
    }
   ],
   "source": [
    "print (np.floor([1.2,1.3,4.9,2.6,3.3,5.6])) # nearest lowest integer"
   ]
  },
  {
   "cell_type": "code",
   "execution_count": 30,
   "id": "be54e9a8",
   "metadata": {},
   "outputs": [
    {
     "name": "stdout",
     "output_type": "stream",
     "text": [
      "[1. 1. 5. 3. 3. 6.]\n"
     ]
    }
   ],
   "source": [
    "print (np.round([1.2,1.3,4.9,2.6,3.3,5.6]))"
   ]
  },
  {
   "cell_type": "code",
   "execution_count": 31,
   "id": "b21506f2",
   "metadata": {},
   "outputs": [
    {
     "name": "stdout",
     "output_type": "stream",
     "text": [
      "[2. 2. 5. 3. 4. 6.]\n"
     ]
    }
   ],
   "source": [
    "print (np.ceil([1.2,1.3,4.9,2.6,3.3,5.6])) # nearest greater integer"
   ]
  },
  {
   "cell_type": "code",
   "execution_count": 32,
   "id": "deee56ff",
   "metadata": {},
   "outputs": [
    {
     "data": {
      "text/plain": [
       "array([2, 3, 5, 8])"
      ]
     },
     "execution_count": 32,
     "metadata": {},
     "output_type": "execute_result"
    }
   ],
   "source": [
    "array_a = np.array([2, 3, 5, 8])\n",
    "array_a"
   ]
  },
  {
   "cell_type": "code",
   "execution_count": 33,
   "id": "7b01dca5",
   "metadata": {},
   "outputs": [
    {
     "data": {
      "text/plain": [
       "array([2, 3])"
      ]
     },
     "execution_count": 33,
     "metadata": {},
     "output_type": "execute_result"
    }
   ],
   "source": [
    "array_d = np.array([2, 3])\n",
    "array_d"
   ]
  },
  {
   "cell_type": "code",
   "execution_count": 34,
   "id": "c83b723e",
   "metadata": {},
   "outputs": [
    {
     "ename": "ValueError",
     "evalue": "operands could not be broadcast together with shapes (4,) (2,) ",
     "output_type": "error",
     "traceback": [
      "\u001b[1;31m---------------------------------------------------------------------------\u001b[0m",
      "\u001b[1;31mValueError\u001b[0m                                Traceback (most recent call last)",
      "Input \u001b[1;32mIn [34]\u001b[0m, in \u001b[0;36m<cell line: 1>\u001b[1;34m()\u001b[0m\n\u001b[1;32m----> 1\u001b[0m \u001b[43marray_a\u001b[49m\u001b[43m \u001b[49m\u001b[38;5;241;43m+\u001b[39;49m\u001b[43m \u001b[49m\u001b[43marray_d\u001b[49m\n",
      "\u001b[1;31mValueError\u001b[0m: operands could not be broadcast together with shapes (4,) (2,) "
     ]
    }
   ],
   "source": [
    "array_a + array_d"
   ]
  },
  {
   "cell_type": "markdown",
   "id": "a9b95af6",
   "metadata": {},
   "source": [
    "# Broadcasting"
   ]
  },
  {
   "cell_type": "markdown",
   "id": "7c7d6618",
   "metadata": {},
   "source": [
    "NumPy uses broadcasting to carry out arithmetic operations between arrays of different shapes. \n",
    "\n",
    "To understand how this works, let’s look at the examples shown here. Array_a and array_b have the same shape, which is one row and four columns. So, to calculate the product of the two arrays, NumPy conducts an element-wise multiplication. \n",
    "\n",
    "However, scalar_c is a single scalar value. Its shape doesn’t match with array_a. In this case, NumPy doesn’t have to create copies of the scalar value to multiply it element-wise with the array elements. Instead, it broadcasts the scalar value over the entire array to find the product. This saves memory space as an array takes a lot more memory than a scalar.\n"
   ]
  },
  {
   "cell_type": "markdown",
   "id": "bb1ca375",
   "metadata": {},
   "source": [
    "Though broadcasting can help carry out mathematical operations between different-shaped arrays, they are subject to certain constraints as listed below:\n",
    "\n",
    "When NumPy operates on two arrays, it compares their shapes element-wise. It finds these shapes compatible only if:\n",
    "Their dimensions are the same or one of them has a dimension of size 1.\n",
    "If these conditions are not met, a \"ValueError” is thrown, indicating that the arrays have incompatible shapes.\n"
   ]
  },
  {
   "cell_type": "code",
   "execution_count": 35,
   "id": "75cf1c70",
   "metadata": {},
   "outputs": [],
   "source": [
    "# [2, 3, 5, 8] * 0.3"
   ]
  },
  {
   "cell_type": "code",
   "execution_count": 36,
   "id": "87c51732",
   "metadata": {},
   "outputs": [
    {
     "data": {
      "text/plain": [
       "array([2, 3, 5, 8])"
      ]
     },
     "execution_count": 36,
     "metadata": {},
     "output_type": "execute_result"
    }
   ],
   "source": [
    "array_a = np.array([2, 3, 5, 8])\n",
    "array_a"
   ]
  },
  {
   "cell_type": "code",
   "execution_count": 37,
   "id": "8a3b467f",
   "metadata": {},
   "outputs": [
    {
     "data": {
      "text/plain": [
       "array([0.3, 0.3, 0.3, 0.3])"
      ]
     },
     "execution_count": 37,
     "metadata": {},
     "output_type": "execute_result"
    }
   ],
   "source": [
    "array_b = np.array([0.3,0.3,0.3,0.3])\n",
    "array_b"
   ]
  },
  {
   "cell_type": "code",
   "execution_count": 38,
   "id": "81c0c237",
   "metadata": {},
   "outputs": [
    {
     "data": {
      "text/plain": [
       "array([0.6, 0.9, 1.5, 2.4])"
      ]
     },
     "execution_count": 38,
     "metadata": {},
     "output_type": "execute_result"
    }
   ],
   "source": [
    "array_a * array_b"
   ]
  },
  {
   "cell_type": "code",
   "execution_count": 39,
   "id": "a7cef701",
   "metadata": {},
   "outputs": [
    {
     "data": {
      "text/plain": [
       "array([0.6, 0.9, 1.5, 2.4])"
      ]
     },
     "execution_count": 39,
     "metadata": {},
     "output_type": "execute_result"
    }
   ],
   "source": [
    "array_a * 0.3 # it broadcasts the value over the entire array to find the product"
   ]
  },
  {
   "cell_type": "markdown",
   "id": "5e377c8b",
   "metadata": {},
   "source": [
    "Let’s look at an example to see how broadcasting works:\n",
    "- The two datasets represent a worker’s earnings over a period of two weeks, excluding weekends.\n",
    "- The total earning after two weeks is the vector addition where **element-wise arithmetic operation is performed**.\n",
    "- To calculate the number of hours worked for each day in week one, you need to divide the week one dataset by 15, which is the hourly wage. This arithmetic operation is carried out through **broadcasting**."
   ]
  },
  {
   "cell_type": "code",
   "execution_count": 40,
   "id": "2d26a105",
   "metadata": {},
   "outputs": [],
   "source": [
    "np_week_one = np.array([105,135,195,120,165])\n",
    "np_week_two = np.array([123,156,230,200,147])"
   ]
  },
  {
   "cell_type": "code",
   "execution_count": 41,
   "id": "e04eb94c",
   "metadata": {},
   "outputs": [
    {
     "name": "stdout",
     "output_type": "stream",
     "text": [
      "[228 291 425 320 312]\n"
     ]
    }
   ],
   "source": [
    "# **element-wise arithmetic operation is performed**\n",
    "\n",
    "total_earning = np_week_one + np_week_two\n",
    "print (total_earning)"
   ]
  },
  {
   "cell_type": "code",
   "execution_count": 42,
   "id": "3223155c",
   "metadata": {},
   "outputs": [
    {
     "name": "stdout",
     "output_type": "stream",
     "text": [
      "[ 7.  9. 13.  8. 11.]\n"
     ]
    }
   ],
   "source": [
    "# **broadcasting**\n",
    "\n",
    "np_week_one_hrs = np_week_one/15    # 15, which is the hourly wage\n",
    "print (np_week_one_hrs)"
   ]
  },
  {
   "cell_type": "code",
   "execution_count": null,
   "id": "311e2bf7",
   "metadata": {},
   "outputs": [],
   "source": []
  }
 ],
 "metadata": {
  "kernelspec": {
   "display_name": "Python 3 (ipykernel)",
   "language": "python",
   "name": "python3"
  },
  "language_info": {
   "codemirror_mode": {
    "name": "ipython",
    "version": 3
   },
   "file_extension": ".py",
   "mimetype": "text/x-python",
   "name": "python",
   "nbconvert_exporter": "python",
   "pygments_lexer": "ipython3",
   "version": "3.9.12"
  }
 },
 "nbformat": 4,
 "nbformat_minor": 5
}

{
 "cells": [
  {
   "cell_type": "markdown",
   "id": "3c28c0f7",
   "metadata": {},
   "source": [
    "# Loops -- Its all about re-iterating the statement multiple times subject to condition\n",
    "# For loop --- To traverse and perform operation on a collection object !!!"
   ]
  },
  {
   "cell_type": "markdown",
   "id": "85ac7def",
   "metadata": {},
   "source": [
    "# FOR LOOP\n",
    "\n",
    "- iterates through items in python that are in a sequence or any other iterable item.\n",
    "- can iterate through strings, lists, tuples and dictionaries using keys and values \n",
    "- The variable name used for the item is completely up to the coder\n",
    "- Best practice is to create meaningful variables\n",
    "- This item name can then be referenced inside your loop, \n",
    "  for example if you wanted to use <code>if</code> statements to perform checks."
   ]
  },
  {
   "cell_type": "raw",
   "id": "f4a299a7",
   "metadata": {},
   "source": [
    "For Loops:\n",
    "\n",
    "A for loop acts as an iterator in Python; it goes through items that are in a sequence or any other iterable item. Objects that we've learned about that we can iterate over include strings, lists, tuples, and even built-in iterables for dictionaries, such as keys or values.\n",
    "\n",
    "Here's the general format for a for loop in Python:\n",
    "\n",
    "for item in object:\n",
    "    statements to do stuff"
   ]
  },
  {
   "cell_type": "raw",
   "id": "175ceee8",
   "metadata": {},
   "source": [
    "- syntax\n",
    "    for <itemname> in <objectname>:        ### itemname is a variable, objectname is lists/tuples/dictionary/string etc\n",
    "        statements to execute              ### actions to perform"
   ]
  },
  {
   "cell_type": "code",
   "execution_count": 1,
   "id": "8f935dfb",
   "metadata": {},
   "outputs": [
    {
     "name": "stdout",
     "output_type": "stream",
     "text": [
      "[1, 2, 3, 4, 5, 6, 7, 8, 9, 10]\n"
     ]
    }
   ],
   "source": [
    "for_list = [1,2,3,4,5,6,7,8,9,10]\n",
    "print (for_list)"
   ]
  },
  {
   "cell_type": "code",
   "execution_count": 2,
   "id": "dc0277ca",
   "metadata": {
    "collapsed": true
   },
   "outputs": [
    {
     "name": "stdout",
     "output_type": "stream",
     "text": [
      "1\n",
      "2\n",
      "3\n",
      "4\n",
      "5\n",
      "6\n",
      "7\n",
      "8\n",
      "9\n",
      "10\n"
     ]
    }
   ],
   "source": [
    "for i in for_list: # the variable i is autodefined by for loop and type is auto assigned based on values in the list\n",
    "    print (i)"
   ]
  },
  {
   "cell_type": "code",
   "execution_count": 3,
   "id": "0d416335",
   "metadata": {},
   "outputs": [
    {
     "data": {
      "text/plain": [
       "10"
      ]
     },
     "execution_count": 3,
     "metadata": {},
     "output_type": "execute_result"
    }
   ],
   "source": [
    "i"
   ]
  },
  {
   "cell_type": "code",
   "execution_count": 5,
   "id": "50f1ac4d",
   "metadata": {
    "collapsed": true
   },
   "outputs": [
    {
     "name": "stdout",
     "output_type": "stream",
     "text": [
      "[1230, 'Apple and Orange', 3.14, True]\n",
      "\n",
      "1230 <class 'int'>\n",
      "\n",
      "Apple and Orange <class 'str'>\n",
      "\n",
      "3.14 <class 'float'>\n",
      "\n",
      "True <class 'bool'>\n",
      "\n"
     ]
    }
   ],
   "source": [
    "list1 = [1230, \"Apple and Orange\", 3.14, True]\n",
    "print (list1)\n",
    "print ()\n",
    "\n",
    "for ele in list1: # the variable ele is autodefined by for loop and type is auto assigned based on values in the list\n",
    "    print (ele, type(ele))\n",
    "    print ()"
   ]
  },
  {
   "cell_type": "markdown",
   "id": "140f081f",
   "metadata": {},
   "source": [
    "# Square the items in the list"
   ]
  },
  {
   "cell_type": "code",
   "execution_count": 7,
   "id": "2282ba0b",
   "metadata": {
    "collapsed": true
   },
   "outputs": [
    {
     "name": "stdout",
     "output_type": "stream",
     "text": [
      "1\n",
      "4\n",
      "9\n",
      "16\n",
      "25\n",
      "36\n",
      "49\n",
      "64\n",
      "81\n",
      "100\n"
     ]
    }
   ],
   "source": [
    "# for every item in the list for_list, find the square of that item\n",
    "\n",
    "for num1 in for_list:\n",
    "#     print (num1)\n",
    "    print (num1**2) # ** - power of\n",
    "#     print ()"
   ]
  },
  {
   "cell_type": "code",
   "execution_count": 9,
   "id": "c69a43a3",
   "metadata": {
    "collapsed": true
   },
   "outputs": [
    {
     "name": "stdout",
     "output_type": "stream",
     "text": [
      "1\n",
      "\n",
      "False\n"
     ]
    }
   ],
   "source": [
    "print (5%2) # remainder for 5/2\n",
    "print ()\n",
    "print (5%2 == 0) # == validates equality # checking if remainder for 5/2 is 0 === check if the number is even"
   ]
  },
  {
   "cell_type": "code",
   "execution_count": 10,
   "id": "a14ae730",
   "metadata": {
    "collapsed": true
   },
   "outputs": [
    {
     "name": "stdout",
     "output_type": "stream",
     "text": [
      "[1, 2, 3, 4, 5, 6, 7, 8, 9, 10]\n",
      "\n",
      "Number is even :  2\n",
      "Square is :  4\n",
      "\n",
      "Number is even :  4\n",
      "Square is :  16\n",
      "\n",
      "Number is even :  6\n",
      "Square is :  36\n",
      "\n",
      "Number is even :  8\n",
      "Square is :  64\n",
      "\n",
      "Number is even :  10\n",
      "Square is :  100\n",
      "\n"
     ]
    }
   ],
   "source": [
    "# find the even numbers and square them\n",
    "\n",
    "for_list = [1,2,3,4,5,6,7,8,9,10]\n",
    "print (for_list)\n",
    "print ()\n",
    "\n",
    "for i in for_list:\n",
    "    if i%2 == 0:       # True then the remainder with division by 2 is 0\n",
    "        print (\"Number is even : \", i)\n",
    "        print (\"Square is : \", i**2)\n",
    "        print ()"
   ]
  },
  {
   "cell_type": "code",
   "execution_count": 14,
   "id": "3478e773",
   "metadata": {},
   "outputs": [
    {
     "name": "stdout",
     "output_type": "stream",
     "text": [
      "[1, 2, 3, 4, 5, 6, 7, 8, 9, 10]\n",
      "\n",
      "[2, 4, 6, 8, 10, 12, 14, 16, 18, 20]\n"
     ]
    }
   ],
   "source": [
    "# Multiply each value in a list with 2 and save that in a list named Alist and print Alist\n",
    "\n",
    "for_list = [1,2,3,4,5,6,7,8,9,10]\n",
    "print (for_list)\n",
    "print () \n",
    "\n",
    "Alist = []\n",
    "# print (Alist)\n",
    "# print ()\n",
    "\n",
    "for xyz in for_list:\n",
    "    num = xyz * 2\n",
    "    Alist.append(num)\n",
    "print (Alist)"
   ]
  },
  {
   "cell_type": "markdown",
   "id": "cc5941a7",
   "metadata": {},
   "source": [
    "# Range"
   ]
  },
  {
   "cell_type": "code",
   "execution_count": 15,
   "id": "c72f4679",
   "metadata": {},
   "outputs": [
    {
     "data": {
      "text/plain": [
       "[1, 2, 3, 4, 5, 6, 7, 8, 9]"
      ]
     },
     "execution_count": 15,
     "metadata": {},
     "output_type": "execute_result"
    }
   ],
   "source": [
    "# Range function in python - Allows users to create a range of values and store the same in the form of collection\n",
    "\n",
    "# range(start_value, upper_bound_value) \n",
    "# Where\n",
    "# upper_bound_value = endvalue - 1\n",
    "\n",
    "list(range(1,10))"
   ]
  },
  {
   "cell_type": "code",
   "execution_count": 3,
   "id": "4c7c0cd1",
   "metadata": {
    "collapsed": true
   },
   "outputs": [
    {
     "name": "stdout",
     "output_type": "stream",
     "text": [
      "[1, 2, 3, 4, 5, 6, 7, 8, 9, 10, 11, 12, 13, 14, 15, 16, 17, 18, 19, 20, 21, 22, 23, 24, 25, 26, 27, 28, 29, 30, 31, 32, 33, 34, 35, 36, 37, 38, 39, 40, 41, 42, 43, 44, 45, 46, 47, 48, 49, 50, 51, 52, 53, 54, 55, 56, 57, 58, 59, 60, 61, 62, 63, 64, 65, 66, 67, 68, 69, 70, 71, 72, 73, 74, 75, 76, 77, 78, 79, 80, 81, 82, 83, 84, 85, 86, 87, 88, 89, 90, 91, 92, 93, 94, 95, 96, 97, 98, 99, 100]\n",
      "\n",
      "[2, 4, 6, 8, 10, 12, 14, 16, 18, 20, 22, 24, 26, 28, 30, 32, 34, 36, 38, 40, 42, 44, 46, 48, 50, 52, 54, 56, 58, 60, 62, 64, 66, 68, 70, 72, 74, 76, 78, 80, 82, 84, 86, 88, 90, 92, 94, 96, 98, 100]\n",
      "\n",
      "[1, 3, 5, 7, 9, 11, 13, 15, 17, 19, 21, 23, 25, 27, 29, 31, 33, 35, 37, 39, 41, 43, 45, 47, 49, 51, 53, 55, 57, 59, 61, 63, 65, 67, 69, 71, 73, 75, 77, 79, 81, 83, 85, 87, 89, 91, 93, 95, 97, 99]\n"
     ]
    }
   ],
   "source": [
    "# Create a list containing numbers from 1 to 100, name it Blist\n",
    "# Create a list of even numbers, name it EvenList, and a list of odd numbers from Blist using a for loop, name it OddList\n",
    "\n",
    "Blist = list(range(1,101))\n",
    "print (Blist)\n",
    "print ()\n",
    "\n",
    "EvenList = []\n",
    "OddList = []\n",
    "\n",
    "for i in Blist:\n",
    "    if (i%2) == 0: # will give remainder of the division == check for if the number is even\n",
    "        EvenList.append(i)\n",
    "    else:\n",
    "        OddList.append(i)\n",
    "\n",
    "print (EvenList)\n",
    "print ()\n",
    "print (OddList)"
   ]
  },
  {
   "cell_type": "markdown",
   "id": "467df073",
   "metadata": {},
   "source": [
    "# Iterating through strings"
   ]
  },
  {
   "cell_type": "code",
   "execution_count": 4,
   "id": "735e32ad",
   "metadata": {
    "collapsed": true
   },
   "outputs": [
    {
     "name": "stdout",
     "output_type": "stream",
     "text": [
      "t\n",
      "h\n",
      "i\n",
      "s\n",
      " \n",
      "i\n",
      "s\n",
      " \n",
      "a\n",
      " \n",
      "s\n",
      "t\n",
      "r\n",
      "i\n",
      "n\n",
      "g\n"
     ]
    }
   ],
   "source": [
    "## iterating through strings\n",
    "\n",
    "for letter in 'this is a string':\n",
    "    print (letter)"
   ]
  },
  {
   "cell_type": "markdown",
   "id": "9c11aeac",
   "metadata": {},
   "source": [
    "# Iterating through tuples"
   ]
  },
  {
   "cell_type": "code",
   "execution_count": 5,
   "id": "a4389800",
   "metadata": {
    "collapsed": true
   },
   "outputs": [
    {
     "name": "stdout",
     "output_type": "stream",
     "text": [
      "1\n",
      "2\n",
      "3\n",
      "4\n",
      "5\n"
     ]
    }
   ],
   "source": [
    "# iterating through tuples\n",
    "\n",
    "tup1 = (1,2,3,4,5)\n",
    "\n",
    "for t in tup1:\n",
    "    print(t)"
   ]
  },
  {
   "cell_type": "markdown",
   "id": "f53f2003",
   "metadata": {},
   "source": [
    "# Iterating through dictionaries"
   ]
  },
  {
   "cell_type": "code",
   "execution_count": 6,
   "id": "3030c36f",
   "metadata": {},
   "outputs": [
    {
     "name": "stdout",
     "output_type": "stream",
     "text": [
      "k1\n",
      "k2\n",
      "k3\n"
     ]
    }
   ],
   "source": [
    "# iterating through dictionaries\n",
    "\n",
    "my_dict = {'k1': 1,'k2': 2,'k3': 3}\n",
    "\n",
    "# this will only print the keys by default!!! \n",
    "\n",
    "for itm_dict in my_dict:\n",
    "    print (itm_dict)"
   ]
  },
  {
   "cell_type": "code",
   "execution_count": 7,
   "id": "bc624370",
   "metadata": {},
   "outputs": [
    {
     "name": "stdout",
     "output_type": "stream",
     "text": [
      "('k1', 1)\n",
      "('k2', 2)\n",
      "('k3', 3)\n"
     ]
    }
   ],
   "source": [
    "# this will only print the keys and values \n",
    "\n",
    "for itm_dict in my_dict.items():\n",
    "    print(itm_dict)"
   ]
  },
  {
   "cell_type": "code",
   "execution_count": 8,
   "id": "5b9da7d3",
   "metadata": {},
   "outputs": [
    {
     "name": "stdout",
     "output_type": "stream",
     "text": [
      "1\n",
      "2\n",
      "3\n"
     ]
    }
   ],
   "source": [
    "# this will only values \n",
    "\n",
    "for itm_dict in my_dict.values():\n",
    "    print(itm_dict)"
   ]
  },
  {
   "cell_type": "markdown",
   "id": "3f524830",
   "metadata": {},
   "source": [
    "## pass \n",
    "\n",
    "- can be used as a placeholder for future code to be written and yet be able to execute the current code without errors"
   ]
  },
  {
   "cell_type": "code",
   "execution_count": 9,
   "id": "0b20aca0",
   "metadata": {},
   "outputs": [
    {
     "name": "stdout",
     "output_type": "stream",
     "text": [
      "[99, 90, 567]\n",
      "\n",
      "99\n",
      "90\n",
      "567\n",
      "\n",
      "out of for loop\n"
     ]
    }
   ],
   "source": [
    "x = [99, 90, 567]\n",
    "print (x)\n",
    "print ()\n",
    "\n",
    "for itm in x:\n",
    "    print (itm)\n",
    "\n",
    "print ()\n",
    "print ('out of for loop')"
   ]
  },
  {
   "cell_type": "code",
   "execution_count": 12,
   "id": "4779f4c2",
   "metadata": {},
   "outputs": [
    {
     "name": "stdout",
     "output_type": "stream",
     "text": [
      "[99, 90, 567]\n",
      "\n",
      "\n",
      "out of for loop\n"
     ]
    }
   ],
   "source": [
    "x = [99, 90, 567]\n",
    "print (x)\n",
    "print ()\n",
    "\n",
    "for itm in x:\n",
    "    pass\n",
    "\n",
    "print ()\n",
    "print ('out of for loop')"
   ]
  },
  {
   "cell_type": "markdown",
   "id": "3f5e48e3",
   "metadata": {},
   "source": [
    "## Continue\n",
    "\n",
    "The continue statement in Python **returns the control to the beginning of the loop**. The continue statement rejects all the remaining statements in the current iteration of the loop and moves the control back to the top of the loop.\n",
    "\n",
    "The continue statement can be used in both while and for loops."
   ]
  },
  {
   "cell_type": "code",
   "execution_count": 13,
   "id": "a04ee412",
   "metadata": {
    "collapsed": true
   },
   "outputs": [
    {
     "name": "stdout",
     "output_type": "stream",
     "text": [
      "#\n",
      "B\n",
      "i\n",
      "g\n",
      " \n",
      "D\n",
      "a\n",
      "t\n",
      "a\n",
      " \n",
      "@\n",
      "a\n",
      "n\n",
      "d\n",
      " \n",
      "A\n",
      "n\n",
      "a\n",
      "l\n",
      "y\n",
      "$\n",
      "t\n",
      "i\n",
      "c\n",
      "s\n",
      "@\n"
     ]
    }
   ],
   "source": [
    "Str = \"#Big Data @and Analy$tics@\"\n",
    "for letter in Str:\n",
    "    print (letter)"
   ]
  },
  {
   "cell_type": "markdown",
   "id": "5e3b91f8",
   "metadata": {},
   "source": [
    "**While priniting if we don't want the #, @, $ and space, how do we print?**"
   ]
  },
  {
   "cell_type": "code",
   "execution_count": 14,
   "id": "b6706686",
   "metadata": {
    "collapsed": true
   },
   "outputs": [
    {
     "name": "stdout",
     "output_type": "stream",
     "text": [
      "B\n",
      "i\n",
      "g\n",
      "D\n",
      "a\n",
      "t\n",
      "a\n",
      "a\n",
      "n\n",
      "d\n",
      "A\n",
      "n\n",
      "a\n",
      "l\n",
      "y\n",
      "t\n",
      "i\n",
      "c\n",
      "s\n"
     ]
    }
   ],
   "source": [
    "Str = \"#Big Data @and Analy$tics@\"\n",
    "\n",
    "for i in Str:\n",
    "    if i == \"#\" or i == \"@\" or i == \"$\" or i == \" \":\n",
    "        continue\n",
    "    print (i)"
   ]
  },
  {
   "cell_type": "code",
   "execution_count": 17,
   "id": "2582467f",
   "metadata": {
    "collapsed": true
   },
   "outputs": [
    {
     "name": "stdout",
     "output_type": "stream",
     "text": [
      "Got \"#\", \"@\", \"$\" or a space, so continuing\n",
      "B\n",
      "i\n",
      "g\n",
      "Got \"#\", \"@\", \"$\" or a space, so continuing\n",
      "D\n",
      "a\n",
      "t\n",
      "a\n",
      "Got \"#\", \"@\", \"$\" or a space, so continuing\n",
      "Got \"#\", \"@\", \"$\" or a space, so continuing\n",
      "a\n",
      "n\n",
      "d\n",
      "Got \"#\", \"@\", \"$\" or a space, so continuing\n",
      "A\n",
      "n\n",
      "a\n",
      "l\n",
      "y\n",
      "Got \"#\", \"@\", \"$\" or a space, so continuing\n",
      "t\n",
      "i\n",
      "c\n",
      "s\n",
      "Got \"#\", \"@\", \"$\" or a space, so continuing\n"
     ]
    }
   ],
   "source": [
    "Str = \"#Big Data @and Analy$tics@\"\n",
    "\n",
    "for i in Str:\n",
    "    if i == \"#\" or i == \"@\" or i == \"$\" or i == \" \":\n",
    "        print ('Got \"#\", \"@\", \"$\" or a space, so continuing')\n",
    "        continue\n",
    "    print (i)"
   ]
  },
  {
   "cell_type": "markdown",
   "id": "ab618068",
   "metadata": {},
   "source": [
    "## Break\n",
    "\n",
    "The break statement in Python **terminates the current loop**. The break statement can be used in both while and for loops."
   ]
  },
  {
   "cell_type": "code",
   "execution_count": 18,
   "id": "3776e220",
   "metadata": {},
   "outputs": [
    {
     "name": "stdout",
     "output_type": "stream",
     "text": [
      "B\n",
      "i\n",
      "g\n",
      "D\n",
      "a\n",
      "t\n",
      "a\n",
      "a\n",
      "n\n",
      "d\n",
      "Got \"#\", \"@\", \"$\" or a space, so breaking the loop\n"
     ]
    }
   ],
   "source": [
    "Str = 'BigDataand@Analytics@'\n",
    "\n",
    "for i in Str:\n",
    "    if i == \"#\" or i == \"@\" or i == \"$\" or i == \" \":\n",
    "        print ('Got \"#\", \"@\", \"$\" or a space, so breaking the loop')\n",
    "        break\n",
    "    print (i)"
   ]
  },
  {
   "cell_type": "markdown",
   "id": "38a5dab1",
   "metadata": {},
   "source": [
    "# While Loops"
   ]
  },
  {
   "cell_type": "markdown",
   "id": "a4a13a0a",
   "metadata": {},
   "source": [
    "while Loops\n",
    "The while statement in Python is one of most general ways to perform iteration. A while statement will repeatedly execute a single statement or group of statements as long as the condition is true. The reason it is called a 'loop' is because the code statements are looped through over and over again until the condition is no longer met.\n",
    "\n",
    "The general format of a while loop is:\n",
    "\n",
    "while test:\n",
    "    code statements\n",
    "else:\n",
    "    final code statements"
   ]
  },
  {
   "cell_type": "code",
   "execution_count": 19,
   "id": "adb6ac56",
   "metadata": {
    "collapsed": true
   },
   "outputs": [
    {
     "name": "stdout",
     "output_type": "stream",
     "text": [
      "x current : 0\n",
      "x still <= 10 : 0\n",
      "x post addition : 1\n",
      "\n",
      "x current : 1\n",
      "x still <= 10 : 1\n",
      "x post addition : 2\n",
      "\n",
      "x current : 2\n",
      "x still <= 10 : 2\n",
      "x post addition : 3\n",
      "\n",
      "x current : 3\n",
      "x still <= 10 : 3\n",
      "x post addition : 4\n",
      "\n",
      "x current : 4\n",
      "x still <= 10 : 4\n",
      "x post addition : 5\n",
      "\n",
      "x current : 5\n",
      "x still <= 10 : 5\n",
      "x post addition : 6\n",
      "\n",
      "x current : 6\n",
      "x still <= 10 : 6\n",
      "x post addition : 7\n",
      "\n",
      "x current : 7\n",
      "x still <= 10 : 7\n",
      "x post addition : 8\n",
      "\n",
      "x current : 8\n",
      "x still <= 10 : 8\n",
      "x post addition : 9\n",
      "\n",
      "x current : 9\n",
      "x still <= 10 : 9\n",
      "x post addition : 10\n",
      "\n",
      "x current : 10\n",
      "x still <= 10 : 10\n",
      "x post addition : 11\n",
      "\n"
     ]
    }
   ],
   "source": [
    "x = 0\n",
    "\n",
    "while x <= 10:\n",
    "    print ('x current :', x)\n",
    "    print ('x still <= 10 :', x)\n",
    "    x = x + 1                   # counter == adding 1 to x and reassigning it to x\n",
    "    print ('x post addition :', x)\n",
    "    print ()"
   ]
  },
  {
   "cell_type": "raw",
   "id": "904af580",
   "metadata": {},
   "source": [
    "Understanding the while loop\n",
    "\n",
    "x = 0\n",
    "0 <= 10\n",
    "'x current :', 0\n",
    "'x still <= 10 :', 0\n",
    "x = 0 + 1 = 1\n",
    "'x post addition :', 1\n",
    "\n",
    "x = 1\n",
    "1 <= 10\n",
    "'x current :', 1\n",
    "'x still <= 10 :', 1\n",
    "x = 1 + 1 = 2\n",
    "'x post addition :', 2\n",
    "\n",
    "\n",
    "\n",
    "x = 10\n",
    "10 <= 10\n",
    "'x current :', 10\n",
    "'x still <= 10 :', 10\n",
    "x = 10 + 1 = 11\n",
    "'x post addition :', 11\n",
    "\n",
    "x = 11\n",
    "11 <= 10\n"
   ]
  },
  {
   "cell_type": "code",
   "execution_count": 20,
   "id": "e78db791",
   "metadata": {
    "collapsed": true
   },
   "outputs": [
    {
     "name": "stdout",
     "output_type": "stream",
     "text": [
      "x current : 0\n",
      "x post addition 1\n",
      "\n",
      "x current : 1\n",
      "x post addition 2\n",
      "\n",
      "x current : 2\n",
      "x post addition 3\n",
      "\n",
      "x current : 3\n",
      "x post addition 4\n",
      "\n",
      "x current : 4\n",
      "x post addition 5\n",
      "\n",
      "x current : 5\n",
      "x post addition 6\n",
      "\n",
      "x current : 6\n",
      "x post addition 7\n",
      "\n",
      "x current : 7\n",
      "x post addition 8\n",
      "\n",
      "x current : 8\n",
      "x post addition 9\n",
      "\n",
      "x current : 9\n",
      "x post addition 10\n",
      "\n",
      "x current : 10\n",
      "x post addition 11\n",
      "\n",
      "out of while loop, x now is: 11\n"
     ]
    }
   ],
   "source": [
    "x = 0\n",
    "\n",
    "while x <= 10:\n",
    "    print ('x current :', x)\n",
    "    x += 1 # counter               ### smart coding  x += 1  is same as x = x + 1\n",
    "    print ('x post addition', x)\n",
    "    print ()\n",
    "else : \n",
    "    print (\"out of while loop, x now is:\", x)"
   ]
  },
  {
   "cell_type": "markdown",
   "id": "5a5568c3",
   "metadata": {},
   "source": [
    "# THIS GETS INTO AN INFINITE LOOP - NOT RECOMMENDED"
   ]
  },
  {
   "cell_type": "raw",
   "id": "c886a911",
   "metadata": {},
   "source": [
    "x = 0\n",
    "\n",
    "while (x >= 5) or (x <= 10): # or condition - returns True for either True\n",
    "    print ('  x current :',x)\n",
    "    x+=1          \n",
    "    print('x post addition', x)\n",
    "else:\n",
    "    print(\"out of while,x now is:\", x)\n",
    "    \n",
    "# (x >= 5) or (x <= 10) - will not be false for any number"
   ]
  },
  {
   "cell_type": "code",
   "execution_count": 21,
   "id": "dde15f70",
   "metadata": {
    "collapsed": true
   },
   "outputs": [
    {
     "name": "stdout",
     "output_type": "stream",
     "text": [
      "x current : 0\n",
      "x still < 10 :  0\n",
      "x post addition 1\n",
      "\n",
      "x current : 1\n",
      "x still < 10 :  1\n",
      "x post addition 2\n",
      "\n",
      "x current : 2\n",
      "x still < 10 :  2\n",
      "x post addition 3\n",
      "\n",
      "x current : 3\n",
      "x still < 10 :  3\n",
      "x post addition 4\n",
      "\n",
      "x current : 4\n",
      "x still < 10 :  4\n",
      "x post addition 5\n",
      "\n",
      "x current : 5\n",
      "x still < 10 :  5\n",
      "x post addition 6\n",
      "\n",
      "x current : 6\n",
      "x still < 10 :  6\n",
      "x post addition 7\n",
      "\n",
      "x current : 7\n",
      "x still < 10 :  7\n",
      "x post addition 8\n",
      "\n",
      "x current : 8\n",
      "x still < 10 :  8\n",
      "x post addition 9\n",
      "\n",
      "x current : 9\n",
      "x still < 10 :  9\n",
      "x post addition 10\n",
      "\n",
      "x current : 10\n",
      "x still < 10 :  10\n",
      "x post addition 11\n",
      "\n",
      "x current : 11\n",
      "x still < 10 :  11\n",
      "x post addition 12\n",
      "\n",
      "x current : 12\n",
      "x still < 10 :  12\n",
      "x post addition 13\n",
      "\n",
      "x current : 13\n",
      "x still < 10 :  13\n",
      "x post addition 14\n",
      "\n",
      "x current : 14\n",
      "x still < 10 :  14\n",
      "x post addition 15\n",
      "\n"
     ]
    }
   ],
   "source": [
    "x = 0\n",
    "\n",
    "while (x >= 5) or (x <= 10): # or condition - returns True for either True\n",
    "    print ('x current :', x)\n",
    "    print ('x still < 10 : ', x)\n",
    "    x+=1          \n",
    "    print ('x post addition', x)\n",
    "    print ()\n",
    "    \n",
    "    if x == 15:\n",
    "        break"
   ]
  },
  {
   "cell_type": "markdown",
   "id": "09ab857f",
   "metadata": {},
   "source": [
    " # Multiplcation table till 10"
   ]
  },
  {
   "cell_type": "code",
   "execution_count": 22,
   "id": "336f9ca3",
   "metadata": {},
   "outputs": [
    {
     "name": "stdout",
     "output_type": "stream",
     "text": [
      "Please Enter A Number : 9\n",
      "9\n",
      "\n",
      "9 * 1 = 9\n",
      "9 * 2 = 18\n",
      "9 * 3 = 27\n",
      "9 * 4 = 36\n",
      "9 * 5 = 45\n",
      "9 * 6 = 54\n",
      "9 * 7 = 63\n",
      "9 * 8 = 72\n",
      "9 * 9 = 81\n",
      "9 * 10 = 90\n"
     ]
    }
   ],
   "source": [
    "# Write a program using while loop, which take a number from the user and returns the multiplcation table till 10\n",
    "\n",
    "num = int(input('Please Enter A Number : '))\n",
    "print (num)\n",
    "print ()\n",
    "\n",
    "i = 1\n",
    "\n",
    "while i <= 10:\n",
    "    nnum = num * i\n",
    "    print (num, \"*\", i, \"=\", nnum)\n",
    "    i+=1"
   ]
  },
  {
   "cell_type": "code",
   "execution_count": null,
   "id": "c3c41d69",
   "metadata": {},
   "outputs": [],
   "source": [
    "# Write a program using for loop, which take a number from the user and returns the multiplcation table till 10"
   ]
  },
  {
   "cell_type": "code",
   "execution_count": 7,
   "id": "fb7e1f0d",
   "metadata": {
    "collapsed": true
   },
   "outputs": [
    {
     "name": "stdout",
     "output_type": "stream",
     "text": [
      "Please Enter A Number : 19\n",
      "19\n",
      "\n",
      "19 x 1 = 19\n",
      "19 x 2 = 38\n",
      "19 x 3 = 57\n",
      "19 x 4 = 76\n",
      "19 x 5 = 95\n",
      "19 x 6 = 114\n",
      "19 x 7 = 133\n",
      "19 x 8 = 152\n",
      "19 x 9 = 171\n",
      "19 x 10 = 190\n"
     ]
    }
   ],
   "source": [
    "num = int(input('Please Enter A Number : '))\n",
    "print (num)\n",
    "print ()\n",
    "\n",
    "i = 1\n",
    "\n",
    "for i in range(1, 11):\n",
    "   print(num, 'x', i, '=', num*i)\n"
   ]
  },
  {
   "cell_type": "code",
   "execution_count": null,
   "id": "e7b4f98a",
   "metadata": {},
   "outputs": [],
   "source": []
  }
 ],
 "metadata": {
  "kernelspec": {
   "display_name": "Python 3 (ipykernel)",
   "language": "python",
   "name": "python3"
  },
  "language_info": {
   "codemirror_mode": {
    "name": "ipython",
    "version": 3
   },
   "file_extension": ".py",
   "mimetype": "text/x-python",
   "name": "python",
   "nbconvert_exporter": "python",
   "pygments_lexer": "ipython3",
   "version": "3.9.12"
  }
 },
 "nbformat": 4,
 "nbformat_minor": 5
}

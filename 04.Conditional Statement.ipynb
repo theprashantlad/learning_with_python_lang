{
 "cells": [
  {
   "cell_type": "markdown",
   "id": "ff3d3f68",
   "metadata": {},
   "source": [
    "# if, elif, else Statements\n",
    "\n",
    "<code>if</code> Statements in Python allows us to tell the computer to perform alternative actions based on a certain set of results.\n",
    "\n",
    "**Verbally, we can imagine we are telling the computer:**\n",
    "\n",
    "**\"Hey if this case happens, perform some action\"**\n",
    "\n",
    "We can then expand the idea further with <code>elif</code> and <code>else</code> statements, which allow us to tell the computer:\n",
    "\n",
    "**\"Hey if this case happens, perform some action. Else, if another case happens, perform some other action. Else, if *none* of the above cases happened, perform this action.\"**\n",
    "\n"
   ]
  },
  {
   "cell_type": "code",
   "execution_count": 1,
   "id": "1259d8ce",
   "metadata": {},
   "outputs": [
    {
     "name": "stdout",
     "output_type": "stream",
     "text": [
      "High Temperature\n"
     ]
    }
   ],
   "source": [
    "# if statement --- You can pass only one condition\n",
    "\n",
    "temp = 50\n",
    "\n",
    "if temp > 30:\n",
    "    # tndent\n",
    "    print (\"High Temperature\")"
   ]
  },
  {
   "cell_type": "raw",
   "id": "24a6ec11",
   "metadata": {},
   "source": [
    "temp = 50\n",
    "\n",
    "if temp > 30\n",
    "    print (\"High Temperature\")\n",
    "    \n",
    "# SyntaxError: invalid syntax"
   ]
  },
  {
   "cell_type": "raw",
   "id": "2c1b4d13",
   "metadata": {},
   "source": [
    "temp = 50\n",
    "\n",
    "if temp > 30:\n",
    "print (\"High Temperature\")\n",
    "\n",
    "# IndentationError: expected an indented block"
   ]
  },
  {
   "cell_type": "raw",
   "id": "be7159ba",
   "metadata": {},
   "source": [
    "temp = 50\n",
    "\n",
    "if temp > 30;\n",
    "    print (\"High Temperature\")\n",
    "\n",
    "# SyntaxError: invalid syntax"
   ]
  },
  {
   "cell_type": "raw",
   "id": "106b5c06",
   "metadata": {},
   "source": [
    "temp = 50\n",
    "\n",
    "if temp > 30:\n",
    "    print \"high temperature\"\n",
    "\n",
    "# SyntaxError: Missing parentheses in call to 'print'. Did you mean print(\"high temperature\")?"
   ]
  },
  {
   "cell_type": "code",
   "execution_count": 6,
   "id": "c7dab24b",
   "metadata": {},
   "outputs": [],
   "source": [
    "temp = 10\n",
    "\n",
    "if temp > 30:\n",
    "    print ('High Temp')\n",
    "\n",
    "# there is no output since we have given no command in case the condition is not met"
   ]
  },
  {
   "cell_type": "markdown",
   "id": "01da3fa3",
   "metadata": {},
   "source": [
    "# if...else"
   ]
  },
  {
   "cell_type": "code",
   "execution_count": 7,
   "id": "fe4d6618",
   "metadata": {},
   "outputs": [
    {
     "name": "stdout",
     "output_type": "stream",
     "text": [
      "Low Temp\n"
     ]
    }
   ],
   "source": [
    "# if ..else statement ---- You can have one true condition and one default condition\n",
    "\n",
    "temp = 20\n",
    "\n",
    "if temp > 30:           # False\n",
    "    print ('High Temp')\n",
    "else:\n",
    "    print ('Low Temp')"
   ]
  },
  {
   "cell_type": "markdown",
   "id": "30a55d65",
   "metadata": {},
   "source": [
    "## Comparison Operators"
   ]
  },
  {
   "cell_type": "raw",
   "id": "08de43ba",
   "metadata": {},
   "source": [
    ">   -- Greater than\n",
    "<   -- Less than\n",
    ">=  -- Greater than equal to \n",
    "<=  -- less than equal to \n",
    "!   -- not\n",
    "!=  -- not equal to\n",
    "==  -- equal to "
   ]
  },
  {
   "cell_type": "code",
   "execution_count": 8,
   "id": "af8c15fa",
   "metadata": {},
   "outputs": [
    {
     "data": {
      "text/plain": [
       "100"
      ]
     },
     "execution_count": 8,
     "metadata": {},
     "output_type": "execute_result"
    }
   ],
   "source": [
    "x = 100               # this is assignment of value to variable x\n",
    "x"
   ]
  },
  {
   "cell_type": "code",
   "execution_count": 9,
   "id": "59df7efe",
   "metadata": {},
   "outputs": [
    {
     "data": {
      "text/plain": [
       "True"
      ]
     },
     "execution_count": 9,
     "metadata": {},
     "output_type": "execute_result"
    }
   ],
   "source": [
    "x == 100              # note that \"==\" is condition check ..this is checking or validating\n",
    "\n",
    "# if the value stored in x is equal to 100"
   ]
  },
  {
   "cell_type": "code",
   "execution_count": 10,
   "id": "8338bf44",
   "metadata": {},
   "outputs": [
    {
     "name": "stdout",
     "output_type": "stream",
     "text": [
      "x is not 100\n"
     ]
    }
   ],
   "source": [
    "x = 200                        # this is assignment of value to variable x\n",
    "\n",
    "if (x == 100):       # False                ### note that \"==\" is condition check ..this is checking or validating\n",
    "    print ('x is 100')\n",
    "else : \n",
    "    print ('x is not 100')\n",
    "\n",
    "# \"=\" - assignmnent operator\n",
    "# \"==\" - condition check the value is equal to "
   ]
  },
  {
   "cell_type": "markdown",
   "id": "5522384a",
   "metadata": {},
   "source": [
    "## if...elif..else"
   ]
  },
  {
   "cell_type": "code",
   "execution_count": 11,
   "id": "920d78eb",
   "metadata": {},
   "outputs": [
    {
     "name": "stdout",
     "output_type": "stream",
     "text": [
      "x is zero\n"
     ]
    }
   ],
   "source": [
    "x = 0\n",
    "\n",
    "if x < 0:                         # False\n",
    "    print ('x is not positive')\n",
    "elif x > 0:                       # False\n",
    "    print ('x is positive')\n",
    "else :\n",
    "    print (\"x is zero\")"
   ]
  },
  {
   "cell_type": "markdown",
   "id": "52185e29",
   "metadata": {},
   "source": [
    "**if else - 1 condition is checked**\n",
    "\n",
    "**if elif else - multiple conditions are checked** \n",
    "\n",
    "When you have multiple true conditions and one default condition"
   ]
  },
  {
   "cell_type": "code",
   "execution_count": 13,
   "id": "c5606d9d",
   "metadata": {},
   "outputs": [
    {
     "name": "stdout",
     "output_type": "stream",
     "text": [
      "B grade\n"
     ]
    }
   ],
   "source": [
    "marks = 88\n",
    "\n",
    "if marks > 90:\n",
    "    print ('A grade')\n",
    "elif marks >= 80 :\n",
    "    print ('B grade')\n",
    "elif marks >= 60 :\n",
    "    print ('C grade')\n",
    "else: \n",
    "    print ('fail')"
   ]
  },
  {
   "cell_type": "markdown",
   "id": "1774e641",
   "metadata": {},
   "source": [
    "# Logical Operators\n",
    "\n",
    "- and = both the condition True\n",
    "- or  = Any condition is True\n",
    "- not = The condition is not true"
   ]
  },
  {
   "cell_type": "raw",
   "id": "1d9533ec",
   "metadata": {},
   "source": [
    "# Truth Table (and)\n",
    "# condition1  condition2  result\n",
    "#   True        True       True\n",
    "#   False       True       False\n",
    "#   True        False      False\n",
    "#   False       False      False"
   ]
  },
  {
   "cell_type": "code",
   "execution_count": 14,
   "id": "df107b2f",
   "metadata": {},
   "outputs": [
    {
     "name": "stdout",
     "output_type": "stream",
     "text": [
      "Bursting Temp 1\n"
     ]
    }
   ],
   "source": [
    "temp = 50 \n",
    "\n",
    "if temp > 30 and temp < 40:       # T & F = F\n",
    "    print(\"High Temp\")\n",
    "elif temp >= 40 and temp < 50:   # T & F = F\n",
    "    print(\"Bursting Temp\")\n",
    "elif temp >= 50 and temp < 60:    # T & T = T\n",
    "    print(\"Bursting Temp 1\")\n",
    "elif temp >= 60:\n",
    "    print(\"Bursting Temp 2\")\n",
    "else:\n",
    "    print(\"Low Temp\")"
   ]
  },
  {
   "cell_type": "code",
   "execution_count": 15,
   "id": "a940075d",
   "metadata": {},
   "outputs": [
    {
     "name": "stdout",
     "output_type": "stream",
     "text": [
      "welcome to park\n",
      "\n",
      "I am out of if statement\n"
     ]
    }
   ],
   "source": [
    "location = 'park'\n",
    "\n",
    "if location == 'park':\n",
    "    print('welcome to park')         # print\n",
    "      \n",
    "elif location == 'Bank':\n",
    "    print('Welcome to the Bank')\n",
    "    \n",
    "elif location == 'office':\n",
    "    print('i am at work')\n",
    "    \n",
    "else:\n",
    "    print('Where exactly am i?')    \n",
    "    \n",
    "print ()                               # print\n",
    "print (\"I am out of if statement\")     # print"
   ]
  },
  {
   "cell_type": "code",
   "execution_count": 17,
   "id": "8f914e8e",
   "metadata": {},
   "outputs": [
    {
     "name": "stdout",
     "output_type": "stream",
     "text": [
      "Where exactly am i?\n",
      "\n",
      "I am out of if statement\n"
     ]
    }
   ],
   "source": [
    "location = 'bank'\n",
    "\n",
    "if location == 'park':\n",
    "    print('welcome to park')\n",
    "      \n",
    "elif location == 'Bank':           # case sensitive\n",
    "    print('Welcome to the Bank')\n",
    "    \n",
    "    print('I am at the Bank')\n",
    "    \n",
    "elif location == 'office':\n",
    "    print('i am at work')\n",
    "    \n",
    "else:\n",
    "    print('Where exactly am i?')     # print \n",
    "    \n",
    "print ()                             # print \n",
    "print (\"I am out of if statement\")   # print "
   ]
  },
  {
   "cell_type": "code",
   "execution_count": 16,
   "id": "d176cb6b",
   "metadata": {},
   "outputs": [
    {
     "data": {
      "text/plain": [
       "False"
      ]
     },
     "execution_count": 16,
     "metadata": {},
     "output_type": "execute_result"
    }
   ],
   "source": [
    "'bank' == 'Bank'"
   ]
  },
  {
   "cell_type": "code",
   "execution_count": 18,
   "id": "31d60af4",
   "metadata": {},
   "outputs": [
    {
     "name": "stdout",
     "output_type": "stream",
     "text": [
      "Welcome to the Bank\n",
      "I am at the Bank\n",
      "\n",
      "I am out of if statement\n"
     ]
    }
   ],
   "source": [
    "location = 'Bank'\n",
    "\n",
    "if location == 'park':\n",
    "    print('welcome to park')\n",
    "      \n",
    "elif location == 'Bank':\n",
    "    print('Welcome to the Bank')   # print\n",
    "    \n",
    "    print('I am at the Bank')      # print\n",
    "    \n",
    "elif location == 'office':\n",
    "    print('i am at work')\n",
    "    \n",
    "else:\n",
    "    print('Where exactly am i?')\n",
    "    \n",
    "print ()                             # print\n",
    "print (\"I am out of if statement\")   # print "
   ]
  },
  {
   "cell_type": "code",
   "execution_count": null,
   "id": "4f47596a",
   "metadata": {},
   "outputs": [],
   "source": []
  },
  {
   "cell_type": "code",
   "execution_count": 19,
   "id": "d4c79477",
   "metadata": {},
   "outputs": [
    {
     "name": "stdout",
     "output_type": "stream",
     "text": [
      "welcome to house\n",
      "which appt do you want to visit?\n",
      "out of nested if\n",
      "welcome to main if statement\n"
     ]
    }
   ],
   "source": [
    "location = 'house'\n",
    "sub_location = 'appartmentno-4'\n",
    "\n",
    "if location == 'house':        # True                            # main if statement                           \n",
    "    print ('welcome to house') # printed\n",
    "    \n",
    "    if sub_location == 'appartmentno-3':                         # nested if statement      \n",
    "        print (\"welcome to appartmentno-3\")\n",
    "    else :\n",
    "        print ('which appt do you want to visit?')  # printed\n",
    "        \n",
    "    print('out of nested if')     # printed\n",
    "    \n",
    "    print(\"welcome to main if statement\")  # printed\n",
    "    \n",
    "elif location == 'Bank':\n",
    "    print ('welcome to Bank')\n",
    "else:\n",
    "    print (\"don't know where you are!!!\")\n",
    "\n",
    "# the elif and else statements will be considered only if the 'if' statement is false"
   ]
  },
  {
   "cell_type": "code",
   "execution_count": 20,
   "id": "e8bd9653",
   "metadata": {},
   "outputs": [
    {
     "name": "stdout",
     "output_type": "stream",
     "text": [
      "welcome to Bank\n"
     ]
    }
   ],
   "source": [
    "location = 'Bank'\n",
    "sub_location = 'appartmentno-4'\n",
    "\n",
    "if location == 'house':                                    # main if statement                           \n",
    "    print ('welcome to house') \n",
    "    \n",
    "    if sub_location == 'appartmentno-3':                         # nested if statement      \n",
    "        print (\"welcome to appartmentno-3\")\n",
    "    else :\n",
    "        print ('which appt do you want to visit?')  \n",
    "        \n",
    "    print('out of nested if')     \n",
    "    \n",
    "    print(\"welcome to main if statement\")  \n",
    "    \n",
    "elif location == 'Bank':      # True\n",
    "    print ('welcome to Bank') # print\n",
    "else:\n",
    "    print (\"don't know where you are!!!\")\n",
    "\n",
    "# the elif and else statements will be considered only if the 'if' statement is false"
   ]
  },
  {
   "cell_type": "markdown",
   "id": "ba49a1ff",
   "metadata": {},
   "source": [
    "# InClass Assignment"
   ]
  },
  {
   "cell_type": "markdown",
   "id": "22747a82",
   "metadata": {},
   "source": [
    "# 1.\n",
    "\n",
    "Write a program which takes a number from the user and checks if it is less than 10 :: User input"
   ]
  },
  {
   "cell_type": "code",
   "execution_count": 21,
   "id": "bae37152",
   "metadata": {},
   "outputs": [
    {
     "name": "stdout",
     "output_type": "stream",
     "text": [
      "Please provide a number : 9\n",
      "The number is less than 10\n"
     ]
    }
   ],
   "source": [
    "num = int(input(\"Please provide a number : \"))\n",
    "\n",
    "if num < 10:\n",
    "    print (\"The number is less than 10\")"
   ]
  },
  {
   "cell_type": "markdown",
   "id": "26ed9ee9",
   "metadata": {},
   "source": [
    "# 2.\n",
    "\n",
    "Write a Python program to convert temperatures to and from celsius, fahrenheit.\n",
    "\n",
    "    [ Formula : c/5 = f-32/9 [ where c = temperature in celsius and f = temperature in fahrenheit]\n",
    "\n",
    "    Expected Output :\n",
    "        60°C is 140 in Fahrenheit\n",
    "        45°F is 7 in Celsius"
   ]
  },
  {
   "cell_type": "code",
   "execution_count": 1,
   "id": "66f69662",
   "metadata": {},
   "outputs": [
    {
     "name": "stdout",
     "output_type": "stream",
     "text": [
      "Input the  temperature you like to convert? (e.g., 45F, 102C etc.) : 60C\n",
      "The temperature in Fahrenheit is 140 degrees.\n"
     ]
    }
   ],
   "source": [
    "temp = input(\"Input the  temperature you like to convert? (e.g., 45F, 102C etc.) : \")\n",
    "degree = int(temp[:-1])\n",
    "i_convention = temp[-1]\n",
    "\n",
    "if i_convention.upper() == \"C\":\n",
    "  result = int(round((9 * degree) / 5 + 32))\n",
    "  o_convention = \"Fahrenheit\"\n",
    "elif i_convention.upper() == \"F\":\n",
    "  result = int(round((degree - 32) * 5 / 9))\n",
    "  o_convention = \"Celsius\"\n",
    "else:\n",
    "  print(\"Input proper convention.\")\n",
    "  quit()\n",
    "print(\"The temperature in\", o_convention, \"is\", result, \"degrees.\")"
   ]
  },
  {
   "cell_type": "code",
   "execution_count": null,
   "id": "68a39160",
   "metadata": {},
   "outputs": [],
   "source": []
  }
 ],
 "metadata": {
  "kernelspec": {
   "display_name": "Python 3 (ipykernel)",
   "language": "python",
   "name": "python3"
  },
  "language_info": {
   "codemirror_mode": {
    "name": "ipython",
    "version": 3
   },
   "file_extension": ".py",
   "mimetype": "text/x-python",
   "name": "python",
   "nbconvert_exporter": "python",
   "pygments_lexer": "ipython3",
   "version": "3.9.12"
  }
 },
 "nbformat": 4,
 "nbformat_minor": 5
}

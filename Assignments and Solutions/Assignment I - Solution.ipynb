{
 "cells": [
  {
   "cell_type": "markdown",
   "metadata": {},
   "source": [
    "# Lists"
   ]
  },
  {
   "cell_type": "raw",
   "metadata": {},
   "source": [
    "Write a program to create a list of 5 elements "
   ]
  },
  {
   "cell_type": "code",
   "execution_count": 1,
   "metadata": {},
   "outputs": [
    {
     "name": "stdout",
     "output_type": "stream",
     "text": [
      "['apple', 1, 1.5, 'Python', 'Cohort 4']\n"
     ]
    }
   ],
   "source": [
    "List1 = ['apple', 1, 1.5, 'Python', 'Cohort 4']\n",
    "print (List1)"
   ]
  },
  {
   "cell_type": "raw",
   "metadata": {},
   "source": [
    "Update the value at 3rd element of the list "
   ]
  },
  {
   "cell_type": "code",
   "execution_count": 2,
   "metadata": {},
   "outputs": [
    {
     "name": "stdout",
     "output_type": "stream",
     "text": [
      "1.5\n",
      "['apple', 1, 'BANANAS', 'Python', 'Cohort 4']\n"
     ]
    }
   ],
   "source": [
    "print (List1[2])\n",
    "List1[2] = 'BANANAS'\n",
    "print (List1)"
   ]
  },
  {
   "cell_type": "raw",
   "metadata": {},
   "source": [
    "Create another list of 3 elements. Now create a final result as a concatenation of the first two lists "
   ]
  },
  {
   "cell_type": "code",
   "execution_count": 3,
   "metadata": {},
   "outputs": [],
   "source": [
    "List2 = ['List', 'Three', \"Elements\"]"
   ]
  },
  {
   "cell_type": "code",
   "execution_count": 4,
   "metadata": {},
   "outputs": [
    {
     "name": "stdout",
     "output_type": "stream",
     "text": [
      "['apple', 1, 'BANANAS', 'Python', 'Cohort 4', 'List', 'Three', 'Elements']\n"
     ]
    }
   ],
   "source": [
    "List3 = List1 + List2\n",
    "print (List3)"
   ]
  },
  {
   "cell_type": "raw",
   "metadata": {},
   "source": [
    "Here is a Python list of restriction site patterns\n",
    "restriction_sites = [\n",
    "  \"GAATTC\",    # EcoRI\n",
    "  \"GGATCC\",    # BamHI\n",
    "  \"AAGCTT\",    # HindIII\n",
    "]\n",
    "Write a program that prints each pattern.\n",
    "GAATTC is a restriction site\n",
    "GGATCC is a restriction site\n",
    "AAGCTT is a restriction site\n",
    "\n",
    "Note: there is no input for this exercise, just print the items in the list."
   ]
  },
  {
   "cell_type": "code",
   "execution_count": null,
   "metadata": {},
   "outputs": [],
   "source": [
    "restriction_sites = [\n",
    "  \"GAATTC\",    # EcoRI\n",
    "  \"GGATCC\",    # BamHI\n",
    "  \"AAGCTT\",    # HindIII\n",
    "]\n",
    "\n",
    "print (restriction_sites[0] , \"is a restriction site\")\n",
    "print (restriction_sites[1] , \"is a restriction site\")\n",
    "print (restriction_sites[2] , \"is a restriction site\")"
   ]
  },
  {
   "cell_type": "raw",
   "metadata": {},
   "source": [
    "A=[1,2,3,56,78,45,67,5,56,89]\n",
    "- Find length of the list and print\n",
    "- Find last element in the list and print\n",
    "- Delete 3rd element from the list and print\n",
    "- Check if 0 is present in list or not and print\n",
    "- Append element 200 in list and print\n",
    "- Take out (slice) last five elements from the list and save it new variable and print"
   ]
  },
  {
   "cell_type": "code",
   "execution_count": null,
   "metadata": {},
   "outputs": [],
   "source": [
    "A = [1,2,3,56,78,45,67,5,56,89]\n",
    "print (A)\n",
    "print ()\n",
    "\n",
    "# Find length of the list and print\n",
    "print (len(A))\n",
    "print ()\n",
    "\n",
    "# Find last element in the list and print\n",
    "print (A[-1])\n",
    "print ()\n",
    "\n",
    "# Delete 3rd element from the list and print\n",
    "print (A[2])\n",
    "print ()\n",
    "\n",
    "# Check if 0 is present in list or not and print\n",
    "print (0 in A)\n",
    "print ()\n",
    "\n",
    "# Append element 200 in list and print\n",
    "A.append(200)\n",
    "print (A)\n",
    "print ()\n",
    "\n",
    "# Take out (slice) last five elements from the list and save it new variable and print\n",
    "B = A[-5:]\n",
    "print (B)"
   ]
  },
  {
   "cell_type": "raw",
   "metadata": {},
   "source": [
    "Write a python script to take 5 elements from user create a list from it and print the list.\n",
    "# Hint: Use append function to add new element enter by user to append at the end of list."
   ]
  },
  {
   "cell_type": "code",
   "execution_count": 4,
   "metadata": {},
   "outputs": [
    {
     "name": "stdout",
     "output_type": "stream",
     "text": [
      "Please provide a value anything a number, a float or a string :: You\n",
      "You\n",
      "['You']\n",
      "Please provide a value anything a number, a float or a string :: are\n",
      "are\n",
      "['You', 'are']\n",
      "Please provide a value anything a number, a float or a string :: a\n",
      "a\n",
      "['You', 'are', 'a']\n",
      "Please provide a value anything a number, a float or a string :: super\n",
      "super\n",
      "['You', 'are', 'a', 'super']\n",
      "Please provide a value anything a number, a float or a string :: star\n",
      "star\n",
      "['You', 'are', 'a', 'super', 'star']\n",
      "\n",
      "['You', 'are', 'a', 'super', 'star']\n"
     ]
    }
   ],
   "source": [
    "a = 0\n",
    "aList = []\n",
    "\n",
    "while a <= 4:\n",
    "    num = input('Please provide a value anything a number, a float or a string :: ')\n",
    "    print (num)\n",
    "    aList.append(num)\n",
    "    print (aList)\n",
    "    a += 1\n",
    "\n",
    "print ()\n",
    "print (aList)"
   ]
  },
  {
   "cell_type": "markdown",
   "metadata": {},
   "source": [
    "# Tuples"
   ]
  },
  {
   "cell_type": "raw",
   "metadata": {},
   "source": [
    "Write a program to create a tuple of 4 elements "
   ]
  },
  {
   "cell_type": "code",
   "execution_count": 5,
   "metadata": {},
   "outputs": [
    {
     "name": "stdout",
     "output_type": "stream",
     "text": [
      "('apple', 1, 1.5, 'Python')\n"
     ]
    }
   ],
   "source": [
    "Tuple1 = ('apple', 1, 1.5, 'Python')\n",
    "print (Tuple1)"
   ]
  },
  {
   "cell_type": "raw",
   "metadata": {},
   "source": [
    "Convert this tuple into a list   "
   ]
  },
  {
   "cell_type": "code",
   "execution_count": 7,
   "metadata": {},
   "outputs": [
    {
     "name": "stdout",
     "output_type": "stream",
     "text": [
      "['apple', 1, 1.5, 'Python']\n"
     ]
    }
   ],
   "source": [
    "List1 = list(Tuple1)\n",
    "print (List1)"
   ]
  },
  {
   "cell_type": "raw",
   "metadata": {},
   "source": [
    "Now delete the first element in this list and convert it back to tuple "
   ]
  },
  {
   "cell_type": "code",
   "execution_count": 8,
   "metadata": {},
   "outputs": [
    {
     "name": "stdout",
     "output_type": "stream",
     "text": [
      "[1, 1.5, 'Python']\n",
      "\n",
      "(1, 1.5, 'Python')\n"
     ]
    }
   ],
   "source": [
    "del List1[0]\n",
    "print (List1)\n",
    "print ()\n",
    "\n",
    "Tuple2 = tuple (List1)\n",
    "print (Tuple2)"
   ]
  },
  {
   "cell_type": "raw",
   "metadata": {},
   "source": [
    "Write a program to create a dictionary with 5 key-value pairs "
   ]
  },
  {
   "cell_type": "code",
   "execution_count": 13,
   "metadata": {},
   "outputs": [
    {
     "name": "stdout",
     "output_type": "stream",
     "text": [
      "{'Name': 'Arita', 'Age': 29, 'College': 'ISB', 'Salary': 90000, 'Designation': 'Senior VP'}\n"
     ]
    }
   ],
   "source": [
    "Dict1 = {'Name' :  \"Arita\", \"Age\" : 29, \"College\" : \"ISB\", \"Salary\" : 90000, 'Designation' : 'Senior VP'}\n",
    "print (Dict1)"
   ]
  },
  {
   "cell_type": "raw",
   "metadata": {},
   "source": [
    "Update the value of a key "
   ]
  },
  {
   "cell_type": "code",
   "execution_count": null,
   "metadata": {},
   "outputs": [],
   "source": [
    "# This is not possible. Keys are immutable"
   ]
  },
  {
   "cell_type": "raw",
   "metadata": {},
   "source": [
    "Copy this dictionary to another dictionary and clear the first dictionary "
   ]
  },
  {
   "cell_type": "code",
   "execution_count": 16,
   "metadata": {},
   "outputs": [
    {
     "name": "stdout",
     "output_type": "stream",
     "text": [
      "{'Name': 'Arita', 'Age': 29, 'College': 'ISB', 'Salary': 90000, 'Designation': 'Senior VP'}\n",
      "\n",
      "{'Name': 'Arita', 'Age': 29, 'College': 'ISB', 'Salary': 90000, 'Designation': 'Senior VP'}\n",
      "\n",
      "{}\n"
     ]
    }
   ],
   "source": [
    "Dict1 = {'Name' :  \"Arita\", \"Age\" : 29, \"College\" : \"ISB\", \"Salary\" : 90000, 'Designation' : 'Senior VP'}\n",
    "print (Dict1)\n",
    "print ()\n",
    "Dict2 = Dict1\n",
    "print (Dict2)\n",
    "print ()\n",
    "Dict1.clear()\n",
    "print (Dict1)"
   ]
  },
  {
   "cell_type": "markdown",
   "metadata": {},
   "source": [
    "# Conditional Statements"
   ]
  },
  {
   "cell_type": "raw",
   "metadata": {},
   "source": [
    "Write a program to check if a number is less than 10  "
   ]
  },
  {
   "cell_type": "code",
   "execution_count": 58,
   "metadata": {},
   "outputs": [
    {
     "name": "stdout",
     "output_type": "stream",
     "text": [
      "number is less than 10\n"
     ]
    }
   ],
   "source": [
    "number = 0\n",
    "\n",
    "if number < 10:\n",
    "    print (\"number is less than 10\")\n",
    "else :\n",
    "    print (\"All OK\")"
   ]
  },
  {
   "cell_type": "raw",
   "metadata": {},
   "source": [
    "Write a program to check if a given number is odd or even  "
   ]
  },
  {
   "cell_type": "code",
   "execution_count": 57,
   "metadata": {},
   "outputs": [
    {
     "name": "stdout",
     "output_type": "stream",
     "text": [
      "\n",
      "Odd\n"
     ]
    }
   ],
   "source": [
    "number = 11\n",
    "print ()\n",
    "if number%2==0:\n",
    "    print (\"Even\")\n",
    "else :\n",
    "    print (\"Odd\")"
   ]
  },
  {
   "cell_type": "raw",
   "metadata": {},
   "source": [
    "Write a program to check if a number is divisible by both 10 as well as 50. If it is divisible by 30 as well, print “This number is divisible by 10, 50 and 30”. If not, print “This number divisible by 10 and 50 but not 30” "
   ]
  },
  {
   "cell_type": "code",
   "execution_count": 1,
   "metadata": {},
   "outputs": [
    {
     "name": "stdout",
     "output_type": "stream",
     "text": [
      "Enter a number900\n",
      "entered number is divisible by 10 and 50\n",
      "this number is divisible by 30 also\n"
     ]
    }
   ],
   "source": [
    "x=int(input('Enter a number'))\n",
    "if (x%50==0):  # if a number is divisible by 50 it is automatically divisible by 10\n",
    "    print ('entered number is divisible by 10 and 50')\n",
    "    if(x%30==0):\n",
    "        print ('this number is divisible by 30 also')\n",
    "    else: \n",
    "        print ('this number is divisible by 10 and 50 but not 30')\n",
    "else:\n",
    "    print ('this number is indivisible by 10 and 50, hence coming out of the loop')\n"
   ]
  },
  {
   "cell_type": "raw",
   "metadata": {},
   "source": [
    "Write a program that uses input to prompt a user for their name and then welcomes them. \n",
    "Check if length of name is greater than 10 print message “name size cannot be more be more than 10” \n",
    "else print “Hello Name Entered”"
   ]
  },
  {
   "cell_type": "code",
   "execution_count": 56,
   "metadata": {},
   "outputs": [
    {
     "name": "stdout",
     "output_type": "stream",
     "text": [
      "Enter Name\n",
      "SonalGhanshani\n",
      "Oops..Error you are entered name which is having length more than 10\n"
     ]
    }
   ],
   "source": [
    "#Take from user raw_input\n",
    "print (\"Enter Name\")\n",
    "Name = input()\n",
    "\n",
    "#len function is used to find length of the string\n",
    "LenOfName = len(Name)\n",
    "\n",
    "if LenOfName > 10:\n",
    "    print (\"Oops..Error you are entered name which is having length more than 10\")\n",
    "else:\n",
    "    print (\"Hello\" , Name)"
   ]
  },
  {
   "cell_type": "raw",
   "metadata": {},
   "source": [
    "Write a program that uses input to prompt a user to enter number of hours and rate and compute gross pay of worker. \n",
    "If number of hours worked is more than 100 calculate and print gross pay as double (Hours*Rate*2), if number of hours is \n",
    "less than 10 calculate and print gross pay as half (Hours*Rate/2)."
   ]
  },
  {
   "cell_type": "code",
   "execution_count": null,
   "metadata": {},
   "outputs": [],
   "source": [
    "# Debug the print errors\n",
    "\n",
    "print \"Enter Number of hours user worked\"\n",
    "NoOfHours = input()\n",
    "\n",
    "\n",
    "print \"Enter rate\"\n",
    "Rate = input()\n",
    "\n",
    "print \"Num of hours worked = \" , NoOfHours\n",
    "print \"And rate is = \" , Rate\n",
    "\n",
    "if NoOfHours > 100:\n",
    "    GrossPay = NoOfHours * Rate * 2\n",
    "    print \"Gross pay = \" , GrossPay\n",
    "elif NoOfHours < 10:\n",
    "    GrossPay = (NoOfHours * Rate)/2\n",
    "    print \"Gross pay = \" , GrossPay\n",
    "else:\n",
    "    GrossPay = NoOfHours * Rate\n",
    "    print \"Gross pay = \" , GrossPay"
   ]
  },
  {
   "cell_type": "markdown",
   "metadata": {},
   "source": [
    "# Loops"
   ]
  },
  {
   "cell_type": "raw",
   "metadata": {},
   "source": [
    "Write a program to print numbers from 1 to 10   "
   ]
  },
  {
   "cell_type": "code",
   "execution_count": 43,
   "metadata": {},
   "outputs": [
    {
     "name": "stdout",
     "output_type": "stream",
     "text": [
      "1\n",
      "2\n",
      "3\n",
      "4\n",
      "5\n",
      "6\n",
      "7\n",
      "8\n",
      "9\n",
      "10\n"
     ]
    }
   ],
   "source": [
    "a = 1\n",
    "\n",
    "while a <= 10 :\n",
    "    print (a)\n",
    "    a+=1"
   ]
  },
  {
   "cell_type": "raw",
   "metadata": {},
   "source": [
    "Write a program to print the sum of odd numbers from 1 to 10  "
   ]
  },
  {
   "cell_type": "code",
   "execution_count": null,
   "metadata": {},
   "outputs": [],
   "source": [
    "list1 =[1,2,3,4,5,6,7,8,9,10]\n",
    "Sum_of_Odds = 0\n",
    "for i in list1:\n",
    "    if i%2!=0:\n",
    "        print (\"i is \", i)\n",
    "        Sum_of_Odds = Sum_of_Odds + i\n",
    "print ()\n",
    "print (\"Sum_of_Odds is \", Sum_of_Odds)\n"
   ]
  },
  {
   "cell_type": "raw",
   "metadata": {},
   "source": [
    "Write a program to check if a given number is prime or not "
   ]
  },
  {
   "cell_type": "code",
   "execution_count": 9,
   "metadata": {},
   "outputs": [
    {
     "name": "stdout",
     "output_type": "stream",
     "text": [
      "90\n",
      "90 is not a prime number\n"
     ]
    }
   ],
   "source": [
    "# num = 2\n",
    "num = int(input())\n",
    "\n",
    "# If given number is greater than 1 \n",
    "if num > 1: \n",
    "\n",
    "# Iterate from 2 to n \n",
    "    for i in range(2, num): \n",
    "\n",
    "# If num is divisible by any number between \n",
    "# 2 and n / 2, it is not prime \n",
    "        if (num % i) == 0: \n",
    "            print(num, \"is not a prime number\") \n",
    "            break\n",
    "    else:\n",
    "        print(num, \"is a prime number\") \n",
    "\n",
    "else: \n",
    "    print(num, \"is not a prime number\") \n"
   ]
  },
  {
   "cell_type": "code",
   "execution_count": null,
   "metadata": {},
   "outputs": [],
   "source": [
    "list(range(2, 4))"
   ]
  },
  {
   "cell_type": "raw",
   "metadata": {},
   "source": [
    "L = [9, 41, 12, 3, 74, 15]\n",
    "Write a for loop to print only even number of element of list L. "
   ]
  },
  {
   "cell_type": "code",
   "execution_count": 4,
   "metadata": {},
   "outputs": [
    {
     "name": "stdout",
     "output_type": "stream",
     "text": [
      "12\n",
      "74\n"
     ]
    }
   ],
   "source": [
    "L = [9, 41, 12, 3, 74, 15]\n",
    "\n",
    "for i in L:\n",
    "    if i%2 == 0:\n",
    "        print (i)"
   ]
  },
  {
   "cell_type": "code",
   "execution_count": null,
   "metadata": {},
   "outputs": [],
   "source": []
  }
 ],
 "metadata": {
  "kernelspec": {
   "display_name": "Python 3 (ipykernel)",
   "language": "python",
   "name": "python3"
  },
  "language_info": {
   "codemirror_mode": {
    "name": "ipython",
    "version": 3
   },
   "file_extension": ".py",
   "mimetype": "text/x-python",
   "name": "python",
   "nbconvert_exporter": "python",
   "pygments_lexer": "ipython3",
   "version": "3.9.12"
  }
 },
 "nbformat": 4,
 "nbformat_minor": 2
}

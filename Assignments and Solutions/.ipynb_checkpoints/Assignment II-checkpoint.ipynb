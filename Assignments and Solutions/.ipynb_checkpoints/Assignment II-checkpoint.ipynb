{
 "cells": [
  {
   "cell_type": "markdown",
   "metadata": {},
   "source": [
    "**Write a Python program to get the difference between a given number and 17, if the number is greater than 17 return double the absolute difference.**"
   ]
  },
  {
   "cell_type": "code",
   "execution_count": null,
   "metadata": {},
   "outputs": [],
   "source": []
  },
  {
   "cell_type": "markdown",
   "metadata": {},
   "source": [
    "# Hint :: User Input"
   ]
  },
  {
   "cell_type": "code",
   "execution_count": 1,
   "metadata": {},
   "outputs": [
    {
     "name": "stdout",
     "output_type": "stream",
     "text": [
      "who are you?s\n",
      "\n",
      "Welcome s\n"
     ]
    }
   ],
   "source": [
    "name = input(\"who are you?\")\n",
    "print()\n",
    "print ('Welcome', name)"
   ]
  },
  {
   "cell_type": "code",
   "execution_count": 2,
   "metadata": {},
   "outputs": [
    {
     "name": "stdout",
     "output_type": "stream",
     "text": [
      "What is your age?30\n",
      "\n",
      "The age is  30\n"
     ]
    }
   ],
   "source": [
    "age = input('What is your age?')\n",
    "print ()\n",
    "print (\"The age is \", age)"
   ]
  },
  {
   "cell_type": "markdown",
   "metadata": {},
   "source": [
    "**Write a Python program to find whether a given number (accept from the user) is even or odd, print out an appropriate message to the user.**"
   ]
  },
  {
   "cell_type": "code",
   "execution_count": null,
   "metadata": {},
   "outputs": [],
   "source": []
  },
  {
   "cell_type": "markdown",
   "metadata": {},
   "source": [
    "**Given this nested list, use indexing to grab the word \"hello\"**\n",
    "\n",
    "lst = [1,2,[3,4],[5,[100,200,['hello']],23,11],1,7]"
   ]
  },
  {
   "cell_type": "code",
   "execution_count": null,
   "metadata": {},
   "outputs": [],
   "source": []
  },
  {
   "cell_type": "markdown",
   "metadata": {},
   "source": [
    "**Given this nested dictionary grab the word \"hello\". Be prepared, this will be annoying/tricky**\n",
    "\n",
    "d = {'k1':[1,2,3,{'tricky':['oh','man','inception',{'target':[1,2,3,'hello']}]}]}"
   ]
  },
  {
   "cell_type": "code",
   "execution_count": null,
   "metadata": {},
   "outputs": [],
   "source": []
  },
  {
   "cell_type": "markdown",
   "metadata": {},
   "source": [
    "**Create a basic function that returns True if the word 'dog' is contained in the input string. Don't worry about edge cases like a punctuation being attached to the word dog, but do account for capitalization.**"
   ]
  },
  {
   "cell_type": "code",
   "execution_count": null,
   "metadata": {},
   "outputs": [],
   "source": []
  },
  {
   "cell_type": "markdown",
   "metadata": {},
   "source": [
    "**The school committee wants to automate course score calculation work. So they contacted the developing team to find a way for them. You have to select a course and set a criteria as per the school score rule and regulations.**\n",
    "Steps to Perform:\n",
    "1.\tIf the selected course is math\n",
    "2.\tIf the score in theory is more than 60 or score in practical is more than 50\n",
    "3.\tPrint the score of the subject\n",
    "4.\tIf the selected course is science\n",
    "5.\tIf the score in theory is more than 60 or score in practical is more than 40\n",
    "6.\tPrint the score of the subject"
   ]
  },
  {
   "cell_type": "code",
   "execution_count": null,
   "metadata": {},
   "outputs": [],
   "source": []
  },
  {
   "cell_type": "markdown",
   "metadata": {},
   "source": [
    "**Write a program to print the Fibonacci series up to 89:**\n",
    "    # 0,1,1,2,3,5,8,....................89"
   ]
  },
  {
   "cell_type": "code",
   "execution_count": null,
   "metadata": {},
   "outputs": [],
   "source": []
  },
  {
   "cell_type": "markdown",
   "metadata": {},
   "source": [
    "**Write a program which accepts a sequence of comma-separated numbers from console and generate a list and a tuple which contains every number.** "
   ]
  },
  {
   "cell_type": "raw",
   "metadata": {},
   "source": [
    "Suppose the following input is supplied to the program: 34,67,55,33,12,98 \n",
    "Then, the output should be: \n",
    "    ['34', '67', '55', '33', '12', '98'] \n",
    "    ('34', '67', '55', '33', '12', '98') \n",
    "Hints: \n",
    "list.append()\n",
    "tuple() method can convert list to tuple "
   ]
  },
  {
   "cell_type": "code",
   "execution_count": null,
   "metadata": {},
   "outputs": [],
   "source": []
  }
 ],
 "metadata": {
  "kernelspec": {
   "display_name": "Python 3 (ipykernel)",
   "language": "python",
   "name": "python3"
  },
  "language_info": {
   "codemirror_mode": {
    "name": "ipython",
    "version": 3
   },
   "file_extension": ".py",
   "mimetype": "text/x-python",
   "name": "python",
   "nbconvert_exporter": "python",
   "pygments_lexer": "ipython3",
   "version": "3.9.12"
  }
 },
 "nbformat": 4,
 "nbformat_minor": 2
}

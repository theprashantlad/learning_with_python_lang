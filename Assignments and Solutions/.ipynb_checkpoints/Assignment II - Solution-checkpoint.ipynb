{
 "cells": [
  {
   "cell_type": "markdown",
   "metadata": {},
   "source": [
    "**Write a Python program to get the difference between a given number and 17, if the number is greater than 17 return double the absolute difference.**"
   ]
  },
  {
   "cell_type": "code",
   "execution_count": 28,
   "metadata": {},
   "outputs": [
    {
     "name": "stdout",
     "output_type": "stream",
     "text": [
      "4\n"
     ]
    }
   ],
   "source": [
    "given_number = 19\n",
    "difference = given_number - 17\n",
    "\n",
    "if given_number > 17 :\n",
    "    print (difference*2)"
   ]
  },
  {
   "cell_type": "code",
   "execution_count": 31,
   "metadata": {},
   "outputs": [
    {
     "name": "stdout",
     "output_type": "stream",
     "text": [
      "90\n",
      "Double of Difference =  146\n"
     ]
    }
   ],
   "source": [
    "given_number = int(input())\n",
    "difference = given_number - 17\n",
    "\n",
    "if given_number > 17 :\n",
    "    print (\"Double of Difference = \", difference*2)"
   ]
  },
  {
   "cell_type": "markdown",
   "metadata": {},
   "source": [
    "# Hint :: User Input"
   ]
  },
  {
   "cell_type": "code",
   "execution_count": 1,
   "metadata": {},
   "outputs": [
    {
     "name": "stdout",
     "output_type": "stream",
     "text": [
      "who are you?s\n",
      "\n",
      "Welcome s\n"
     ]
    }
   ],
   "source": [
    "name = input(\"who are you?\")\n",
    "print()\n",
    "print ('Welcome', name)"
   ]
  },
  {
   "cell_type": "code",
   "execution_count": 2,
   "metadata": {},
   "outputs": [
    {
     "name": "stdout",
     "output_type": "stream",
     "text": [
      "What is your age?30\n",
      "\n",
      "The age is  30\n"
     ]
    }
   ],
   "source": [
    "age = input('What is your age?')\n",
    "print ()\n",
    "print (\"The age is \", age)"
   ]
  },
  {
   "cell_type": "markdown",
   "metadata": {},
   "source": [
    "**Write a Python program to find whether a given number (accept from the user) is even or odd, print out an appropriate message to the user.**"
   ]
  },
  {
   "cell_type": "code",
   "execution_count": 1,
   "metadata": {},
   "outputs": [
    {
     "name": "stdout",
     "output_type": "stream",
     "text": [
      "Please provide a number :: 90\n",
      "\n",
      "Even\n"
     ]
    }
   ],
   "source": [
    "number = input (\"Please provide a number :: \")\n",
    "number = int(number)\n",
    "print ()\n",
    "if number%2==0:\n",
    "    print (\"Even\")\n",
    "else :\n",
    "    print (\"Odd\")"
   ]
  },
  {
   "cell_type": "markdown",
   "metadata": {},
   "source": [
    "**Given this nested list, use indexing to grab the word \"hello\"**\n",
    "\n",
    "lst = [1,2,[3,4],[5,[100,200,['hello']],23,11],1,7]"
   ]
  },
  {
   "cell_type": "code",
   "execution_count": 2,
   "metadata": {},
   "outputs": [
    {
     "name": "stdout",
     "output_type": "stream",
     "text": [
      "[1, 2, [3, 4], [5, [100, 200, ['hello']], 23, 11], 1, 7]\n"
     ]
    }
   ],
   "source": [
    "lst = [1,2,[3,4],[5,[100,200,['hello']],'23',11],1,7]\n",
    "print (lst)"
   ]
  },
  {
   "cell_type": "code",
   "execution_count": 3,
   "metadata": {},
   "outputs": [
    {
     "name": "stdout",
     "output_type": "stream",
     "text": [
      "6\n"
     ]
    }
   ],
   "source": [
    "print(len(lst))"
   ]
  },
  {
   "cell_type": "code",
   "execution_count": 7,
   "metadata": {},
   "outputs": [
    {
     "data": {
      "text/plain": [
       "'hello'"
      ]
     },
     "execution_count": 7,
     "metadata": {},
     "output_type": "execute_result"
    }
   ],
   "source": [
    "lst[3]\n",
    "lst[3][1]\n",
    "lst[3][1][2]\n",
    "lst[3][1][2][0]"
   ]
  },
  {
   "cell_type": "markdown",
   "metadata": {},
   "source": [
    "**Given this nested dictionary grab the word \"hello\". Be prepared, this will be annoying/tricky**\n",
    "\n",
    "d = {'k1':[1,2,3,{'tricky':['oh','man','inception',{'target':[1,2,3,'hello']}]}]}"
   ]
  },
  {
   "cell_type": "code",
   "execution_count": 8,
   "metadata": {},
   "outputs": [
    {
     "name": "stdout",
     "output_type": "stream",
     "text": [
      "{'k1': [1, 2, 3, {'tricky': ['oh', 'man', 'inception', {'target': [1, 2, 3, 'hello']}]}]}\n"
     ]
    }
   ],
   "source": [
    "d = {'k1':[1,2,3,{'tricky':['oh','man','inception',{'target':[1,2,3,'hello']}]}]}\n",
    "print (d)"
   ]
  },
  {
   "cell_type": "code",
   "execution_count": 11,
   "metadata": {},
   "outputs": [
    {
     "name": "stdout",
     "output_type": "stream",
     "text": [
      "[1, 2, 3, {'tricky': ['oh', 'man', 'inception', {'target': [1, 2, 3, 'hello']}]}]\n",
      "<class 'list'>\n"
     ]
    }
   ],
   "source": [
    "print (d['k1'])\n",
    "print (type(d['k1']))"
   ]
  },
  {
   "cell_type": "code",
   "execution_count": 13,
   "metadata": {},
   "outputs": [
    {
     "name": "stdout",
     "output_type": "stream",
     "text": [
      "{'tricky': ['oh', 'man', 'inception', {'target': [1, 2, 3, 'hello']}]}\n",
      "<class 'dict'>\n"
     ]
    }
   ],
   "source": [
    "print (d['k1'][3])\n",
    "print (type(d['k1'][3]))"
   ]
  },
  {
   "cell_type": "code",
   "execution_count": 15,
   "metadata": {},
   "outputs": [
    {
     "name": "stdout",
     "output_type": "stream",
     "text": [
      "['oh', 'man', 'inception', {'target': [1, 2, 3, 'hello']}]\n",
      "<class 'list'>\n"
     ]
    }
   ],
   "source": [
    "print (d['k1'][3]['tricky'])\n",
    "print (type(d['k1'][3]['tricky']))"
   ]
  },
  {
   "cell_type": "code",
   "execution_count": 16,
   "metadata": {},
   "outputs": [
    {
     "name": "stdout",
     "output_type": "stream",
     "text": [
      "{'target': [1, 2, 3, 'hello']}\n",
      "<class 'dict'>\n"
     ]
    }
   ],
   "source": [
    "print (d['k1'][3]['tricky'][3])\n",
    "print (type(d['k1'][3]['tricky'][3]))"
   ]
  },
  {
   "cell_type": "code",
   "execution_count": 17,
   "metadata": {},
   "outputs": [
    {
     "name": "stdout",
     "output_type": "stream",
     "text": [
      "[1, 2, 3, 'hello']\n",
      "<class 'list'>\n"
     ]
    }
   ],
   "source": [
    "print (d['k1'][3]['tricky'][3]['target'])\n",
    "print (type(d['k1'][3]['tricky'][3]['target']))"
   ]
  },
  {
   "cell_type": "code",
   "execution_count": 18,
   "metadata": {},
   "outputs": [
    {
     "name": "stdout",
     "output_type": "stream",
     "text": [
      "hello\n",
      "<class 'str'>\n"
     ]
    }
   ],
   "source": [
    "print (d['k1'][3]['tricky'][3]['target'][3])\n",
    "print (type(d['k1'][3]['tricky'][3]['target'][3]))"
   ]
  },
  {
   "cell_type": "markdown",
   "metadata": {},
   "source": [
    "**Create a basic function that returns True if the word 'dog' is contained in the input string. Don't worry about edge cases like a punctuation being attached to the word dog, but do account for capitalization.**"
   ]
  },
  {
   "cell_type": "code",
   "execution_count": 20,
   "metadata": {},
   "outputs": [],
   "source": [
    "def word_check(myword):\n",
    "    if 'dog' in myword.lower():\n",
    "        return True\n",
    "    else:\n",
    "        return False"
   ]
  },
  {
   "cell_type": "code",
   "execution_count": 21,
   "metadata": {},
   "outputs": [
    {
     "data": {
      "text/plain": [
       "True"
      ]
     },
     "execution_count": 21,
     "metadata": {},
     "output_type": "execute_result"
    }
   ],
   "source": [
    "word_check(\"Tommy is a dog\")"
   ]
  },
  {
   "cell_type": "code",
   "execution_count": 22,
   "metadata": {},
   "outputs": [
    {
     "data": {
      "text/plain": [
       "True"
      ]
     },
     "execution_count": 22,
     "metadata": {},
     "output_type": "execute_result"
    }
   ],
   "source": [
    "word_check(\"Dog is an animal\")"
   ]
  },
  {
   "cell_type": "markdown",
   "metadata": {},
   "source": [
    "**The school committee wants to automate course score calculation work. So they contacted the developing team to find a way for them. You have to select a course and set a criteria as per the school score rule and regulations.**\n",
    "\n",
    "Steps to Perform:\n",
    "1.\tIf the selected course is math\n",
    "2.\tIf the score in theory is more than 60 or score in practical is more than 50\n",
    "3.\tPrint the score of the subject\n",
    "4.\tIf the selected course is science\n",
    "5.\tIf the score in theory is more than 60 or score in practical is more than 40\n",
    "6.\tPrint the score of the subject"
   ]
  },
  {
   "cell_type": "code",
   "execution_count": 5,
   "metadata": {},
   "outputs": [
    {
     "name": "stdout",
     "output_type": "stream",
     "text": [
      "Enter a course (Maths or Science):Maths\n",
      "Enter theory score:40\n",
      "Enter practical score:40\n",
      "you have failed\n"
     ]
    }
   ],
   "source": [
    "course=str(input('Enter a course (Maths or Science):'))\n",
    "\n",
    "theo=int(input('Enter theory score:'))\n",
    "prac=int(input('Enter practical score:'))\n",
    "\n",
    "if course=='Maths':\n",
    "    if (theo>60) or (prac>50):\n",
    "        sum=theo+prac\n",
    "        print('Your Math score is',sum)\n",
    "    else :\n",
    "        print(\"you have failed\")\n",
    "    \n",
    "elif course =='Science':\n",
    "    if(theo>60) or (prac>40):\n",
    "        sum=theo+prac\n",
    "        print('Your Science score is',sum)\n",
    "    else :\n",
    "        print(\"you have failed\")\n",
    "    "
   ]
  },
  {
   "cell_type": "markdown",
   "metadata": {},
   "source": [
    "**Write a program to print the Fibonacci series up to 89:**\n",
    "    # 0,1,1,2,3,5,8,....................89"
   ]
  },
  {
   "cell_type": "code",
   "execution_count": 23,
   "metadata": {
    "collapsed": true
   },
   "outputs": [
    {
     "name": "stdout",
     "output_type": "stream",
     "text": [
      "fibonacci number :  0\n",
      "fibonacci number :  1\n",
      "fibonacci number :  1\n",
      "fibonacci number :  2\n",
      "fibonacci number :  3\n",
      "fibonacci number :  5\n",
      "fibonacci number :  8\n",
      "fibonacci number :  13\n",
      "fibonacci number :  21\n",
      "fibonacci number :  34\n",
      "fibonacci number :  55\n",
      "fibonacci number :  89\n"
     ]
    }
   ],
   "source": [
    "first_num = 0\n",
    "second_num = 1\n",
    "fib_num = 89\n",
    "\n",
    "while first_num <= fib_num:\n",
    "    print ('fibonacci number : ', first_num)\n",
    "    nth_num = first_num + second_num\n",
    "    first_num = second_num\n",
    "#     print (\"updated first num = \", first_num)\n",
    "    second_num = nth_num\n",
    "#     print (\"updated second num  = \", second_num )"
   ]
  },
  {
   "cell_type": "raw",
   "metadata": {},
   "source": [
    "# understanding the code above\n",
    "\n",
    "0\n",
    "nth_num = first_num + second_num = 0 + 1 = 1\n",
    "first_num = second_num = 1\n",
    "second_num = nth_num = 1\n",
    "\n",
    "nth_num = first_num + second_num = 1 + 1 = 2\n",
    "first_num = second_num = 1\n",
    "second_num = nth_num = 2"
   ]
  },
  {
   "cell_type": "markdown",
   "metadata": {},
   "source": [
    "**Write a program which accepts a sequence of comma-separated numbers from console and generate a list and a tuple which contains every number.** "
   ]
  },
  {
   "cell_type": "raw",
   "metadata": {},
   "source": [
    "Suppose the following input is supplied to the program: 34,67,55,33,12,98 \n",
    "Then, the output should be: \n",
    "    ['34', '67', '55', '33', '12', '98'] \n",
    "    ('34', '67', '55', '33', '12', '98') \n",
    "Hints: \n",
    "list.append()\n",
    "tuple() method can convert list to tuple "
   ]
  },
  {
   "cell_type": "code",
   "execution_count": 26,
   "metadata": {},
   "outputs": [
    {
     "name": "stdout",
     "output_type": "stream",
     "text": [
      "Please provide a number :: 34\n",
      "Please provide a number :: 67\n",
      "Please provide a number :: 55\n",
      "Please provide a number :: 33\n",
      "Please provide a number :: 12\n",
      "Please provide a number :: 98\n",
      "\n",
      "['34', '67', '55', '33', '12', '98']\n"
     ]
    }
   ],
   "source": [
    "a = 0\n",
    "aList = []\n",
    "\n",
    "while a <= 5:\n",
    "    num = input('Please provide a number :: ')\n",
    "#     print (num)\n",
    "    aList.append(num)\n",
    "#     print (aList)\n",
    "    a += 1\n",
    "\n",
    "print ()\n",
    "print (aList)\n",
    "\n",
    "aTuple = tuple(aList)"
   ]
  },
  {
   "cell_type": "markdown",
   "metadata": {},
   "source": [
    "### Final Problem\n",
    "**You are driving a little too fast, and a police officer stops you. Write a function\n",
    "  to return one of 3 possible results: \"No ticket\", \"Small ticket\", or \"Big Ticket\". \n",
    "  If your speed is 60 or less, the result is \"No Ticket\". If speed is between 61 \n",
    "  and 80 inclusive, the result is \"Small Ticket\". If speed is 81 or more, the result is \"Big Ticket\"."
   ]
  },
  {
   "cell_type": "code",
   "execution_count": 8,
   "metadata": {},
   "outputs": [],
   "source": [
    "def speed_test(speed):\n",
    "    if speed<=60:\n",
    "        return('No ticket')\n",
    "    elif speed>=61 and speed<=80: # inclusive range\n",
    "        return('Small Ticket')\n",
    "    else:\n",
    "        return('Big Ticket')"
   ]
  },
  {
   "cell_type": "code",
   "execution_count": 9,
   "metadata": {},
   "outputs": [
    {
     "data": {
      "text/plain": [
       "'No ticket'"
      ]
     },
     "execution_count": 9,
     "metadata": {},
     "output_type": "execute_result"
    }
   ],
   "source": [
    "speed_test(60)"
   ]
  },
  {
   "cell_type": "code",
   "execution_count": null,
   "metadata": {},
   "outputs": [],
   "source": []
  }
 ],
 "metadata": {
  "kernelspec": {
   "display_name": "Python 3 (ipykernel)",
   "language": "python",
   "name": "python3"
  },
  "language_info": {
   "codemirror_mode": {
    "name": "ipython",
    "version": 3
   },
   "file_extension": ".py",
   "mimetype": "text/x-python",
   "name": "python",
   "nbconvert_exporter": "python",
   "pygments_lexer": "ipython3",
   "version": "3.9.12"
  }
 },
 "nbformat": 4,
 "nbformat_minor": 2
}

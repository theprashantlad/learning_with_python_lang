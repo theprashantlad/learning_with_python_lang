{
 "cells": [
  {
   "cell_type": "markdown",
   "id": "1d39733e",
   "metadata": {},
   "source": [
    "# Pandas -- Data Analysis Library\n",
    "- Used extensively by Data Scientist/Data Analyst to perform EDA (Exploratory Data Analysis)\n",
    "- EDA is all about getting comfortable with the data such that you can answer any type of question\n",
    "raised by your stakeholders / client"
   ]
  },
  {
   "cell_type": "code",
   "execution_count": 2,
   "id": "68212c93",
   "metadata": {},
   "outputs": [],
   "source": [
    "import numpy as np\n",
    "import pandas as pd"
   ]
  },
  {
   "cell_type": "markdown",
   "id": "b275f84b",
   "metadata": {},
   "source": [
    "# Data Containers"
   ]
  },
  {
   "cell_type": "markdown",
   "id": "d0f6fb32",
   "metadata": {},
   "source": [
    "## Series\n",
    "\n",
    "Series: It is a one-dimensional array-like structure used to represent a dataset and can be visualized as **a single column dataset**. It supports multiple data types, such as Integer, string, float.\n",
    "\n",
    "Series can be created in multiple ways with the help of data elements which, if defined properly, act as data input to create a series. Therefore, data input can be an ndarray, dict, scalar, or a list. Let’s take a look at each one in detail.\n",
    "\n",
    "Now, let’s see how we can create a series."
   ]
  },
  {
   "cell_type": "markdown",
   "id": "5a3fc982",
   "metadata": {},
   "source": [
    "### List\n",
    "\n",
    "This basic Python data structure which can act as an input to create Pandas series. List can hold a range of values of multiple data types. So, if a dataset appears as list, use list as input to create series."
   ]
  },
  {
   "cell_type": "code",
   "execution_count": null,
   "id": "f0b533bc",
   "metadata": {},
   "outputs": [],
   "source": [
    "print (list('abcdef'))"
   ]
  },
  {
   "cell_type": "code",
   "execution_count": null,
   "id": "321e4ec5",
   "metadata": {},
   "outputs": [],
   "source": [
    "# Pass list as an argument\n",
    "\n",
    "first_series = pd.Series(list('abcedef'))\n",
    "print(first_series)"
   ]
  },
  {
   "cell_type": "markdown",
   "id": "f1fed374",
   "metadata": {},
   "source": [
    "***Shows index, data value and data type***\n",
    "\n",
    "***We have not created index for data but notice that data alignment is done automatically.***"
   ]
  },
  {
   "cell_type": "markdown",
   "id": "914bda32",
   "metadata": {},
   "source": [
    "### ndarray\n",
    "    \n",
    "An ndarray can be used as an input to create Pandas series. The use of ndarray is recommended wherever the dataset is number-centric and requires complex numerical computing. "
   ]
  },
  {
   "cell_type": "code",
   "execution_count": null,
   "id": "41352006",
   "metadata": {},
   "outputs": [],
   "source": [
    "# ndarray for countries\n",
    "np_countries = np.array(['Algeria','Angola','Argentina','Australia','Austria','Bahamas','Bangladesh','Belarus','Belgium',\n",
    "                      'Bhutan','Brazil','Bulgaria','Cambodia','Cameroon','Chile','China','Colombia','Cyprus','Denmark'])\n",
    "np_countries\n"
   ]
  },
  {
   "cell_type": "code",
   "execution_count": null,
   "id": "64227a8e",
   "metadata": {},
   "outputs": [],
   "source": [
    "# Pass ndarray as an argument\n",
    "\n",
    "s_countries = pd.Series(np_countries)\n",
    "print (s_countries)"
   ]
  },
  {
   "cell_type": "markdown",
   "id": "1036a0cf",
   "metadata": {},
   "source": [
    "### dict\n",
    "A Pandas series can also be created using dictionary and it is very efficient when it comes to indexing or reindexing a dataset for data wrangling purposes. dict works in a key-value fashion, so use it whenever the dataset is structured as key-value pair."
   ]
  },
  {
   "cell_type": "code",
   "execution_count": null,
   "id": "4e65942c",
   "metadata": {},
   "outputs": [],
   "source": [
    "dictionary = {\"A\" : 20, \"B\" : 35, 'C': 100}\n",
    "print (dictionary)"
   ]
  },
  {
   "cell_type": "code",
   "execution_count": null,
   "id": "00c3cec0",
   "metadata": {},
   "outputs": [],
   "source": [
    "# Pass dictionary as an argument\n",
    "\n",
    "series = pd.Series(dictionary)\n",
    "print(series) "
   ]
  },
  {
   "cell_type": "markdown",
   "id": "dbf16b3d",
   "metadata": {},
   "source": [
    "### Vectorized operations\n",
    "\n",
    "Vectorized operations show you how you can add two or more series. The vector operations are essentially performed by the index positions of data elements.\n",
    "\n",
    "The first example shows how the two series, ‘first_vector_series’ and ‘second_vector_series’ are added and this is done at index level. "
   ]
  },
  {
   "cell_type": "code",
   "execution_count": null,
   "id": "949f774d",
   "metadata": {},
   "outputs": [],
   "source": [
    "first_vector_series = pd.Series([1,2,3,4], index = ['a','b','c','d']) \n",
    "second_vector_series = pd.Series([10,20,30,40], index = ['a','b','c','d'])\n",
    "\n",
    "print (first_vector_series)\n",
    "print ()\n",
    "print (second_vector_series)"
   ]
  },
  {
   "cell_type": "code",
   "execution_count": null,
   "id": "7ddbc1b5",
   "metadata": {},
   "outputs": [],
   "source": [
    "print (first_vector_series + second_vector_series)"
   ]
  },
  {
   "cell_type": "markdown",
   "id": "89a66c55",
   "metadata": {},
   "source": [
    "Let’s **shuffle indices** and see what happens. For the second vector series, we change the values of indices a, d, b, and c. Thus, when we add the two vector series, we get a different output as the data element is bound to the index position. "
   ]
  },
  {
   "cell_type": "code",
   "execution_count": null,
   "id": "c1ee00e3",
   "metadata": {},
   "outputs": [],
   "source": [
    "first_vector_series = pd.Series([1,2,3,4], index = ['a','b','c','d']) \n",
    "second_vector_series = pd.Series([10,20,30,40], index = ['c','a','d','b'])\n",
    "\n",
    "print (first_vector_series)\n",
    "print ()\n",
    "print (second_vector_series)"
   ]
  },
  {
   "cell_type": "code",
   "execution_count": null,
   "id": "0299f11c",
   "metadata": {},
   "outputs": [],
   "source": [
    "print (first_vector_series + second_vector_series)"
   ]
  },
  {
   "cell_type": "markdown",
   "id": "d319e59c",
   "metadata": {},
   "source": [
    "***Where ever the indices don't match, it will not add and would hold NOT A NUMBER or NaN***"
   ]
  },
  {
   "cell_type": "code",
   "execution_count": null,
   "id": "a781c258",
   "metadata": {},
   "outputs": [],
   "source": [
    "first_vector_series = pd.Series([1,2,3,4], index = ['a','b','c','d']) \n",
    "second_vector_series = pd.Series([10.0,20,30,40], index = ['a','b','e','f'])\n",
    "\n",
    "print (first_vector_series)\n",
    "print ()\n",
    "print (second_vector_series)"
   ]
  },
  {
   "cell_type": "code",
   "execution_count": null,
   "id": "562a50bc",
   "metadata": {},
   "outputs": [],
   "source": [
    "print (first_vector_series + second_vector_series)"
   ]
  },
  {
   "cell_type": "markdown",
   "id": "bb8d1108",
   "metadata": {},
   "source": [
    "## Dataframes\n",
    "\n",
    "DataFrame is another core feature of the Pandas data structure.\n",
    "\n",
    "DataFrame is a two-dimensional labeled data structure with columns of potentially different data types.\n",
    "\n",
    "A DataFrame looks like a spreadsheet with a row-columnar structure or a SQL data table with rows and columns.\n",
    "\n",
    "There can be several inputs to the DataFrame and we’ll go through them in detail. Let’s have a quick overview of the data inputs:"
   ]
  },
  {
   "cell_type": "markdown",
   "id": "12de537f",
   "metadata": {},
   "source": [
    "The core data abstraction layer in Pandas is called a DataFrame\n",
    "\n",
    "**Any data that you load/initialize using Pandas will be represented in the form of DataFrame**\n",
    "\n",
    "- To create a Dataframe, you can use the following two approach\n",
    " 1. Create DF using collection object\n",
    " 2. Create DF by loading a file"
   ]
  },
  {
   "cell_type": "markdown",
   "id": "31757ca2",
   "metadata": {},
   "source": [
    "## List"
   ]
  },
  {
   "cell_type": "code",
   "execution_count": null,
   "id": "19533be6",
   "metadata": {},
   "outputs": [],
   "source": [
    "list1 = [[1,'Prashant',1000], [2,'Arun',2000]]\n",
    "list1"
   ]
  },
  {
   "cell_type": "code",
   "execution_count": null,
   "id": "19134051",
   "metadata": {},
   "outputs": [],
   "source": [
    "empDataFrameFromList = pd.DataFrame(list1)\n",
    "empDataFrameFromList"
   ]
  },
  {
   "cell_type": "code",
   "execution_count": null,
   "id": "64ba862f",
   "metadata": {},
   "outputs": [],
   "source": [
    "# DataFrame data is represented using Row and Column indexes\n",
    "# You can replace Column indexes with column names\n",
    "\n",
    "empDataFrameFromList.columns = [\"eid\", 'ename', 'esal'] # set the column names\n",
    "print (empDataFrameFromList)\n",
    "print ()\n",
    "\n",
    "display(empDataFrameFromList)\n",
    "\n",
    "empDataFrameFromList"
   ]
  },
  {
   "cell_type": "code",
   "execution_count": null,
   "id": "bca2680d",
   "metadata": {},
   "outputs": [],
   "source": [
    "empDataFrameFromList.columns # get the column names"
   ]
  },
  {
   "cell_type": "markdown",
   "id": "8f1d6eb3",
   "metadata": {},
   "source": [
    "# Inclass Assignment\n",
    "\n",
    "# 1\n"
   ]
  },
  {
   "cell_type": "markdown",
   "id": "58c75f14",
   "metadata": {},
   "source": [
    "Use the list below to create DF \"empDataFrameFromList2\" and provide the col names as 'empid','ename','esal'\n",
    "\n",
    "list2 = [[1,'Prashant',5000], [2,'Arun',8000], [3,'Aman',9899]]"
   ]
  },
  {
   "cell_type": "code",
   "execution_count": 3,
   "id": "dad24c9f",
   "metadata": {},
   "outputs": [
    {
     "data": {
      "text/html": [
       "<div>\n",
       "<style scoped>\n",
       "    .dataframe tbody tr th:only-of-type {\n",
       "        vertical-align: middle;\n",
       "    }\n",
       "\n",
       "    .dataframe tbody tr th {\n",
       "        vertical-align: top;\n",
       "    }\n",
       "\n",
       "    .dataframe thead th {\n",
       "        text-align: right;\n",
       "    }\n",
       "</style>\n",
       "<table border=\"1\" class=\"dataframe\">\n",
       "  <thead>\n",
       "    <tr style=\"text-align: right;\">\n",
       "      <th></th>\n",
       "      <th>0</th>\n",
       "      <th>1</th>\n",
       "      <th>2</th>\n",
       "    </tr>\n",
       "  </thead>\n",
       "  <tbody>\n",
       "    <tr>\n",
       "      <th>0</th>\n",
       "      <td>1</td>\n",
       "      <td>Prashant</td>\n",
       "      <td>5000</td>\n",
       "    </tr>\n",
       "    <tr>\n",
       "      <th>1</th>\n",
       "      <td>2</td>\n",
       "      <td>Arun</td>\n",
       "      <td>8000</td>\n",
       "    </tr>\n",
       "    <tr>\n",
       "      <th>2</th>\n",
       "      <td>3</td>\n",
       "      <td>Aman</td>\n",
       "      <td>9899</td>\n",
       "    </tr>\n",
       "  </tbody>\n",
       "</table>\n",
       "</div>"
      ],
      "text/plain": [
       "   0         1     2\n",
       "0  1  Prashant  5000\n",
       "1  2      Arun  8000\n",
       "2  3      Aman  9899"
      ]
     },
     "execution_count": 3,
     "metadata": {},
     "output_type": "execute_result"
    }
   ],
   "source": [
    "list2 = [[1,'Prashant',5000], [2,'Arun',8000], [3,'Aman',9899]]\n",
    "empDataFrameFromList2 = pd.DataFrame(list2)\n",
    "empDataFrameFromList2"
   ]
  },
  {
   "cell_type": "code",
   "execution_count": 4,
   "id": "3ef26f22",
   "metadata": {},
   "outputs": [
    {
     "data": {
      "text/html": [
       "<div>\n",
       "<style scoped>\n",
       "    .dataframe tbody tr th:only-of-type {\n",
       "        vertical-align: middle;\n",
       "    }\n",
       "\n",
       "    .dataframe tbody tr th {\n",
       "        vertical-align: top;\n",
       "    }\n",
       "\n",
       "    .dataframe thead th {\n",
       "        text-align: right;\n",
       "    }\n",
       "</style>\n",
       "<table border=\"1\" class=\"dataframe\">\n",
       "  <thead>\n",
       "    <tr style=\"text-align: right;\">\n",
       "      <th></th>\n",
       "      <th>empid</th>\n",
       "      <th>ename</th>\n",
       "      <th>esal</th>\n",
       "    </tr>\n",
       "  </thead>\n",
       "  <tbody>\n",
       "    <tr>\n",
       "      <th>0</th>\n",
       "      <td>1</td>\n",
       "      <td>Prashant</td>\n",
       "      <td>5000</td>\n",
       "    </tr>\n",
       "    <tr>\n",
       "      <th>1</th>\n",
       "      <td>2</td>\n",
       "      <td>Arun</td>\n",
       "      <td>8000</td>\n",
       "    </tr>\n",
       "    <tr>\n",
       "      <th>2</th>\n",
       "      <td>3</td>\n",
       "      <td>Aman</td>\n",
       "      <td>9899</td>\n",
       "    </tr>\n",
       "  </tbody>\n",
       "</table>\n",
       "</div>"
      ],
      "text/plain": [
       "   empid     ename  esal\n",
       "0      1  Prashant  5000\n",
       "1      2      Arun  8000\n",
       "2      3      Aman  9899"
      ]
     },
     "metadata": {},
     "output_type": "display_data"
    }
   ],
   "source": [
    "empDataFrameFromList2.columns = [\"empid\", \"ename\", \"esal\"] # providing col names to cols\n",
    "\n",
    "display(empDataFrameFromList2)"
   ]
  },
  {
   "cell_type": "markdown",
   "id": "5aa48eda",
   "metadata": {},
   "source": [
    "### dict\n",
    "\n",
    "A Pandas DataFrame can also be created using ***dictionary of list***. It is very efficient when it comes to indexing or reindexing a dataset for data wrangling purposes. "
   ]
  },
  {
   "cell_type": "markdown",
   "id": "544f566b",
   "metadata": {},
   "source": [
    "In this example, we will create a dataset related to Summer Olympics. \n",
    "\n",
    "First, import the Pandas library. Then, declare a dict ‘Olympic_data_list’ and pass the indices ‘HostCity’, ‘No. of Participating Countries’, and ‘Year’ with its data elements as arguments.\n",
    "\n",
    "As you can observe, it is a tabular representation of data with rows and columns.\n",
    "Next, pass this list to the DataFrame method ‘pd.DataFrame’ to create a basic DataFrame.\n",
    "\n",
    "Note that data alignment is automatically taken care here. When we call this DataFrame ‘df_Olympic_data’, the output displays all the rows with its corresponding indices."
   ]
  },
  {
   "cell_type": "code",
   "execution_count": null,
   "id": "83f77616",
   "metadata": {},
   "outputs": [],
   "source": [
    "olympic_data = {'HostCity':['London', 'Beijing', 'Athens', 'Sydney', 'Atlanta'], \n",
    "                'Year': [2012, 2008, 2004, 2000, 1996],\n",
    "                'No. of Participating Countries': [205, 205, 201, 200, 197]}\n",
    "\n",
    "print (type(olympic_data))\n",
    "print ()\n",
    "olympic_data"
   ]
  },
  {
   "cell_type": "code",
   "execution_count": null,
   "id": "e936b0e0",
   "metadata": {},
   "outputs": [],
   "source": [
    "# dictionary of list as an argument to pd.DataFrame\n",
    "\n",
    "df_olympic_data = pd.DataFrame(olympic_data)\n",
    "\n",
    "df_olympic_data"
   ]
  },
  {
   "cell_type": "markdown",
   "id": "cdcce86d",
   "metadata": {},
   "source": [
    "### Series\n",
    "\n",
    "Series can also be an input to a DataFrame. "
   ]
  },
  {
   "cell_type": "markdown",
   "id": "500ac735",
   "metadata": {},
   "source": [
    "Let’s learn how to create DataFrame from series.\n",
    "\n",
    "Let’s create two series first. The first series, ‘olympic_series_participation’, is for the number of countries participating for the given year. The second series, ‘olympic_series_country’, is for the cities which held the Olympics that year. \n",
    "Now, create a DataFrame ‘df_olympic_series’ and pass both the series as dicts in it. You can also assign column names in the DataFrame and manipulate the dataset as shown in this example. "
   ]
  },
  {
   "cell_type": "code",
   "execution_count": null,
   "id": "0d6d2354",
   "metadata": {},
   "outputs": [],
   "source": [
    "olympic_series_participation = pd.Series([205,205,201,200,197], index = [2012,2008,2004,2000,1996])\n",
    "olympic_series_countries = pd.Series(['London', 'Beijing', 'Athens', 'Sydney', 'Atlanta'], index = [2012,2008,2004,2000,1996])"
   ]
  },
  {
   "cell_type": "code",
   "execution_count": null,
   "id": "f9604487",
   "metadata": {},
   "outputs": [],
   "source": [
    "print (olympic_series_participation)\n",
    "print ()\n",
    "print (olympic_series_countries)"
   ]
  },
  {
   "cell_type": "code",
   "execution_count": null,
   "id": "4347039c",
   "metadata": {},
   "outputs": [],
   "source": [
    "dict_series = {'No. of Participating Countries': olympic_series_participation, \n",
    "                                  'HostCity': olympic_series_countries}\n",
    "dict_series"
   ]
  },
  {
   "cell_type": "code",
   "execution_count": null,
   "id": "8d2ebcec",
   "metadata": {},
   "outputs": [],
   "source": [
    "# dictionary of Series\n",
    "\n",
    "df_olympic_series = pd.DataFrame({'No. of Participating Countries': olympic_series_participation, \n",
    "                                  'HostCity': olympic_series_countries})\n",
    "display (df_olympic_series)"
   ]
  },
  {
   "cell_type": "markdown",
   "id": "7256f74f",
   "metadata": {},
   "source": [
    "### ndarray\n",
    "    \n",
    "An ndarray can be used as an input to creating Pandas DataFrame. The use of ndarray is recommended wherever the dataset is number centric and when instances require complex numerical computing.\n"
   ]
  },
  {
   "cell_type": "code",
   "execution_count": null,
   "id": "e0f9c0ff",
   "metadata": {},
   "outputs": [],
   "source": [
    "# Create ndarrays \n",
    "\n",
    "olympic_array_year = np.array([2012,2008,2004,2000,1996]) # array\n",
    "olympic_array_participation = np.array([205,205,201,200,197])\n",
    "olympic_array_countries = np.array(['London', 'Beijing', 'Athens', 'Sydney', 'Atlanta'])"
   ]
  },
  {
   "cell_type": "code",
   "execution_count": null,
   "id": "44627c18",
   "metadata": {},
   "outputs": [],
   "source": [
    "# Create a df with the ndarray dict\n",
    "\n",
    "df_olympic_array = pd.DataFrame({'No. of Participating Countries': olympic_array_participation, \n",
    "                                 'HostCity': olympic_array_countries, 'Year' : olympic_array_year}) # dictionary of array\n",
    "df_olympic_array"
   ]
  },
  {
   "cell_type": "markdown",
   "id": "d8d97e67",
   "metadata": {},
   "source": [
    "## Accessing column in a dataframe"
   ]
  },
  {
   "cell_type": "code",
   "execution_count": null,
   "id": "1bb93e52",
   "metadata": {},
   "outputs": [],
   "source": [
    "df_olympic_data"
   ]
  },
  {
   "cell_type": "code",
   "execution_count": null,
   "id": "a40262cc",
   "metadata": {},
   "outputs": [],
   "source": [
    "df_olympic_data.HostCity # used for working with a single column"
   ]
  },
  {
   "cell_type": "code",
   "execution_count": null,
   "id": "d2efc8e1",
   "metadata": {},
   "outputs": [],
   "source": [
    "df_olympic_data[['HostCity', \"Year\"]] # used for accessing multiple columns"
   ]
  },
  {
   "cell_type": "code",
   "execution_count": null,
   "id": "b0b237e1",
   "metadata": {},
   "outputs": [],
   "source": [
    "df_olympic_data.No. of Participating Countries  # columns with spaces in the name"
   ]
  },
  {
   "cell_type": "code",
   "execution_count": null,
   "id": "dbe4ac02",
   "metadata": {},
   "outputs": [],
   "source": [
    "df_olympic_data[['No. of Participating Countries']] # used for accessing columns with spaces in the name"
   ]
  },
  {
   "cell_type": "markdown",
   "id": "f313a764",
   "metadata": {},
   "source": [
    "## Data Operation with Statistical Functions"
   ]
  },
  {
   "cell_type": "code",
   "execution_count": 6,
   "id": "ad083b99",
   "metadata": {},
   "outputs": [
    {
     "data": {
      "text/html": [
       "<div>\n",
       "<style scoped>\n",
       "    .dataframe tbody tr th:only-of-type {\n",
       "        vertical-align: middle;\n",
       "    }\n",
       "\n",
       "    .dataframe tbody tr th {\n",
       "        vertical-align: top;\n",
       "    }\n",
       "\n",
       "    .dataframe thead th {\n",
       "        text-align: right;\n",
       "    }\n",
       "</style>\n",
       "<table border=\"1\" class=\"dataframe\">\n",
       "  <thead>\n",
       "    <tr style=\"text-align: right;\">\n",
       "      <th></th>\n",
       "      <th>Test1</th>\n",
       "      <th>Test2</th>\n",
       "    </tr>\n",
       "  </thead>\n",
       "  <tbody>\n",
       "    <tr>\n",
       "      <th>Jack</th>\n",
       "      <td>95</td>\n",
       "      <td>74</td>\n",
       "    </tr>\n",
       "    <tr>\n",
       "      <th>Lewis</th>\n",
       "      <td>84</td>\n",
       "      <td>85</td>\n",
       "    </tr>\n",
       "    <tr>\n",
       "      <th>Patrick</th>\n",
       "      <td>73</td>\n",
       "      <td>82</td>\n",
       "    </tr>\n",
       "    <tr>\n",
       "      <th>Rich</th>\n",
       "      <td>88</td>\n",
       "      <td>73</td>\n",
       "    </tr>\n",
       "    <tr>\n",
       "      <th>Kelly</th>\n",
       "      <td>82</td>\n",
       "      <td>77</td>\n",
       "    </tr>\n",
       "    <tr>\n",
       "      <th>Paula</th>\n",
       "      <td>61</td>\n",
       "      <td>79</td>\n",
       "    </tr>\n",
       "  </tbody>\n",
       "</table>\n",
       "</div>"
      ],
      "text/plain": [
       "         Test1  Test2\n",
       "Jack        95     74\n",
       "Lewis       84     85\n",
       "Patrick     73     82\n",
       "Rich        88     73\n",
       "Kelly       82     77\n",
       "Paula       61     79"
      ]
     },
     "metadata": {},
     "output_type": "display_data"
    }
   ],
   "source": [
    "df_test_scores = pd.DataFrame({'Test1': [95,84,73,88,82,61], 'Test2': [74,85,82,73,77,79]}, \n",
    "                              index = ['Jack','Lewis','Patrick','Rich','Kelly','Paula'])\n",
    "\n",
    "display (df_test_scores)"
   ]
  },
  {
   "cell_type": "code",
   "execution_count": null,
   "id": "e3b44517",
   "metadata": {},
   "outputs": [],
   "source": [
    "df_test_scores.shape"
   ]
  },
  {
   "cell_type": "code",
   "execution_count": null,
   "id": "4402c651",
   "metadata": {},
   "outputs": [],
   "source": [
    "df_test_scores.max() # default column wise ans"
   ]
  },
  {
   "cell_type": "code",
   "execution_count": null,
   "id": "0aa8fec1",
   "metadata": {},
   "outputs": [],
   "source": [
    "df_test_scores.max(axis = 1)"
   ]
  },
  {
   "cell_type": "code",
   "execution_count": null,
   "id": "7308ec2b",
   "metadata": {},
   "outputs": [],
   "source": [
    "df_test_scores.mean()"
   ]
  },
  {
   "cell_type": "code",
   "execution_count": null,
   "id": "0d4aaf9a",
   "metadata": {},
   "outputs": [],
   "source": [
    "df_test_scores.mean(axis = 1)"
   ]
  },
  {
   "cell_type": "markdown",
   "id": "bcd7e68b",
   "metadata": {},
   "source": [
    "## Creating a new column "
   ]
  },
  {
   "cell_type": "code",
   "execution_count": null,
   "id": "62babd6f",
   "metadata": {},
   "outputs": [],
   "source": [
    "df_test_scores.Total_Scores = df_test_scores.Test1 + df_test_scores.Test2\n",
    "df_test_scores"
   ]
  },
  {
   "cell_type": "code",
   "execution_count": null,
   "id": "3ccc09ab",
   "metadata": {},
   "outputs": [],
   "source": [
    "df_test_scores[['Total_Scores']] = df_test_scores.Test1 + df_test_scores.Test2\n",
    "df_test_scores"
   ]
  },
  {
   "cell_type": "code",
   "execution_count": 7,
   "id": "8771e336",
   "metadata": {},
   "outputs": [
    {
     "data": {
      "text/html": [
       "<div>\n",
       "<style scoped>\n",
       "    .dataframe tbody tr th:only-of-type {\n",
       "        vertical-align: middle;\n",
       "    }\n",
       "\n",
       "    .dataframe tbody tr th {\n",
       "        vertical-align: top;\n",
       "    }\n",
       "\n",
       "    .dataframe thead th {\n",
       "        text-align: right;\n",
       "    }\n",
       "</style>\n",
       "<table border=\"1\" class=\"dataframe\">\n",
       "  <thead>\n",
       "    <tr style=\"text-align: right;\">\n",
       "      <th></th>\n",
       "      <th>Test1</th>\n",
       "      <th>Test2</th>\n",
       "      <th>Total_Scores</th>\n",
       "    </tr>\n",
       "  </thead>\n",
       "  <tbody>\n",
       "    <tr>\n",
       "      <th>Jack</th>\n",
       "      <td>95</td>\n",
       "      <td>74</td>\n",
       "      <td>169</td>\n",
       "    </tr>\n",
       "    <tr>\n",
       "      <th>Lewis</th>\n",
       "      <td>84</td>\n",
       "      <td>85</td>\n",
       "      <td>169</td>\n",
       "    </tr>\n",
       "    <tr>\n",
       "      <th>Patrick</th>\n",
       "      <td>73</td>\n",
       "      <td>82</td>\n",
       "      <td>155</td>\n",
       "    </tr>\n",
       "    <tr>\n",
       "      <th>Rich</th>\n",
       "      <td>88</td>\n",
       "      <td>73</td>\n",
       "      <td>161</td>\n",
       "    </tr>\n",
       "    <tr>\n",
       "      <th>Kelly</th>\n",
       "      <td>82</td>\n",
       "      <td>77</td>\n",
       "      <td>159</td>\n",
       "    </tr>\n",
       "    <tr>\n",
       "      <th>Paula</th>\n",
       "      <td>61</td>\n",
       "      <td>79</td>\n",
       "      <td>140</td>\n",
       "    </tr>\n",
       "  </tbody>\n",
       "</table>\n",
       "</div>"
      ],
      "text/plain": [
       "         Test1  Test2  Total_Scores\n",
       "Jack        95     74           169\n",
       "Lewis       84     85           169\n",
       "Patrick     73     82           155\n",
       "Rich        88     73           161\n",
       "Kelly       82     77           159\n",
       "Paula       61     79           140"
      ]
     },
     "execution_count": 7,
     "metadata": {},
     "output_type": "execute_result"
    }
   ],
   "source": [
    "df_test_scores['Total_Scores'] = df_test_scores.Test1 + df_test_scores.Test2\n",
    "df_test_scores"
   ]
  },
  {
   "cell_type": "markdown",
   "id": "e6e5b4cd",
   "metadata": {},
   "source": [
    "# 2\n",
    "\n",
    "# Add a column giving average score of each student named Average_Scores"
   ]
  },
  {
   "cell_type": "code",
   "execution_count": 8,
   "id": "613e9e27",
   "metadata": {},
   "outputs": [
    {
     "data": {
      "text/html": [
       "<div>\n",
       "<style scoped>\n",
       "    .dataframe tbody tr th:only-of-type {\n",
       "        vertical-align: middle;\n",
       "    }\n",
       "\n",
       "    .dataframe tbody tr th {\n",
       "        vertical-align: top;\n",
       "    }\n",
       "\n",
       "    .dataframe thead th {\n",
       "        text-align: right;\n",
       "    }\n",
       "</style>\n",
       "<table border=\"1\" class=\"dataframe\">\n",
       "  <thead>\n",
       "    <tr style=\"text-align: right;\">\n",
       "      <th></th>\n",
       "      <th>Test1</th>\n",
       "      <th>Test2</th>\n",
       "      <th>Total_Scores</th>\n",
       "      <th>Average_Scores</th>\n",
       "    </tr>\n",
       "  </thead>\n",
       "  <tbody>\n",
       "    <tr>\n",
       "      <th>Jack</th>\n",
       "      <td>95</td>\n",
       "      <td>74</td>\n",
       "      <td>169</td>\n",
       "      <td>84.5</td>\n",
       "    </tr>\n",
       "    <tr>\n",
       "      <th>Lewis</th>\n",
       "      <td>84</td>\n",
       "      <td>85</td>\n",
       "      <td>169</td>\n",
       "      <td>84.5</td>\n",
       "    </tr>\n",
       "    <tr>\n",
       "      <th>Patrick</th>\n",
       "      <td>73</td>\n",
       "      <td>82</td>\n",
       "      <td>155</td>\n",
       "      <td>77.5</td>\n",
       "    </tr>\n",
       "    <tr>\n",
       "      <th>Rich</th>\n",
       "      <td>88</td>\n",
       "      <td>73</td>\n",
       "      <td>161</td>\n",
       "      <td>80.5</td>\n",
       "    </tr>\n",
       "    <tr>\n",
       "      <th>Kelly</th>\n",
       "      <td>82</td>\n",
       "      <td>77</td>\n",
       "      <td>159</td>\n",
       "      <td>79.5</td>\n",
       "    </tr>\n",
       "    <tr>\n",
       "      <th>Paula</th>\n",
       "      <td>61</td>\n",
       "      <td>79</td>\n",
       "      <td>140</td>\n",
       "      <td>70.0</td>\n",
       "    </tr>\n",
       "  </tbody>\n",
       "</table>\n",
       "</div>"
      ],
      "text/plain": [
       "         Test1  Test2  Total_Scores  Average_Scores\n",
       "Jack        95     74           169            84.5\n",
       "Lewis       84     85           169            84.5\n",
       "Patrick     73     82           155            77.5\n",
       "Rich        88     73           161            80.5\n",
       "Kelly       82     77           159            79.5\n",
       "Paula       61     79           140            70.0"
      ]
     },
     "execution_count": 8,
     "metadata": {},
     "output_type": "execute_result"
    }
   ],
   "source": [
    "df_test_scores['Average_Scores'] = (df_test_scores.Test1 + df_test_scores.Test2)/2\n",
    "df_test_scores"
   ]
  },
  {
   "cell_type": "code",
   "execution_count": 9,
   "id": "58749c8e",
   "metadata": {},
   "outputs": [
    {
     "data": {
      "text/html": [
       "<div>\n",
       "<style scoped>\n",
       "    .dataframe tbody tr th:only-of-type {\n",
       "        vertical-align: middle;\n",
       "    }\n",
       "\n",
       "    .dataframe tbody tr th {\n",
       "        vertical-align: top;\n",
       "    }\n",
       "\n",
       "    .dataframe thead th {\n",
       "        text-align: right;\n",
       "    }\n",
       "</style>\n",
       "<table border=\"1\" class=\"dataframe\">\n",
       "  <thead>\n",
       "    <tr style=\"text-align: right;\">\n",
       "      <th></th>\n",
       "      <th>Test1</th>\n",
       "      <th>Test2</th>\n",
       "      <th>Total_Scores</th>\n",
       "      <th>Average_Scores</th>\n",
       "    </tr>\n",
       "  </thead>\n",
       "  <tbody>\n",
       "    <tr>\n",
       "      <th>Jack</th>\n",
       "      <td>95</td>\n",
       "      <td>74</td>\n",
       "      <td>169</td>\n",
       "      <td>105.625</td>\n",
       "    </tr>\n",
       "    <tr>\n",
       "      <th>Lewis</th>\n",
       "      <td>84</td>\n",
       "      <td>85</td>\n",
       "      <td>169</td>\n",
       "      <td>105.625</td>\n",
       "    </tr>\n",
       "    <tr>\n",
       "      <th>Patrick</th>\n",
       "      <td>73</td>\n",
       "      <td>82</td>\n",
       "      <td>155</td>\n",
       "      <td>96.875</td>\n",
       "    </tr>\n",
       "    <tr>\n",
       "      <th>Rich</th>\n",
       "      <td>88</td>\n",
       "      <td>73</td>\n",
       "      <td>161</td>\n",
       "      <td>100.625</td>\n",
       "    </tr>\n",
       "    <tr>\n",
       "      <th>Kelly</th>\n",
       "      <td>82</td>\n",
       "      <td>77</td>\n",
       "      <td>159</td>\n",
       "      <td>99.375</td>\n",
       "    </tr>\n",
       "    <tr>\n",
       "      <th>Paula</th>\n",
       "      <td>61</td>\n",
       "      <td>79</td>\n",
       "      <td>140</td>\n",
       "      <td>87.500</td>\n",
       "    </tr>\n",
       "  </tbody>\n",
       "</table>\n",
       "</div>"
      ],
      "text/plain": [
       "         Test1  Test2  Total_Scores  Average_Scores\n",
       "Jack        95     74           169         105.625\n",
       "Lewis       84     85           169         105.625\n",
       "Patrick     73     82           155          96.875\n",
       "Rich        88     73           161         100.625\n",
       "Kelly       82     77           159          99.375\n",
       "Paula       61     79           140          87.500"
      ]
     },
     "execution_count": 9,
     "metadata": {},
     "output_type": "execute_result"
    }
   ],
   "source": [
    "df_test_scores['Average_Scores'] = df_test_scores.mean(axis = 1)\n",
    "df_test_scores"
   ]
  },
  {
   "cell_type": "code",
   "execution_count": 10,
   "id": "e6225269",
   "metadata": {},
   "outputs": [
    {
     "data": {
      "text/html": [
       "<div>\n",
       "<style scoped>\n",
       "    .dataframe tbody tr th:only-of-type {\n",
       "        vertical-align: middle;\n",
       "    }\n",
       "\n",
       "    .dataframe tbody tr th {\n",
       "        vertical-align: top;\n",
       "    }\n",
       "\n",
       "    .dataframe thead th {\n",
       "        text-align: right;\n",
       "    }\n",
       "</style>\n",
       "<table border=\"1\" class=\"dataframe\">\n",
       "  <thead>\n",
       "    <tr style=\"text-align: right;\">\n",
       "      <th></th>\n",
       "      <th>Test1</th>\n",
       "      <th>Test2</th>\n",
       "      <th>Total_Scores</th>\n",
       "      <th>Average_Scores</th>\n",
       "    </tr>\n",
       "  </thead>\n",
       "  <tbody>\n",
       "    <tr>\n",
       "      <th>Jack</th>\n",
       "      <td>95</td>\n",
       "      <td>74</td>\n",
       "      <td>169</td>\n",
       "      <td>84.5</td>\n",
       "    </tr>\n",
       "    <tr>\n",
       "      <th>Lewis</th>\n",
       "      <td>84</td>\n",
       "      <td>85</td>\n",
       "      <td>169</td>\n",
       "      <td>84.5</td>\n",
       "    </tr>\n",
       "    <tr>\n",
       "      <th>Patrick</th>\n",
       "      <td>73</td>\n",
       "      <td>82</td>\n",
       "      <td>155</td>\n",
       "      <td>77.5</td>\n",
       "    </tr>\n",
       "    <tr>\n",
       "      <th>Rich</th>\n",
       "      <td>88</td>\n",
       "      <td>73</td>\n",
       "      <td>161</td>\n",
       "      <td>80.5</td>\n",
       "    </tr>\n",
       "    <tr>\n",
       "      <th>Kelly</th>\n",
       "      <td>82</td>\n",
       "      <td>77</td>\n",
       "      <td>159</td>\n",
       "      <td>79.5</td>\n",
       "    </tr>\n",
       "    <tr>\n",
       "      <th>Paula</th>\n",
       "      <td>61</td>\n",
       "      <td>79</td>\n",
       "      <td>140</td>\n",
       "      <td>70.0</td>\n",
       "    </tr>\n",
       "  </tbody>\n",
       "</table>\n",
       "</div>"
      ],
      "text/plain": [
       "         Test1  Test2  Total_Scores  Average_Scores\n",
       "Jack        95     74           169            84.5\n",
       "Lewis       84     85           169            84.5\n",
       "Patrick     73     82           155            77.5\n",
       "Rich        88     73           161            80.5\n",
       "Kelly       82     77           159            79.5\n",
       "Paula       61     79           140            70.0"
      ]
     },
     "execution_count": 10,
     "metadata": {},
     "output_type": "execute_result"
    }
   ],
   "source": [
    "df_test_scores['Average_Scores'] = df_test_scores.Total_Scores/2\n",
    "df_test_scores"
   ]
  },
  {
   "cell_type": "code",
   "execution_count": null,
   "id": "8c2b0757",
   "metadata": {},
   "outputs": [],
   "source": []
  }
 ],
 "metadata": {
  "kernelspec": {
   "display_name": "Python 3 (ipykernel)",
   "language": "python",
   "name": "python3"
  },
  "language_info": {
   "codemirror_mode": {
    "name": "ipython",
    "version": 3
   },
   "file_extension": ".py",
   "mimetype": "text/x-python",
   "name": "python",
   "nbconvert_exporter": "python",
   "pygments_lexer": "ipython3",
   "version": "3.9.13"
  }
 },
 "nbformat": 4,
 "nbformat_minor": 5
}

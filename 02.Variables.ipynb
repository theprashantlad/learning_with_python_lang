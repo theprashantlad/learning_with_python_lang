{
 "cells": [
  {
   "cell_type": "markdown",
   "id": "a4d77f73",
   "metadata": {},
   "source": [
    "# Assignments"
   ]
  },
  {
   "cell_type": "code",
   "execution_count": 1,
   "id": "7567a223",
   "metadata": {},
   "outputs": [
    {
     "name": "stdout",
     "output_type": "stream",
     "text": [
      "3\n"
     ]
    }
   ],
   "source": [
    "x = 3        # Assigning a value 3 to a variable x  \n",
    "print (x)    # print () ===== print the value saved in x"
   ]
  },
  {
   "cell_type": "code",
   "execution_count": 2,
   "id": "094cc08d",
   "metadata": {},
   "outputs": [
    {
     "ename": "SyntaxError",
     "evalue": "Missing parentheses in call to 'print'. Did you mean print(x)? (2066750279.py, line 1)",
     "output_type": "error",
     "traceback": [
      "\u001b[1;36m  Input \u001b[1;32mIn [2]\u001b[1;36m\u001b[0m\n\u001b[1;33m    print x\u001b[0m\n\u001b[1;37m          ^\u001b[0m\n\u001b[1;31mSyntaxError\u001b[0m\u001b[1;31m:\u001b[0m Missing parentheses in call to 'print'. Did you mean print(x)?\n"
     ]
    }
   ],
   "source": [
    "print x\n",
    "\n",
    "# SyntaxError: Missing parentheses in call to 'print'. Did you mean print(x)?"
   ]
  },
  {
   "cell_type": "code",
   "execution_count": 3,
   "id": "03c41c47",
   "metadata": {},
   "outputs": [
    {
     "ename": "SyntaxError",
     "evalue": "Missing parentheses in call to 'print'. Did you mean print(X)? (3902570013.py, line 1)",
     "output_type": "error",
     "traceback": [
      "\u001b[1;36m  Input \u001b[1;32mIn [3]\u001b[1;36m\u001b[0m\n\u001b[1;33m    print X\u001b[0m\n\u001b[1;37m          ^\u001b[0m\n\u001b[1;31mSyntaxError\u001b[0m\u001b[1;31m:\u001b[0m Missing parentheses in call to 'print'. Did you mean print(X)?\n"
     ]
    }
   ],
   "source": [
    "print X"
   ]
  },
  {
   "cell_type": "code",
   "execution_count": 4,
   "id": "9638685c",
   "metadata": {},
   "outputs": [
    {
     "ename": "NameError",
     "evalue": "name 'X' is not defined",
     "output_type": "error",
     "traceback": [
      "\u001b[1;31m---------------------------------------------------------------------------\u001b[0m",
      "\u001b[1;31mNameError\u001b[0m                                 Traceback (most recent call last)",
      "Input \u001b[1;32mIn [4]\u001b[0m, in \u001b[0;36m<cell line: 1>\u001b[1;34m()\u001b[0m\n\u001b[1;32m----> 1\u001b[0m \u001b[38;5;28mprint\u001b[39m (\u001b[43mX\u001b[49m)\n",
      "\u001b[1;31mNameError\u001b[0m: name 'X' is not defined"
     ]
    }
   ],
   "source": [
    "print (X)\n",
    "\n",
    "# NameError: name 'X' is not defined"
   ]
  },
  {
   "cell_type": "code",
   "execution_count": 5,
   "id": "04223ad5",
   "metadata": {},
   "outputs": [
    {
     "name": "stdout",
     "output_type": "stream",
     "text": [
      "5\n"
     ]
    }
   ],
   "source": [
    "x = 5     # Assigning a value 5 to a variable x \n",
    "print (x)\n",
    "\n",
    "# always consider latest assignment"
   ]
  },
  {
   "cell_type": "markdown",
   "id": "2698f713",
   "metadata": {},
   "source": [
    "# Naming Rules"
   ]
  },
  {
   "cell_type": "code",
   "execution_count": 6,
   "id": "652f6064",
   "metadata": {},
   "outputs": [
    {
     "name": "stdout",
     "output_type": "stream",
     "text": [
      "98\n"
     ]
    }
   ],
   "source": [
    "credit_score = 98\n",
    "print(credit_score)"
   ]
  },
  {
   "cell_type": "code",
   "execution_count": 7,
   "id": "e542320e",
   "metadata": {},
   "outputs": [
    {
     "ename": "NameError",
     "evalue": "name 'credit' is not defined",
     "output_type": "error",
     "traceback": [
      "\u001b[1;31m---------------------------------------------------------------------------\u001b[0m",
      "\u001b[1;31mNameError\u001b[0m                                 Traceback (most recent call last)",
      "Input \u001b[1;32mIn [7]\u001b[0m, in \u001b[0;36m<cell line: 1>\u001b[1;34m()\u001b[0m\n\u001b[1;32m----> 1\u001b[0m \u001b[43mcredit\u001b[49m\u001b[38;5;241m.\u001b[39mscore \u001b[38;5;241m=\u001b[39m \u001b[38;5;241m89\u001b[39m\n\u001b[0;32m      2\u001b[0m \u001b[38;5;28mprint\u001b[39m (credit\u001b[38;5;241m.\u001b[39mscore)\n",
      "\u001b[1;31mNameError\u001b[0m: name 'credit' is not defined"
     ]
    }
   ],
   "source": [
    "credit.score = 89\n",
    "print (credit.score)\n",
    "\n",
    "# generally dfname.colname"
   ]
  },
  {
   "cell_type": "code",
   "execution_count": 8,
   "id": "c0bd6bf0",
   "metadata": {},
   "outputs": [
    {
     "name": "stdout",
     "output_type": "stream",
     "text": [
      "98\n"
     ]
    }
   ],
   "source": [
    "creditscore = 98\n",
    "print (creditscore)"
   ]
  },
  {
   "cell_type": "code",
   "execution_count": 9,
   "id": "90559e4b",
   "metadata": {},
   "outputs": [
    {
     "name": "stdout",
     "output_type": "stream",
     "text": [
      "98\n"
     ]
    }
   ],
   "source": [
    "creditscore89 = 98\n",
    "print (creditscore89)"
   ]
  },
  {
   "cell_type": "code",
   "execution_count": 10,
   "id": "4587b9c7",
   "metadata": {},
   "outputs": [
    {
     "ename": "SyntaxError",
     "evalue": "invalid syntax (490008629.py, line 1)",
     "output_type": "error",
     "traceback": [
      "\u001b[1;36m  Input \u001b[1;32mIn [10]\u001b[1;36m\u001b[0m\n\u001b[1;33m    89creditscore = 98\u001b[0m\n\u001b[1;37m      ^\u001b[0m\n\u001b[1;31mSyntaxError\u001b[0m\u001b[1;31m:\u001b[0m invalid syntax\n"
     ]
    }
   ],
   "source": [
    "89creditscore = 98\n",
    "print (89creditscore)"
   ]
  },
  {
   "cell_type": "code",
   "execution_count": 11,
   "id": "aa00dce2",
   "metadata": {},
   "outputs": [
    {
     "ename": "SyntaxError",
     "evalue": "invalid syntax (3943045367.py, line 1)",
     "output_type": "error",
     "traceback": [
      "\u001b[1;36m  Input \u001b[1;32mIn [11]\u001b[1;36m\u001b[0m\n\u001b[1;33m    credit score = 98\u001b[0m\n\u001b[1;37m           ^\u001b[0m\n\u001b[1;31mSyntaxError\u001b[0m\u001b[1;31m:\u001b[0m invalid syntax\n"
     ]
    }
   ],
   "source": [
    "credit score = 98\n",
    "print (credit score)"
   ]
  },
  {
   "cell_type": "code",
   "execution_count": 12,
   "id": "60614152",
   "metadata": {},
   "outputs": [
    {
     "ename": "NameError",
     "evalue": "name 'A' is not defined",
     "output_type": "error",
     "traceback": [
      "\u001b[1;31m---------------------------------------------------------------------------\u001b[0m",
      "\u001b[1;31mNameError\u001b[0m                                 Traceback (most recent call last)",
      "Input \u001b[1;32mIn [12]\u001b[0m, in \u001b[0;36m<cell line: 2>\u001b[1;34m()\u001b[0m\n\u001b[0;32m      1\u001b[0m a \u001b[38;5;241m=\u001b[39m \u001b[38;5;241m10\u001b[39m\n\u001b[1;32m----> 2\u001b[0m \u001b[38;5;28mprint\u001b[39m (\u001b[43mA\u001b[49m)\n",
      "\u001b[1;31mNameError\u001b[0m: name 'A' is not defined"
     ]
    }
   ],
   "source": [
    "a = 10\n",
    "print (A)"
   ]
  },
  {
   "cell_type": "code",
   "execution_count": 13,
   "id": "d9e3b9ce",
   "metadata": {},
   "outputs": [
    {
     "name": "stdout",
     "output_type": "stream",
     "text": [
      "10\n"
     ]
    }
   ],
   "source": [
    "_a = 10\n",
    "print (_a)"
   ]
  },
  {
   "cell_type": "markdown",
   "id": "836a142e",
   "metadata": {},
   "source": [
    "***Rules for Python variables names:***\n",
    "\n",
    "- A variable name must start with a letter or the underscore character\n",
    "- A variable name cannot start with a number\n",
    "- A variable name can only contain alpha-numeric characters and underscores (A-z, 0-9, and _ )\n",
    "- Variable names are case-sensitive (age, Age, AGE, aGe, AgE etc are different variables)\n",
    "- long names\n",
    "- Cannot have a space and period (.)"
   ]
  },
  {
   "cell_type": "markdown",
   "id": "a776ab27",
   "metadata": {},
   "source": [
    "# Type of Variables"
   ]
  },
  {
   "cell_type": "markdown",
   "id": "e6a96362",
   "metadata": {},
   "source": [
    "## Variables \n",
    "\n",
    "- Variables are containers for storing data values. A variable is created the moment you first assign a value to it."
   ]
  },
  {
   "cell_type": "raw",
   "id": "6fcabfae",
   "metadata": {},
   "source": [
    "Data types built-in\n",
    "\n",
    "Text Type:      str\n",
    "Boolean Type:   bool\n",
    "Numeric Types:  int, float"
   ]
  },
  {
   "cell_type": "code",
   "execution_count": 14,
   "id": "ddaeb1ca",
   "metadata": {},
   "outputs": [
    {
     "name": "stdout",
     "output_type": "stream",
     "text": [
      "10\n"
     ]
    },
    {
     "data": {
      "text/plain": [
       "int"
      ]
     },
     "execution_count": 14,
     "metadata": {},
     "output_type": "execute_result"
    }
   ],
   "source": [
    "# Integer\n",
    "\n",
    "x = 10\n",
    "print (x)\n",
    "\n",
    "type(x)"
   ]
  },
  {
   "cell_type": "code",
   "execution_count": 15,
   "id": "3905b061",
   "metadata": {},
   "outputs": [
    {
     "name": "stdout",
     "output_type": "stream",
     "text": [
      "10.98\n"
     ]
    },
    {
     "data": {
      "text/plain": [
       "float"
      ]
     },
     "execution_count": 15,
     "metadata": {},
     "output_type": "execute_result"
    }
   ],
   "source": [
    "# Float\n",
    "\n",
    "y = 10.98\n",
    "print (y)\n",
    "\n",
    "type(y)"
   ]
  },
  {
   "cell_type": "code",
   "execution_count": 16,
   "id": "7779043e",
   "metadata": {},
   "outputs": [
    {
     "name": "stdout",
     "output_type": "stream",
     "text": [
      "jupyter\n"
     ]
    },
    {
     "data": {
      "text/plain": [
       "str"
      ]
     },
     "execution_count": 16,
     "metadata": {},
     "output_type": "execute_result"
    }
   ],
   "source": [
    "# String\n",
    "\n",
    "z = \"jupyter\" # character value will always be in qoutes - single or double\n",
    "print (z)\n",
    "\n",
    "type(z)"
   ]
  },
  {
   "cell_type": "code",
   "execution_count": 17,
   "id": "8603c7b3",
   "metadata": {},
   "outputs": [
    {
     "name": "stdout",
     "output_type": "stream",
     "text": [
      "python\n"
     ]
    },
    {
     "data": {
      "text/plain": [
       "str"
      ]
     },
     "execution_count": 17,
     "metadata": {},
     "output_type": "execute_result"
    }
   ],
   "source": [
    "# String\n",
    "\n",
    "z = 'python' # character value will always be in qoutes - single or double\n",
    "print (z)\n",
    "\n",
    "type(z)"
   ]
  },
  {
   "cell_type": "code",
   "execution_count": 18,
   "id": "d712d075",
   "metadata": {},
   "outputs": [
    {
     "name": "stdout",
     "output_type": "stream",
     "text": [
      "True\n"
     ]
    },
    {
     "data": {
      "text/plain": [
       "bool"
      ]
     },
     "execution_count": 18,
     "metadata": {},
     "output_type": "execute_result"
    }
   ],
   "source": [
    "# Boolean\n",
    "\n",
    "b = True\n",
    "print (b)\n",
    "\n",
    "type(b)"
   ]
  },
  {
   "cell_type": "markdown",
   "id": "e2fa3dfe",
   "metadata": {},
   "source": [
    "### Operations and Functions - String Variables"
   ]
  },
  {
   "cell_type": "code",
   "execution_count": 19,
   "id": "c2f7c13b",
   "metadata": {},
   "outputs": [
    {
     "name": "stdout",
     "output_type": "stream",
     "text": [
      "Hello world\n"
     ]
    }
   ],
   "source": [
    "message = 'Hello world'\n",
    "print (message)"
   ]
  },
  {
   "cell_type": "code",
   "execution_count": 20,
   "id": "9902c1e8",
   "metadata": {},
   "outputs": [
    {
     "name": "stdout",
     "output_type": "stream",
     "text": [
      "helloworld\n"
     ]
    }
   ],
   "source": [
    "# Concatenating\n",
    "\n",
    "message1 = \"hello\" + \"world\"\n",
    "print (message1)"
   ]
  },
  {
   "cell_type": "code",
   "execution_count": 21,
   "id": "5af30e5f",
   "metadata": {},
   "outputs": [
    {
     "name": "stdout",
     "output_type": "stream",
     "text": [
      "hello hello hello world\n"
     ]
    }
   ],
   "source": [
    "# Repetition\n",
    "\n",
    "message2a = 'hello ' * 3\n",
    "message2b = \"world\"\n",
    "\n",
    "print (message2a + message2b)"
   ]
  },
  {
   "cell_type": "code",
   "execution_count": 22,
   "id": "d07a5199",
   "metadata": {},
   "outputs": [
    {
     "name": "stdout",
     "output_type": "stream",
     "text": [
      "Machine Learning with Python\n"
     ]
    }
   ],
   "source": [
    "str1 = 'Machine Learning with Python'\n",
    "print (str1)"
   ]
  },
  {
   "cell_type": "code",
   "execution_count": 23,
   "id": "e6d5402a",
   "metadata": {},
   "outputs": [
    {
     "data": {
      "text/plain": [
       "28"
      ]
     },
     "execution_count": 23,
     "metadata": {},
     "output_type": "execute_result"
    }
   ],
   "source": [
    "# the length of str1\n",
    "len(str1)"
   ]
  },
  {
   "cell_type": "code",
   "execution_count": 24,
   "id": "f81f65e8",
   "metadata": {},
   "outputs": [
    {
     "data": {
      "text/plain": [
       "'MACHINE LEARNING WITH PYTHON'"
      ]
     },
     "execution_count": 24,
     "metadata": {},
     "output_type": "execute_result"
    }
   ],
   "source": [
    "# converts all characters in string to Uppercase\n",
    "str1.upper()"
   ]
  },
  {
   "cell_type": "code",
   "execution_count": 25,
   "id": "c149fd06",
   "metadata": {},
   "outputs": [
    {
     "data": {
      "text/plain": [
       "'machine learning with python'"
      ]
     },
     "execution_count": 25,
     "metadata": {},
     "output_type": "execute_result"
    }
   ],
   "source": [
    "# converts all characters in string to lowercase\n",
    "str1.lower()"
   ]
  },
  {
   "cell_type": "code",
   "execution_count": 26,
   "id": "302ddcf5",
   "metadata": {},
   "outputs": [
    {
     "data": {
      "text/plain": [
       "'Machine learning with python'"
      ]
     },
     "execution_count": 26,
     "metadata": {},
     "output_type": "execute_result"
    }
   ],
   "source": [
    "# Capitalize() - capitalizes the first letter of the string\n",
    "str1.capitalize()"
   ]
  },
  {
   "cell_type": "code",
   "execution_count": 27,
   "id": "d65ce7d0",
   "metadata": {},
   "outputs": [
    {
     "data": {
      "text/plain": [
       "'Machine Learning With Python'"
      ]
     },
     "execution_count": 27,
     "metadata": {},
     "output_type": "execute_result"
    }
   ],
   "source": [
    "#  title() - capitalize the first letter of each word in a string\n",
    "str1.title()"
   ]
  },
  {
   "cell_type": "markdown",
   "id": "8643aab4",
   "metadata": {},
   "source": [
    "**replace**\n",
    "\n",
    "- The replace() method replaces a specified phrase with another specified phrase."
   ]
  },
  {
   "cell_type": "code",
   "execution_count": 28,
   "id": "2beec283",
   "metadata": {},
   "outputs": [
    {
     "name": "stdout",
     "output_type": "stream",
     "text": [
      "He pizza  pizza o Wor pizza d\n"
     ]
    }
   ],
   "source": [
    "message8 = \"Hello World\"\n",
    "message8a = message8.replace('l', \" pizza \")\n",
    "print (message8a)"
   ]
  },
  {
   "cell_type": "code",
   "execution_count": 29,
   "id": "d7dd9d81",
   "metadata": {},
   "outputs": [
    {
     "name": "stdout",
     "output_type": "stream",
     "text": [
      "Hello World\n"
     ]
    }
   ],
   "source": [
    "message8 = \"Hello World\"\n",
    "message8a = message8.replace('z', \" pizza \")\n",
    "print (message8a)"
   ]
  },
  {
   "cell_type": "markdown",
   "id": "f349eda7",
   "metadata": {},
   "source": [
    "**Find**\n",
    "\n",
    "- Index of the element :: An index refers to a position within a value. Python strings have characters; each character is given an index from zero (at the beginning) to the length minus one (at the end)\n",
    "\n",
    "- The find() method finds the first occurrence of the specified value.\n",
    "\n",
    "- The find() method returns -1 if the value is not found."
   ]
  },
  {
   "cell_type": "code",
   "execution_count": 30,
   "id": "a567db78",
   "metadata": {},
   "outputs": [
    {
     "name": "stdout",
     "output_type": "stream",
     "text": [
      "0\n"
     ]
    }
   ],
   "source": [
    "message5 = \"Hello World\"\n",
    "message5a = message5.find('H')    # index of the element\n",
    "print (message5a)\n",
    "\n",
    "# 0 1 2 3 4 5 6 7 8 9 10\n",
    "# H e l l o   W o r l d"
   ]
  },
  {
   "cell_type": "markdown",
   "id": "ca0a6fdc",
   "metadata": {},
   "source": [
    "# In python the index starts from 0"
   ]
  },
  {
   "cell_type": "code",
   "execution_count": 31,
   "id": "3fdbfbca",
   "metadata": {},
   "outputs": [
    {
     "name": "stdout",
     "output_type": "stream",
     "text": [
      "6\n"
     ]
    }
   ],
   "source": [
    "message5 = \"Hello World\"\n",
    "message5a = message5.find('W')     # index of the element\n",
    "print (message5a)"
   ]
  },
  {
   "cell_type": "code",
   "execution_count": 32,
   "id": "7a006900",
   "metadata": {},
   "outputs": [
    {
     "name": "stdout",
     "output_type": "stream",
     "text": [
      "4\n"
     ]
    }
   ],
   "source": [
    "message5 = \"Hello World\"\n",
    "message5a = message5.find('o') # index of the element\n",
    "print (message5a)\n",
    "\n",
    "# The find() method finds the first occurrence of the specified value"
   ]
  },
  {
   "cell_type": "code",
   "execution_count": 33,
   "id": "75224acc",
   "metadata": {},
   "outputs": [
    {
     "name": "stdout",
     "output_type": "stream",
     "text": [
      "7\n"
     ]
    }
   ],
   "source": [
    "message5 = \"Hello World\"\n",
    "message5a = message5.find('or') # index of the element\n",
    "print (message5a)\n"
   ]
  },
  {
   "cell_type": "code",
   "execution_count": 34,
   "id": "0523168c",
   "metadata": {},
   "outputs": [
    {
     "name": "stdout",
     "output_type": "stream",
     "text": [
      "-1\n"
     ]
    }
   ],
   "source": [
    "message5 = \"Hello World\"\n",
    "message5a = message5.find('z') # index of the element\n",
    "print (message5a)\n",
    "\n",
    "# The find() method returns -1 if the value is not found."
   ]
  },
  {
   "cell_type": "markdown",
   "id": "f3adbe3d",
   "metadata": {},
   "source": [
    "## Accessing Elements from String"
   ]
  },
  {
   "cell_type": "code",
   "execution_count": 35,
   "id": "1eb7366f",
   "metadata": {},
   "outputs": [
    {
     "data": {
      "text/plain": [
       "'r'"
      ]
     },
     "execution_count": 35,
     "metadata": {},
     "output_type": "execute_result"
    }
   ],
   "source": [
    "message9 = 'Hello World'\n",
    "message9[8]                 # accessing the element at index 8\n",
    "\n",
    "# 0 1 2 3 4 5 6 7 8 9 10\n",
    "# H e l l o   W o r l d"
   ]
  },
  {
   "cell_type": "code",
   "execution_count": 36,
   "id": "c3ae47fd",
   "metadata": {},
   "outputs": [
    {
     "data": {
      "text/plain": [
       "'d'"
      ]
     },
     "execution_count": 36,
     "metadata": {},
     "output_type": "execute_result"
    }
   ],
   "source": [
    "message9 = 'Hello World'\n",
    "message9[10]"
   ]
  },
  {
   "cell_type": "code",
   "execution_count": 37,
   "id": "2b379a36",
   "metadata": {},
   "outputs": [
    {
     "ename": "IndexError",
     "evalue": "string index out of range",
     "output_type": "error",
     "traceback": [
      "\u001b[1;31m---------------------------------------------------------------------------\u001b[0m",
      "\u001b[1;31mIndexError\u001b[0m                                Traceback (most recent call last)",
      "Input \u001b[1;32mIn [37]\u001b[0m, in \u001b[0;36m<cell line: 2>\u001b[1;34m()\u001b[0m\n\u001b[0;32m      1\u001b[0m message9 \u001b[38;5;241m=\u001b[39m \u001b[38;5;124m'\u001b[39m\u001b[38;5;124mHello World\u001b[39m\u001b[38;5;124m'\u001b[39m\n\u001b[1;32m----> 2\u001b[0m \u001b[43mmessage9\u001b[49m\u001b[43m[\u001b[49m\u001b[38;5;241;43m15\u001b[39;49m\u001b[43m]\u001b[49m\n",
      "\u001b[1;31mIndexError\u001b[0m: string index out of range"
     ]
    }
   ],
   "source": [
    "message9 = 'Hello World'\n",
    "message9[15]"
   ]
  },
  {
   "cell_type": "markdown",
   "id": "4ad163f1",
   "metadata": {},
   "source": [
    "### Slicing the Elements from String"
   ]
  },
  {
   "cell_type": "code",
   "execution_count": 38,
   "id": "13a9fae5",
   "metadata": {},
   "outputs": [
    {
     "name": "stdout",
     "output_type": "stream",
     "text": [
      "ello Wo\n"
     ]
    }
   ],
   "source": [
    "message9 = 'Hello World'\n",
    "message9a = message9[1:8]      # [inclusive : exclusive] or [Start : Stop] = [Start : Stop - 1]\n",
    "print (message9a)\n",
    "\n",
    "# 0 1 2 3 4 5 6 7 8 9 10\n",
    "# H e l l o   W o r l d"
   ]
  },
  {
   "cell_type": "code",
   "execution_count": 39,
   "id": "9df3cfb9",
   "metadata": {},
   "outputs": [
    {
     "name": "stdout",
     "output_type": "stream",
     "text": [
      "World\n"
     ]
    }
   ],
   "source": [
    "message9 ='Hello World'\n",
    "print (message9[6:])        # 6 to end"
   ]
  },
  {
   "cell_type": "code",
   "execution_count": 40,
   "id": "d596679a",
   "metadata": {},
   "outputs": [
    {
     "name": "stdout",
     "output_type": "stream",
     "text": [
      "Hello \n"
     ]
    }
   ],
   "source": [
    "message9 ='Hello World'\n",
    "print (message9[:6])         # [Start : Stop] = [Start : Stop - 1]   "
   ]
  },
  {
   "cell_type": "markdown",
   "id": "49f57ae4",
   "metadata": {},
   "source": [
    "## Postive and Negative Indices in Python"
   ]
  },
  {
   "cell_type": "code",
   "execution_count": 41,
   "id": "91bccfa7",
   "metadata": {},
   "outputs": [
    {
     "name": "stdout",
     "output_type": "stream",
     "text": [
      "S\n",
      "U\n",
      "P\n",
      "E\n",
      "R\n"
     ]
    }
   ],
   "source": [
    "# positive indices start from 0  - left to right\n",
    "Str1 = 'SUPER'\n",
    "\n",
    "print (Str1[0])\n",
    "print (Str1[1])\n",
    "print (Str1[2])\n",
    "print (Str1[3])\n",
    "print (Str1[4])"
   ]
  },
  {
   "cell_type": "code",
   "execution_count": 42,
   "id": "93ef1b44",
   "metadata": {},
   "outputs": [
    {
     "name": "stdout",
     "output_type": "stream",
     "text": [
      "S\n",
      "U\n",
      "P\n",
      "E\n",
      "R\n"
     ]
    }
   ],
   "source": [
    "# negative indices start from -1 - right to left\n",
    "\n",
    "print (Str1[-5])\n",
    "print (Str1[-4])\n",
    "print (Str1[-3])\n",
    "print (Str1[-2])\n",
    "print (Str1[-1])"
   ]
  },
  {
   "cell_type": "raw",
   "id": "5a91a2da",
   "metadata": {},
   "source": [
    "# positive indices start from  0 - left to right - 0 to len(str)-1\n",
    "# negative indices start from -1 - right to left - -1 to -len(str)\n",
    "\n",
    "#   S   U   P   E   R\n",
    "#   0   1   2   3   4    # positive indice\n",
    "#  -5  -4  -3  -2  -1    # negative indice"
   ]
  },
  {
   "cell_type": "markdown",
   "id": "4d6cb13a",
   "metadata": {},
   "source": [
    "# InClass Practice\n",
    "\n",
    "# 1"
   ]
  },
  {
   "cell_type": "markdown",
   "id": "8e474ef1",
   "metadata": {},
   "source": [
    "## Create a string \"My First Python Class\" and print it"
   ]
  },
  {
   "cell_type": "code",
   "execution_count": 43,
   "id": "6da825b7",
   "metadata": {},
   "outputs": [
    {
     "data": {
      "text/plain": [
       "'My First Python Class'"
      ]
     },
     "execution_count": 43,
     "metadata": {},
     "output_type": "execute_result"
    }
   ],
   "source": [
    "str1 = \"My First Python Class\"\n",
    "str1"
   ]
  },
  {
   "cell_type": "markdown",
   "id": "d0dcb870",
   "metadata": {},
   "source": [
    "## Access the third last character in the string"
   ]
  },
  {
   "cell_type": "code",
   "execution_count": 44,
   "id": "3b92ff2e",
   "metadata": {},
   "outputs": [
    {
     "data": {
      "text/plain": [
       "'a'"
      ]
     },
     "execution_count": 44,
     "metadata": {},
     "output_type": "execute_result"
    }
   ],
   "source": [
    "str1[-3]"
   ]
  },
  {
   "cell_type": "markdown",
   "id": "f240b9f7",
   "metadata": {},
   "source": [
    "## Update a letter of the string :: s with z\n",
    "\n",
    "hint - replace()"
   ]
  },
  {
   "cell_type": "code",
   "execution_count": 45,
   "id": "bf1c90e0",
   "metadata": {},
   "outputs": [
    {
     "data": {
      "text/plain": [
       "'My Firzt Python Clazz'"
      ]
     },
     "execution_count": 45,
     "metadata": {},
     "output_type": "execute_result"
    }
   ],
   "source": [
    "str1.replace('s', 'z')"
   ]
  }
 ],
 "metadata": {
  "kernelspec": {
   "display_name": "Python 3 (ipykernel)",
   "language": "python",
   "name": "python3"
  },
  "language_info": {
   "codemirror_mode": {
    "name": "ipython",
    "version": 3
   },
   "file_extension": ".py",
   "mimetype": "text/x-python",
   "name": "python",
   "nbconvert_exporter": "python",
   "pygments_lexer": "ipython3",
   "version": "3.9.12"
  }
 },
 "nbformat": 4,
 "nbformat_minor": 5
}

{
 "cells": [
  {
   "cell_type": "markdown",
   "id": "572b97b4",
   "metadata": {},
   "source": [
    "# GUI - Graphical user interface"
   ]
  },
  {
   "cell_type": "markdown",
   "id": "7ef2173f",
   "metadata": {},
   "source": [
    "# Anaconda is a distribution of the Python"
   ]
  },
  {
   "cell_type": "markdown",
   "id": "5e956e4d",
   "metadata": {},
   "source": [
    "### Each line in jupyter is called as a 'Cell' or a 'Block'\n",
    "\n",
    "### To execute a line of python code --> click on the \"run\" button or press ctrl + enter  or alt + enter (executes and gives a new line)"
   ]
  },
  {
   "cell_type": "markdown",
   "id": "b02dbc7b",
   "metadata": {},
   "source": [
    "# Markdown"
   ]
  },
  {
   "cell_type": "markdown",
   "id": "a4cb99d4",
   "metadata": {},
   "source": [
    "1. create a heading or a comment\n",
    "2. when there is no hashtag, it will look like a comment\n",
    "3. As we increase the number of hashtags, the size of the font will reduce"
   ]
  },
  {
   "cell_type": "markdown",
   "id": "2ab56447",
   "metadata": {},
   "source": [
    "create a heading or a comment, when there is no hashtag, it will look like a comment and as we increase the number of hashtags, the size of the font will reduce"
   ]
  },
  {
   "cell_type": "markdown",
   "id": "ec3e91b7",
   "metadata": {},
   "source": [
    "# Trying the hashtags"
   ]
  },
  {
   "cell_type": "markdown",
   "id": "971ee1f6",
   "metadata": {},
   "source": [
    "## Trying the hashtags"
   ]
  },
  {
   "cell_type": "markdown",
   "id": "b7cc891d",
   "metadata": {},
   "source": [
    "### Trying the hashtags"
   ]
  },
  {
   "cell_type": "markdown",
   "id": "76c45a6a",
   "metadata": {},
   "source": [
    "#### Trying the hashtags"
   ]
  },
  {
   "cell_type": "markdown",
   "id": "8c0b409f",
   "metadata": {},
   "source": [
    "##### Trying the hashtags"
   ]
  },
  {
   "cell_type": "markdown",
   "id": "141cd0a3",
   "metadata": {},
   "source": [
    "###### Trying the hashtags"
   ]
  },
  {
   "cell_type": "markdown",
   "id": "03084ffc",
   "metadata": {},
   "source": [
    "**Bold**"
   ]
  },
  {
   "cell_type": "markdown",
   "id": "eb696159",
   "metadata": {},
   "source": [
    "*Italics*"
   ]
  },
  {
   "cell_type": "markdown",
   "id": "0a2819db",
   "metadata": {},
   "source": [
    "***Bold and Italics***"
   ]
  },
  {
   "cell_type": "markdown",
   "id": "b3f11d7c",
   "metadata": {},
   "source": [
    "# Code"
   ]
  },
  {
   "cell_type": "code",
   "execution_count": 2,
   "id": "0a594708",
   "metadata": {},
   "outputs": [
    {
     "name": "stdout",
     "output_type": "stream",
     "text": [
      "3.9.13 (main, Oct 13 2022, 21:23:06) [MSC v.1916 64 bit (AMD64)]\n"
     ]
    }
   ],
   "source": [
    "import sys # importing the system module\n",
    "print (sys.version) # hygiene practice to follow when we start working on a project"
   ]
  },
  {
   "cell_type": "code",
   "execution_count": 3,
   "id": "2bdb93ab",
   "metadata": {},
   "outputs": [
    {
     "name": "stdout",
     "output_type": "stream",
     "text": [
      "3.9.13 (main, Oct 13 2022, 21:23:06) [MSC v.1916 64 bit (AMD64)]\n"
     ]
    }
   ],
   "source": [
    "import sys \n",
    "# importing the system module\n",
    "\n",
    "print (sys.version) \n",
    "# hygiene practice to follow when we start working on a project"
   ]
  },
  {
   "cell_type": "markdown",
   "id": "eb395400",
   "metadata": {},
   "source": [
    "## Comments"
   ]
  },
  {
   "cell_type": "code",
   "execution_count": null,
   "id": "614b664c",
   "metadata": {},
   "outputs": [],
   "source": [
    "# Comments - a text note added to source code to provide explanatory information, usually about the function of the code. \n",
    "# Comments are usually helpful to someone maintaining or enhancing your code when you are no longer around to answer questions about it.\n",
    "# In code cells we provide comments in layman language for others to understand the steps or the method"
   ]
  },
  {
   "cell_type": "code",
   "execution_count": null,
   "id": "e0510632",
   "metadata": {},
   "outputs": [],
   "source": [
    "# Comments in a programming language in \"layman\" term\n",
    "#  - is used to describe the code so that another programmer can understand\n",
    "#  - is a good practice to document about the code\n",
    "\n",
    "# how to code a comment in python\n",
    "# use \"#\""
   ]
  },
  {
   "cell_type": "code",
   "execution_count": null,
   "id": "a9f6f5c1",
   "metadata": {},
   "outputs": [],
   "source": [
    "# To comment and uncomment multiline or single comment in the code line\n",
    "# ctrl + /     Forward Slash: / \n",
    "\n",
    "# Comments are not executed"
   ]
  },
  {
   "cell_type": "markdown",
   "id": "1aec6e90",
   "metadata": {},
   "source": [
    "# Raw"
   ]
  },
  {
   "cell_type": "code",
   "execution_count": 4,
   "id": "f8f9aa04",
   "metadata": {},
   "outputs": [
    {
     "name": "stdout",
     "output_type": "stream",
     "text": [
      "Hello World\n"
     ]
    }
   ],
   "source": [
    "print (\"Hello World\") # code line"
   ]
  },
  {
   "cell_type": "markdown",
   "id": "307041f1",
   "metadata": {},
   "source": [
    "print (\"Hello World\") # markdown"
   ]
  },
  {
   "cell_type": "raw",
   "id": "cf8a265b",
   "metadata": {},
   "source": [
    "print (\"Hello World\") # raw\n",
    "\n",
    "# look like a code cell but it will not be executed."
   ]
  },
  {
   "cell_type": "markdown",
   "id": "aa3fdc58",
   "metadata": {},
   "source": [
    "# Code Cells Vs Markdown Cells Vs Raw Cells"
   ]
  },
  {
   "cell_type": "markdown",
   "id": "b488a22a",
   "metadata": {},
   "source": [
    "**Code Cells :** Contents in this cell are treated as statements in a programming language of current kernel. Default kernel is Python. So, we can write Python statements in a code cell. When such cell is run, its result is displayed in an output cell.\n",
    "\n",
    "**Markdown Cells :** These cells contain text formatted using markdown language. All kinds of formatting features are available like making text bold and italic, displaying ordered or unordered list, etc. Markdown cells are especially useful to provide documentation to the computational process of the notebook.\n",
    "\n",
    "**Raw Cells :** Contents in raw cells are not evaluated by notebook kernel."
   ]
  },
  {
   "cell_type": "code",
   "execution_count": null,
   "id": "b32d9bf7",
   "metadata": {},
   "outputs": [],
   "source": []
  }
 ],
 "metadata": {
  "kernelspec": {
   "display_name": "Python 3 (ipykernel)",
   "language": "python",
   "name": "python3"
  },
  "language_info": {
   "codemirror_mode": {
    "name": "ipython",
    "version": 3
   },
   "file_extension": ".py",
   "mimetype": "text/x-python",
   "name": "python",
   "nbconvert_exporter": "python",
   "pygments_lexer": "ipython3",
   "version": "3.9.13"
  }
 },
 "nbformat": 4,
 "nbformat_minor": 5
}

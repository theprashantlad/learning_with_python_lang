{
 "cells": [
  {
   "cell_type": "code",
   "execution_count": null,
   "id": "33745633",
   "metadata": {},
   "outputs": [],
   "source": [
    "import numpy as np\n",
    "import pandas as pd"
   ]
  },
  {
   "cell_type": "markdown",
   "id": "e04e84c7",
   "metadata": {},
   "source": [
    "# Measures of Central Tendency"
   ]
  },
  {
   "cell_type": "code",
   "execution_count": null,
   "id": "666097e6",
   "metadata": {},
   "outputs": [],
   "source": [
    "rain=[0,0,1,12,113,868,995,513,252,125,31,17]\n",
    "rain"
   ]
  },
  {
   "cell_type": "code",
   "execution_count": null,
   "id": "1a02c901",
   "metadata": {},
   "outputs": [],
   "source": [
    "np.mean(rain)"
   ]
  },
  {
   "cell_type": "code",
   "execution_count": null,
   "id": "3ee1b488",
   "metadata": {},
   "outputs": [],
   "source": [
    "np.median(rain)"
   ]
  },
  {
   "cell_type": "code",
   "execution_count": null,
   "id": "54c12ea5",
   "metadata": {},
   "outputs": [],
   "source": [
    "np.mode(rain)\n",
    "\n",
    "# AttributeError: module 'numpy' has no attribute 'mode'"
   ]
  },
  {
   "cell_type": "code",
   "execution_count": null,
   "id": "574ab3d2",
   "metadata": {},
   "outputs": [],
   "source": [
    "rain = pd.Series(rain)"
   ]
  },
  {
   "cell_type": "code",
   "execution_count": null,
   "id": "ac2d4e12",
   "metadata": {},
   "outputs": [],
   "source": [
    "rain.mode()"
   ]
  },
  {
   "cell_type": "code",
   "execution_count": null,
   "id": "24bad015",
   "metadata": {},
   "outputs": [],
   "source": [
    "dal_wage = pd.Series([212,345,290,789,113,868,995,513,252,125,212,868])\n",
    "dal_wage"
   ]
  },
  {
   "cell_type": "code",
   "execution_count": null,
   "id": "7c86dfa5",
   "metadata": {},
   "outputs": [],
   "source": [
    "dal_wage.mean()"
   ]
  },
  {
   "cell_type": "code",
   "execution_count": null,
   "id": "83faf627",
   "metadata": {},
   "outputs": [],
   "source": [
    "dal_wage.median()"
   ]
  },
  {
   "cell_type": "code",
   "execution_count": null,
   "id": "ebc39919",
   "metadata": {},
   "outputs": [],
   "source": [
    "dal_wage.mode() # eg: bimodal data"
   ]
  },
  {
   "cell_type": "code",
   "execution_count": null,
   "id": "e1ad3258",
   "metadata": {},
   "outputs": [],
   "source": [
    "dal_wage.mode()[0]"
   ]
  },
  {
   "cell_type": "code",
   "execution_count": null,
   "id": "198c81db",
   "metadata": {},
   "outputs": [],
   "source": [
    "dal_wage.mode()[1]"
   ]
  },
  {
   "cell_type": "markdown",
   "id": "311e9c6d",
   "metadata": {},
   "source": [
    "# Measures Of Non-central Tendency"
   ]
  },
  {
   "cell_type": "markdown",
   "id": "2ef5dee1",
   "metadata": {},
   "source": [
    "## Quartiles\n",
    "\n",
    "- 𝑄1- 25% of the observations are smaller than 𝑄1 and 75% of the observations are greater than 𝑄1\n",
    "- 𝑄2- 50% of the observations are smaller than 𝑄2 and 50% of the observations are greater than 𝑄2\n",
    "- 𝑄3- 75% of the observations are smaller than 𝑄3 and 25% of the observations are greater than 𝑄3"
   ]
  },
  {
   "cell_type": "code",
   "execution_count": null,
   "id": "7f70af44",
   "metadata": {},
   "outputs": [],
   "source": [
    "dal_wage = pd.Series([212,345,290,789,113,868,995,513,252,125,212,868])"
   ]
  },
  {
   "cell_type": "code",
   "execution_count": null,
   "id": "8260b6d0",
   "metadata": {},
   "outputs": [],
   "source": [
    "dal_wage.sort_values()"
   ]
  },
  {
   "cell_type": "code",
   "execution_count": null,
   "id": "a1e426f6",
   "metadata": {},
   "outputs": [],
   "source": [
    "# 1st Quartile\n",
    "print ('Q1 :: ', dal_wage.quantile(0.25))\n",
    "\n",
    "# 2nd Quartile == Median\n",
    "print ('Q2 :: ', dal_wage.quantile(0.50))\n",
    "\n",
    "# 3rd Quartile\n",
    "print ('Q3 :: ', dal_wage.quantile(0.75))"
   ]
  },
  {
   "cell_type": "markdown",
   "id": "bdd4b3e8",
   "metadata": {},
   "source": [
    "## Deciles\n",
    "\n",
    "- Splits the dataset into 10 equal parts with 9 markers"
   ]
  },
  {
   "cell_type": "code",
   "execution_count": null,
   "id": "0a0a044b",
   "metadata": {},
   "outputs": [],
   "source": [
    "# 1st Decile - 10% of data is below D1 and 90% is above D1\n",
    "print ('D1 :: ', dal_wage.quantile(0.10))\n",
    "\n",
    "# 5th Decile === D5 == Q2 == Median\n",
    "print ('D5 :: ', dal_wage.quantile(0.50))\n",
    "\n",
    "# 7th Decile - 70% of data is below D7 and 30% is above D7\n",
    "print ('D7 :: ', dal_wage.quantile(0.70))\n",
    "\n",
    "# 9th Decile - 90% of data is below D9 and 10% is above D9\n",
    "print ('D9 :: ', dal_wage.quantile(0.90))"
   ]
  },
  {
   "cell_type": "markdown",
   "id": "d4fc4587",
   "metadata": {},
   "source": [
    "## Percentiles\n",
    "\n",
    "- Splits the dataset into 100 equal parts with 99 markers"
   ]
  },
  {
   "cell_type": "code",
   "execution_count": null,
   "id": "2cc2ecbc",
   "metadata": {},
   "outputs": [],
   "source": [
    "# 1st Percentile - 1% of data is below P1 and 99% is above P1 \n",
    "print ('P01 :: ', dal_wage.quantile(0.01))\n",
    "\n",
    "# 10th Percentile - 10% of data is below P10 and 90% is above P10 === p10 = D1\n",
    "print ('P10 :: ', dal_wage.quantile(0.10))\n",
    "\n",
    "# 25th Percentile - 25% of data is below P25 and 75% is above P25 === P25 = Q1\n",
    "print ('P25 :: ', dal_wage.quantile(0.25))\n",
    "\n",
    "# 50th Percentile - 50% of data is below P50 and 50% is above P50 === P50 = D5 == Median\n",
    "print ('P50 :: ', dal_wage.quantile(0.50))\n",
    "\n",
    "# 78th Percentile - 78% of data is below P78 and 22% is above P78\n",
    "print ('P78 :: ', dal_wage.quantile(0.78))\n",
    "\n",
    "# 87th Percentile - 87% of data is below P87 and 13% is above P87\n",
    "print ('P87 :: ', dal_wage.quantile(0.87))\n",
    "\n",
    "# 99th Percentile - 99% of data is below P99 and 1% is above P99 \n",
    "print ('P99 :: ', dal_wage.quantile(0.99))"
   ]
  },
  {
   "cell_type": "markdown",
   "id": "1f608cc6",
   "metadata": {},
   "source": [
    "# Measures of Dispersion"
   ]
  },
  {
   "cell_type": "markdown",
   "id": "90e1e03c",
   "metadata": {},
   "source": [
    "## Range"
   ]
  },
  {
   "cell_type": "code",
   "execution_count": null,
   "id": "93212b18",
   "metadata": {},
   "outputs": [],
   "source": [
    "range1 = dal_wage.max() - dal_wage.min()\n",
    "range1"
   ]
  },
  {
   "cell_type": "markdown",
   "id": "fe9f5783",
   "metadata": {},
   "source": [
    "## Inter Quartile Range"
   ]
  },
  {
   "cell_type": "code",
   "execution_count": null,
   "id": "40e3daa7",
   "metadata": {},
   "outputs": [],
   "source": [
    "Q3 = dal_wage.quantile(0.75)\n",
    "Q1 = dal_wage.quantile(0.25)\n",
    "\n",
    "IQR = Q3 - Q1\n",
    "IQR"
   ]
  },
  {
   "cell_type": "markdown",
   "id": "0aca22c3",
   "metadata": {},
   "source": [
    "## Variance and Standard Deviation"
   ]
  },
  {
   "cell_type": "code",
   "execution_count": null,
   "id": "505955a0",
   "metadata": {},
   "outputs": [],
   "source": [
    "dal_wage.var()\n",
    "\n",
    "# It is the square of standard deviation"
   ]
  },
  {
   "cell_type": "code",
   "execution_count": null,
   "id": "f4cd8a54",
   "metadata": {},
   "outputs": [],
   "source": [
    "dal_wage.std()\n",
    "\n",
    "# It is probably the most used measure of dispersion\n",
    "# It measures the “average” deviation about the mean"
   ]
  },
  {
   "cell_type": "code",
   "execution_count": null,
   "id": "1af449e2",
   "metadata": {},
   "outputs": [],
   "source": [
    "dal_wage.std() **2"
   ]
  },
  {
   "cell_type": "markdown",
   "id": "3fcfe10e",
   "metadata": {},
   "source": [
    "# Describe\n",
    "\n",
    "- The describe() method returns description of the data in the DataFrame.\n",
    "\n",
    "- If the DataFrame contains numerical data, the description contains these information for each column:\n",
    "\n",
    "    - count - The number of not-empty values\n",
    "    - mean - The average (mean) value\n",
    "    - std - The standard deviation\n",
    "    - min - the minimum value\n",
    "    - 25% - The 25% percentile\n",
    "    - 50% - The 50% percentile\n",
    "    - 75% - The 75% percentile\n",
    "    - max - the maximum value"
   ]
  },
  {
   "cell_type": "code",
   "execution_count": null,
   "id": "5e7f7daf",
   "metadata": {},
   "outputs": [],
   "source": [
    "dal_wage.describe()"
   ]
  },
  {
   "cell_type": "code",
   "execution_count": null,
   "id": "93fd7795",
   "metadata": {},
   "outputs": [],
   "source": []
  }
 ],
 "metadata": {
  "kernelspec": {
   "display_name": "Python 3 (ipykernel)",
   "language": "python",
   "name": "python3"
  },
  "language_info": {
   "codemirror_mode": {
    "name": "ipython",
    "version": 3
   },
   "file_extension": ".py",
   "mimetype": "text/x-python",
   "name": "python",
   "nbconvert_exporter": "python",
   "pygments_lexer": "ipython3",
   "version": "3.9.13"
  }
 },
 "nbformat": 4,
 "nbformat_minor": 5
}

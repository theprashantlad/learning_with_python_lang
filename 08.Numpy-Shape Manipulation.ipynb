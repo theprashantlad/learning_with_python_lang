{
 "cells": [
  {
   "cell_type": "code",
   "execution_count": 1,
   "id": "97ffc3be",
   "metadata": {},
   "outputs": [],
   "source": [
    "import numpy as np"
   ]
  },
  {
   "cell_type": "markdown",
   "id": "2c12a1ae",
   "metadata": {},
   "source": [
    "# Shape Manipulation"
   ]
  },
  {
   "cell_type": "markdown",
   "id": "cdca6771",
   "metadata": {},
   "source": [
    "The shape of a basic array can be changed according to the requirement using NumPy library functions. These array shape manipulation methods really come in handy during the data wrangling phase and is used extensively by Data Scientists.\n",
    "Following are some common methods for manipulating shapes:\n",
    "- Ravel/Flatten\n",
    "- Reshape\n",
    "- Resize\n",
    "\n",
    "Let’s look at each in the following:"
   ]
  },
  {
   "cell_type": "code",
   "execution_count": 2,
   "id": "7cd03ae7",
   "metadata": {},
   "outputs": [
    {
     "name": "stdout",
     "output_type": "stream",
     "text": [
      "[[10 15 17 26 13 19]\n",
      " [12 11 21 24 14 23]]\n",
      "\n",
      "2\n",
      "\n",
      "(2, 6)\n",
      "\n",
      "12\n"
     ]
    }
   ],
   "source": [
    "trials = np.array([[10,15,17,26,13,19],[12,11,21,24,14,23]])\n",
    "print (trials)\n",
    "print ()\n",
    "print (trials.ndim)\n",
    "print ()\n",
    "print (trials.shape)\n",
    "print ()\n",
    "print (trials.size)"
   ]
  },
  {
   "cell_type": "markdown",
   "id": "83f634e8",
   "metadata": {},
   "source": [
    "### Ravel\n",
    "This function returns a flattened one-dimensional array. The returned array will have the same type as that of the input array. The function takes one parameter."
   ]
  },
  {
   "cell_type": "code",
   "execution_count": 3,
   "id": "6849aaf0",
   "metadata": {},
   "outputs": [
    {
     "name": "stdout",
     "output_type": "stream",
     "text": [
      "Ravel-ed Trial :  [10 15 17 26 13 19 12 11 21 24 14 23]\n",
      "\n",
      "Ravel-ed Trial Dimension :  1\n",
      "Ravel-ed Trial Shape :  (12,)\n",
      "\n",
      "Original Dimension :  2\n",
      "Original Shape :  (2, 6)\n"
     ]
    }
   ],
   "source": [
    "print (\"Ravel-ed Trial : \", trials.ravel())\n",
    "print ()\n",
    "print (\"Ravel-ed Trial Dimension : \", trials.ravel().ndim)\n",
    "print (\"Ravel-ed Trial Shape : \", trials.ravel().shape)\n",
    "print ()\n",
    "print (\"Original Dimension : \", trials.ndim)\n",
    "print (\"Original Shape : \", trials.shape)"
   ]
  },
  {
   "cell_type": "markdown",
   "id": "aac6e6a9",
   "metadata": {},
   "source": [
    "- **The ravel function flattens the dataset into a single row.**\n",
    "- **It will *not* modify the original array**"
   ]
  },
  {
   "cell_type": "code",
   "execution_count": 4,
   "id": "1bfef34f",
   "metadata": {},
   "outputs": [
    {
     "name": "stdout",
     "output_type": "stream",
     "text": [
      "[10 15 17 26 13 19 12 11 21 24 14 23]\n",
      "(12,)\n",
      "12\n"
     ]
    }
   ],
   "source": [
    "trails_new  = trials.ravel()\n",
    "print (trails_new)\n",
    "print (trails_new.shape)\n",
    "print (trails_new.size)"
   ]
  },
  {
   "cell_type": "markdown",
   "id": "a74e115c",
   "metadata": {},
   "source": [
    "### Reshape\n",
    "This function gives a new shape to an array without changing the data."
   ]
  },
  {
   "cell_type": "code",
   "execution_count": 5,
   "id": "3eb88997",
   "metadata": {},
   "outputs": [
    {
     "name": "stdout",
     "output_type": "stream",
     "text": [
      "[[10 15 17 26 13 19]\n",
      " [12 11 21 24 14 23]]\n",
      "\n",
      "Original Array's Shape :  (2, 6)\n",
      "\n",
      "Re-shaped Array : \n",
      " [[10 15 17 26]\n",
      " [13 19 12 11]\n",
      " [21 24 14 23]]\n",
      "Re-shaped Array's Shape :  (3, 4)\n",
      "\n",
      "Original Array's Shape :  (2, 6)\n"
     ]
    }
   ],
   "source": [
    "trials = np.array([[10,15,17,26,13,19],[12,11,21,24,14,23]])\n",
    "print (trials)\n",
    "print ()\n",
    "\n",
    "print (\"Original Array's Shape : \", trials.shape)\n",
    "print ()\n",
    "\n",
    "print (\"Re-shaped Array : \\n\", trials.reshape(3,4)) \n",
    "print (\"Re-shaped Array's Shape : \", trials.reshape(3,4).shape) # a reshaped array\n",
    "print ()\n",
    "\n",
    "print (\"Original Array's Shape : \", trials.shape) "
   ]
  },
  {
   "cell_type": "markdown",
   "id": "b6cacd7e",
   "metadata": {},
   "source": [
    "- **Reshape is a function which reshapes the dataset**\n",
    "- **Here, the dataset is reshaped from 2 rows and 6 columns to 3 rows and 4 columns**\n",
    "- **It will *not* modify the original array**"
   ]
  },
  {
   "cell_type": "code",
   "execution_count": 6,
   "id": "db8d8f8e",
   "metadata": {},
   "outputs": [
    {
     "name": "stdout",
     "output_type": "stream",
     "text": [
      "[[10 15 17 26 13 19]\n",
      " [12 11 21 24 14 23]]\n",
      "\n",
      "Original Array's Shape :  (2, 6)\n",
      "\n"
     ]
    },
    {
     "ename": "ValueError",
     "evalue": "cannot reshape array of size 12 into shape (3,5)",
     "output_type": "error",
     "traceback": [
      "\u001b[1;31m---------------------------------------------------------------------------\u001b[0m",
      "\u001b[1;31mValueError\u001b[0m                                Traceback (most recent call last)",
      "Input \u001b[1;32mIn [6]\u001b[0m, in \u001b[0;36m<cell line: 8>\u001b[1;34m()\u001b[0m\n\u001b[0;32m      5\u001b[0m \u001b[38;5;28mprint\u001b[39m (\u001b[38;5;124m\"\u001b[39m\u001b[38;5;124mOriginal Array\u001b[39m\u001b[38;5;124m'\u001b[39m\u001b[38;5;124ms Shape : \u001b[39m\u001b[38;5;124m\"\u001b[39m, trials\u001b[38;5;241m.\u001b[39mshape)\n\u001b[0;32m      6\u001b[0m \u001b[38;5;28mprint\u001b[39m ()\n\u001b[1;32m----> 8\u001b[0m \u001b[38;5;28mprint\u001b[39m (\u001b[38;5;124m\"\u001b[39m\u001b[38;5;124mRe-shaped Array : \u001b[39m\u001b[38;5;130;01m\\n\u001b[39;00m\u001b[38;5;124m\"\u001b[39m, \u001b[43mtrials\u001b[49m\u001b[38;5;241;43m.\u001b[39;49m\u001b[43mreshape\u001b[49m\u001b[43m(\u001b[49m\u001b[38;5;241;43m3\u001b[39;49m\u001b[43m,\u001b[49m\u001b[38;5;241;43m5\u001b[39;49m\u001b[43m)\u001b[49m) \n\u001b[0;32m      9\u001b[0m \u001b[38;5;28mprint\u001b[39m (\u001b[38;5;124m\"\u001b[39m\u001b[38;5;124mRe-shaped Array\u001b[39m\u001b[38;5;124m'\u001b[39m\u001b[38;5;124ms Shape : \u001b[39m\u001b[38;5;124m\"\u001b[39m, trials\u001b[38;5;241m.\u001b[39mreshape(\u001b[38;5;241m3\u001b[39m,\u001b[38;5;241m5\u001b[39m)\u001b[38;5;241m.\u001b[39mshape) \u001b[38;5;66;03m# a reshaped array\u001b[39;00m\n\u001b[0;32m     10\u001b[0m \u001b[38;5;28mprint\u001b[39m ()\n",
      "\u001b[1;31mValueError\u001b[0m: cannot reshape array of size 12 into shape (3,5)"
     ]
    }
   ],
   "source": [
    "trials = np.array([[10,15,17,26,13,19],[12,11,21,24,14,23]])\n",
    "print (trials)\n",
    "print ()\n",
    "\n",
    "print (\"Original Array's Shape : \", trials.shape)\n",
    "print ()\n",
    "\n",
    "print (\"Re-shaped Array : \\n\", trials.reshape(3,5)) \n",
    "print (\"Re-shaped Array's Shape : \", trials.reshape(3,5).shape) # a reshaped array\n",
    "print ()\n",
    "\n",
    "print (\"Original Array's Shape : \", trials.shape) "
   ]
  },
  {
   "cell_type": "code",
   "execution_count": 7,
   "id": "ff8d666a",
   "metadata": {},
   "outputs": [
    {
     "name": "stdout",
     "output_type": "stream",
     "text": [
      "[[10 15 17 26 13 19]\n",
      " [12 11 21 24 14 23]]\n",
      "\n",
      "Original Array's Shape :  (2, 6)\n",
      "\n"
     ]
    },
    {
     "ename": "ValueError",
     "evalue": "cannot reshape array of size 12 into shape (3,3)",
     "output_type": "error",
     "traceback": [
      "\u001b[1;31m---------------------------------------------------------------------------\u001b[0m",
      "\u001b[1;31mValueError\u001b[0m                                Traceback (most recent call last)",
      "Input \u001b[1;32mIn [7]\u001b[0m, in \u001b[0;36m<cell line: 8>\u001b[1;34m()\u001b[0m\n\u001b[0;32m      5\u001b[0m \u001b[38;5;28mprint\u001b[39m (\u001b[38;5;124m\"\u001b[39m\u001b[38;5;124mOriginal Array\u001b[39m\u001b[38;5;124m'\u001b[39m\u001b[38;5;124ms Shape : \u001b[39m\u001b[38;5;124m\"\u001b[39m, trials\u001b[38;5;241m.\u001b[39mshape)\n\u001b[0;32m      6\u001b[0m \u001b[38;5;28mprint\u001b[39m ()\n\u001b[1;32m----> 8\u001b[0m \u001b[38;5;28mprint\u001b[39m (\u001b[38;5;124m\"\u001b[39m\u001b[38;5;124mRe-shaped Array : \u001b[39m\u001b[38;5;130;01m\\n\u001b[39;00m\u001b[38;5;124m\"\u001b[39m, \u001b[43mtrials\u001b[49m\u001b[38;5;241;43m.\u001b[39;49m\u001b[43mreshape\u001b[49m\u001b[43m(\u001b[49m\u001b[38;5;241;43m3\u001b[39;49m\u001b[43m,\u001b[49m\u001b[38;5;241;43m3\u001b[39;49m\u001b[43m)\u001b[49m) \n\u001b[0;32m      9\u001b[0m \u001b[38;5;28mprint\u001b[39m (\u001b[38;5;124m\"\u001b[39m\u001b[38;5;124mRe-shaped Array\u001b[39m\u001b[38;5;124m'\u001b[39m\u001b[38;5;124ms Shape : \u001b[39m\u001b[38;5;124m\"\u001b[39m, trials\u001b[38;5;241m.\u001b[39mreshape(\u001b[38;5;241m3\u001b[39m,\u001b[38;5;241m3\u001b[39m)\u001b[38;5;241m.\u001b[39mshape) \u001b[38;5;66;03m# a reshaped array\u001b[39;00m\n\u001b[0;32m     10\u001b[0m \u001b[38;5;28mprint\u001b[39m ()\n",
      "\u001b[1;31mValueError\u001b[0m: cannot reshape array of size 12 into shape (3,3)"
     ]
    }
   ],
   "source": [
    "trials = np.array([[10,15,17,26,13,19],[12,11,21,24,14,23]])\n",
    "print (trials)\n",
    "print ()\n",
    "\n",
    "print (\"Original Array's Shape : \", trials.shape)\n",
    "print ()\n",
    "\n",
    "print (\"Re-shaped Array : \\n\", trials.reshape(3,3)) \n",
    "print (\"Re-shaped Array's Shape : \", trials.reshape(3,3).shape) # a reshaped array\n",
    "print ()\n",
    "\n",
    "print (\"Original Array's Shape : \", trials.shape) "
   ]
  },
  {
   "cell_type": "markdown",
   "id": "0df66a83",
   "metadata": {},
   "source": [
    "### Resize\n",
    "This function returns a new array with the specified size."
   ]
  },
  {
   "cell_type": "code",
   "execution_count": 8,
   "id": "95c51cf1",
   "metadata": {},
   "outputs": [
    {
     "name": "stdout",
     "output_type": "stream",
     "text": [
      "Original Array : \n",
      " [[10 15 17 26 13 19]\n",
      " [12 11 21 24 14 23]]\n",
      "\n",
      "Original Array's Shape :  (2, 6)\n",
      "\n",
      "Updated Array's Shape :  (3, 4)\n",
      "\n",
      "Updated Array : \n",
      " [[10 15 17 26]\n",
      " [13 19 12 11]\n",
      " [21 24 14 23]]\n"
     ]
    }
   ],
   "source": [
    "trials = np.array([[10,15,17,26,13,19],[12,11,21,24,14,23]])\n",
    "print (\"Original Array : \\n\", trials)\n",
    "print ()\n",
    "print (\"Original Array's Shape : \", trials.shape) \n",
    "print ()\n",
    "\n",
    "trials.resize(3,4) # no output - updates the original array\n",
    "\n",
    "print (\"Updated Array's Shape : \", trials.shape) \n",
    "print ()\n",
    "print (\"Updated Array : \\n\", trials)"
   ]
  },
  {
   "cell_type": "markdown",
   "id": "4838a2b2",
   "metadata": {},
   "source": [
    "- Ravel - Does not update the original array\n",
    "- Reshape - Does not update the original array\n",
    "- Resize - **Updates** the original array"
   ]
  },
  {
   "cell_type": "code",
   "execution_count": 9,
   "id": "9346ed7a",
   "metadata": {},
   "outputs": [
    {
     "name": "stdout",
     "output_type": "stream",
     "text": [
      "Original Array : \n",
      " [[10 15 17 26 13 19]\n",
      " [12 11 21 24 14 23]]\n",
      "\n",
      "Original Array's Shape :  (2, 6)\n",
      "\n",
      "Updated Array's Shape :  (3, 5)\n",
      "\n",
      "Updated Array : \n",
      " [[10 15 17 26 13]\n",
      " [19 12 11 21 24]\n",
      " [14 23  0  0  0]]\n"
     ]
    }
   ],
   "source": [
    "trials = np.array([[10,15,17,26,13,19],[12,11,21,24,14,23]])\n",
    "print (\"Original Array : \\n\", trials)\n",
    "print ()\n",
    "print (\"Original Array's Shape : \", trials.shape) \n",
    "print ()\n",
    "\n",
    "trials.resize(3,5) # no output - updates the original array\n",
    "\n",
    "print (\"Updated Array's Shape : \", trials.shape) \n",
    "print ()\n",
    "print (\"Updated Array : \\n\", trials)"
   ]
  },
  {
   "cell_type": "code",
   "execution_count": 10,
   "id": "9d3153f2",
   "metadata": {},
   "outputs": [
    {
     "name": "stdout",
     "output_type": "stream",
     "text": [
      "Original Array : \n",
      " [[10 15 17 26 13 19]\n",
      " [12 11 21 24 14 23]]\n",
      "\n",
      "Original Array's Shape :  (2, 6)\n",
      "\n",
      "Updated Array's Shape :  (3, 3)\n",
      "\n",
      "Updated Array : \n",
      " [[10 15 17]\n",
      " [26 13 19]\n",
      " [12 11 21]]\n"
     ]
    }
   ],
   "source": [
    "trials = np.array([[10,15,17,26,13,19],[12,11,21,24,14,23]])\n",
    "print (\"Original Array : \\n\", trials)\n",
    "print ()\n",
    "print (\"Original Array's Shape : \", trials.shape) \n",
    "print ()\n",
    "\n",
    "trials.resize(3,3) # no output - updates the original array\n",
    "\n",
    "print (\"Updated Array's Shape : \", trials.shape) \n",
    "print ()\n",
    "print (\"Updated Array : \\n\", trials)"
   ]
  },
  {
   "cell_type": "markdown",
   "id": "791a63cf",
   "metadata": {},
   "source": [
    "# Work with same trials - convert it into one col"
   ]
  },
  {
   "cell_type": "code",
   "execution_count": 22,
   "id": "dbbb01e0",
   "metadata": {},
   "outputs": [
    {
     "name": "stdout",
     "output_type": "stream",
     "text": [
      "Original Array : \n",
      " [[10 15 17 26 13 19]\n",
      " [12 11 21 24 14 23]]\n",
      "\n",
      "Original Array's Shape :  (2, 6)\n",
      "\n",
      "Updated Array's Shape :  (12, 1)\n",
      "\n",
      "Updated Array : \n",
      " [[10]\n",
      " [15]\n",
      " [17]\n",
      " [26]\n",
      " [13]\n",
      " [19]\n",
      " [12]\n",
      " [11]\n",
      " [21]\n",
      " [24]\n",
      " [14]\n",
      " [23]]\n"
     ]
    }
   ],
   "source": [
    "trials = np.array([[10,15,17,26,13,19],[12,11,21,24,14,23]])\n",
    "print (\"Original Array : \\n\", trials)\n",
    "print ()\n",
    "print (\"Original Array's Shape : \", trials.shape) \n",
    "print ()\n",
    "\n",
    "trials.resize(trials.size,1) # no output - updates the original array\n",
    "\n",
    "print (\"Updated Array's Shape : \", trials.shape) \n",
    "print ()\n",
    "print (\"Updated Array : \\n\", trials)"
   ]
  },
  {
   "cell_type": "code",
   "execution_count": 24,
   "id": "e30a605d",
   "metadata": {},
   "outputs": [],
   "source": [
    "A = np.array([[10,15,17,26,13,19],[12,11,21,24,14,23]])"
   ]
  },
  {
   "cell_type": "code",
   "execution_count": 25,
   "id": "db3d1fc6",
   "metadata": {},
   "outputs": [
    {
     "data": {
      "text/plain": [
       "15"
      ]
     },
     "execution_count": 25,
     "metadata": {},
     "output_type": "execute_result"
    }
   ],
   "source": [
    "A[0,1]"
   ]
  },
  {
   "cell_type": "code",
   "execution_count": 26,
   "id": "61fdd8c1",
   "metadata": {},
   "outputs": [
    {
     "data": {
      "text/plain": [
       "10"
      ]
     },
     "execution_count": 26,
     "metadata": {},
     "output_type": "execute_result"
    }
   ],
   "source": [
    "A[0,0]"
   ]
  },
  {
   "cell_type": "code",
   "execution_count": 31,
   "id": "078becac",
   "metadata": {},
   "outputs": [
    {
     "data": {
      "text/plain": [
       "array([[10, 26],\n",
       "       [12, 24]])"
      ]
     },
     "execution_count": 31,
     "metadata": {},
     "output_type": "execute_result"
    }
   ],
   "source": [
    "A[:,[0,3]]"
   ]
  },
  {
   "cell_type": "code",
   "execution_count": 32,
   "id": "699468e1",
   "metadata": {},
   "outputs": [
    {
     "data": {
      "text/plain": [
       "array([ 0,  1,  2,  3,  4,  5,  6,  7,  8,  9, 10, 11, 12, 13, 14, 15, 16,\n",
       "       17, 18, 19, 20])"
      ]
     },
     "execution_count": 32,
     "metadata": {},
     "output_type": "execute_result"
    }
   ],
   "source": [
    "A = np.array(list(range(0,21)))\n",
    "A"
   ]
  },
  {
   "cell_type": "code",
   "execution_count": 33,
   "id": "14ee6c67",
   "metadata": {},
   "outputs": [
    {
     "data": {
      "text/plain": [
       "array([20, 19, 18, 17, 16, 15, 14, 13, 12, 11, 10,  9,  8,  7,  6,  5,  4,\n",
       "        3,  2,  1,  0])"
      ]
     },
     "execution_count": 33,
     "metadata": {},
     "output_type": "execute_result"
    }
   ],
   "source": [
    "A[::-1]"
   ]
  },
  {
   "cell_type": "code",
   "execution_count": null,
   "id": "22139056",
   "metadata": {},
   "outputs": [],
   "source": []
  }
 ],
 "metadata": {
  "kernelspec": {
   "display_name": "Python 3 (ipykernel)",
   "language": "python",
   "name": "python3"
  },
  "language_info": {
   "codemirror_mode": {
    "name": "ipython",
    "version": 3
   },
   "file_extension": ".py",
   "mimetype": "text/x-python",
   "name": "python",
   "nbconvert_exporter": "python",
   "pygments_lexer": "ipython3",
   "version": "3.9.12"
  }
 },
 "nbformat": 4,
 "nbformat_minor": 5
}

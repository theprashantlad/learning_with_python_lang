{
 "cells": [
  {
   "cell_type": "code",
   "execution_count": null,
   "id": "d8ea8a14",
   "metadata": {},
   "outputs": [],
   "source": [
    "import pandas as pd\n",
    "import numpy as np\n",
    "\n",
    "import matplotlib.pyplot as plt\n",
    "%matplotlib inline\n",
    "\n",
    "import seaborn as sns\n",
    "\n",
    "# helps in creating the graphs in the notebook otherwise they will pop up"
   ]
  },
  {
   "cell_type": "code",
   "execution_count": null,
   "id": "6bd52111",
   "metadata": {},
   "outputs": [],
   "source": [
    "data = pd.read_csv('student.csv')\n",
    "display (data.head())"
   ]
  },
  {
   "cell_type": "code",
   "execution_count": null,
   "id": "9f5f20d4",
   "metadata": {},
   "outputs": [],
   "source": [
    "data.shape"
   ]
  },
  {
   "cell_type": "code",
   "execution_count": null,
   "id": "a7ac00ca",
   "metadata": {},
   "outputs": [],
   "source": [
    "data.info()\n",
    "\n",
    "# Null Count - missing value in the dataset"
   ]
  },
  {
   "cell_type": "markdown",
   "id": "0e4f3468",
   "metadata": {},
   "source": [
    "# Data Dictionary\n",
    "\n",
    "Attribute Information ::\n",
    "\n",
    "Attributes for both student-mat.csv (Math course) and student-por.csv (Portuguese language course) datasets: \n",
    "1.\tschool - student's school (binary: 'GP' - Gabriel Pereira or 'MS' - Mousinho da Silveira) \n",
    "2.\tsex - student's sex (binary: 'F' - female or 'M' - male) \n",
    "3.\tage - student's age (numeric: from 15 to 22) \n",
    "4.\taddress - student's home address type (binary: 'U' - urban or 'R' - rural) \n",
    "5.\tfamsize - family size (binary: 'LE3' - less or equal to 3 or 'GT3' - greater than 3) \n",
    "6.\tPstatus - parent's cohabitation status (binary: 'T' - living together or 'A' - apart) \n",
    "7.\tMedu - mother's education (numeric: 0 - none, 1 - primary education (4th grade), 2 - 5th to 9th grade, 3 - secondary education or 4 - higher education) \n",
    "8.\tFedu - father's education (numeric: 0 - none, 1 - primary education (4th grade), 2 â€“ 5th to 9th grade, 3 â€“ secondary education or 4 â€“ higher education) \n",
    "9.\tMjob - mother's job (nominal: 'teacher', 'health' care related, civil 'services' (e.g. administrative or police), 'at_home' or 'other') \n",
    "10.\tFjob - father's job (nominal: 'teacher', 'health' care related, civil 'services' (e.g. administrative or police), 'at_home' or 'other') \n",
    "11.\treason - reason to choose this school (nominal: close to 'home', school 'reputation', 'course' preference or 'other') \n",
    "12.\tguardian - student's guardian (nominal: 'mother', 'father' or 'other') \n",
    "13.\ttraveltime - home to school travel time (numeric: 1 - <15 min., 2 - 15 to 30 min., 3 - 30 min. to 1 hour, or 4 - >1 hour) \n",
    "14.\tstudytime - weekly study time (numeric: 1 - <2 hours, 2 - 2 to 5 hours, 3 - 5 to 10 hours, or 4 - >10 hours) \n",
    "15.\tfailures - number of past class failures (numeric: n if 1<=n<3, else 4) \n",
    "16.\tschoolsup - extra educational support (binary: yes or no) \n",
    "17.\tfamsup - family educational support (binary: yes or no) \n",
    "18.\tpaid - extra paid classes within the course subject (Math or Portuguese) (binary: yes or no) \n",
    "19.\tactivities - extra-curricular activities (binary: yes or no) \n",
    "20.\tnursery - attended nursery school (binary: yes or no) \n",
    "21.\thigher - wants to take higher education (binary: yes or no) \n",
    "22.\tinternet - Internet access at home (binary: yes or no) \n",
    "23.\tromantic - with a romantic relationship (binary: yes or no) \n",
    "24.\tfamrel - quality of family relationships (numeric: from 1 - very bad to 5 - excellent) \n",
    "25.\tfreetime - free time after school (numeric: from 1 - very low to 5 - very high) \n",
    "26.\tgoout - going out with friends (numeric: from 1 - very low to 5 - very high) \n",
    "27.\tDalc - workday alcohol consumption (numeric: from 1 - very low to 5 - very high) \n",
    "28.\tWalc - weekend alcohol consumption (numeric: from 1 - very low to 5 - very high) \n",
    "29.\thealth - current health status (numeric: from 1 - very bad to 5 - very good) \n",
    "30.\tabsences - number of school absences (numeric: from 0 to 93) "
   ]
  },
  {
   "cell_type": "markdown",
   "id": "175e2057",
   "metadata": {},
   "source": [
    "## isnull()\n",
    "- The isnull() function is used to detect missing values for an array-like object.\n",
    "\n",
    "- This function takes a scalar or array-like object and indicates whether values are missing (NaN in numeric arrays)"
   ]
  },
  {
   "cell_type": "code",
   "execution_count": null,
   "id": "8ca3f008",
   "metadata": {},
   "outputs": [],
   "source": [
    "data.isnull()\n",
    "\n",
    "# it will only check for NAN and not BLANK VALUES\n",
    "# TRUE = NAN = Missing Value"
   ]
  },
  {
   "cell_type": "code",
   "execution_count": null,
   "id": "0508bc34",
   "metadata": {},
   "outputs": [],
   "source": [
    "data.isnull().sum() # col wise sum ===  T = 1 and F = 0"
   ]
  },
  {
   "cell_type": "markdown",
   "id": "814e30c6",
   "metadata": {},
   "source": [
    "## Deletion"
   ]
  },
  {
   "cell_type": "code",
   "execution_count": null,
   "id": "be5b3213",
   "metadata": {},
   "outputs": [],
   "source": [
    "data_del = data.dropna( how = \"any\") # any row that has a missing value drop it"
   ]
  },
  {
   "cell_type": "code",
   "execution_count": null,
   "id": "960a137a",
   "metadata": {},
   "outputs": [],
   "source": [
    "print ('Before: ', data.shape, 'After: ', data_del.shape)"
   ]
  },
  {
   "cell_type": "code",
   "execution_count": null,
   "id": "fcb1fbea",
   "metadata": {},
   "outputs": [],
   "source": [
    "round((395 - 182)/395, 2)"
   ]
  },
  {
   "cell_type": "markdown",
   "id": "59657d61",
   "metadata": {},
   "source": [
    "**We will end up deleting 54% of data.**\n",
    "\n",
    "**We will lose 54% of the data, this will hamper the analysis, since we require large amount of data for Predictive Analysis.** "
   ]
  },
  {
   "cell_type": "markdown",
   "id": "aee51068",
   "metadata": {},
   "source": [
    "## Imputation of Continuous Values"
   ]
  },
  {
   "cell_type": "code",
   "execution_count": null,
   "id": "6fa71863",
   "metadata": {},
   "outputs": [],
   "source": [
    "sns.displot(data.absences, kde = True);"
   ]
  },
  {
   "cell_type": "markdown",
   "id": "9708f45f",
   "metadata": {},
   "source": [
    "#### Since, the data is positively skewed, we will use the median to impute the missing values"
   ]
  },
  {
   "cell_type": "code",
   "execution_count": null,
   "id": "5926effb",
   "metadata": {},
   "outputs": [],
   "source": [
    "data.absences.median()"
   ]
  },
  {
   "cell_type": "code",
   "execution_count": null,
   "id": "31b6b3f7",
   "metadata": {},
   "outputs": [],
   "source": [
    "data.absences.head()"
   ]
  },
  {
   "cell_type": "markdown",
   "id": "eb3ce3ee",
   "metadata": {},
   "source": [
    "- **The fillna() function is used to fill NA/NaN values using the specified method.**"
   ]
  },
  {
   "cell_type": "code",
   "execution_count": null,
   "id": "a3fe17a8",
   "metadata": {},
   "outputs": [],
   "source": [
    "data.absences.fillna(data.absences.median(), inplace = True)\n",
    "data.absences.head()"
   ]
  },
  {
   "cell_type": "code",
   "execution_count": null,
   "id": "d9961e49",
   "metadata": {},
   "outputs": [],
   "source": [
    "data.absences.isnull().sum() # total Number of missing value in the absences column"
   ]
  },
  {
   "cell_type": "markdown",
   "id": "b3e6a7ab",
   "metadata": {},
   "source": [
    "## Imputation for Categorical Variables"
   ]
  },
  {
   "cell_type": "code",
   "execution_count": null,
   "id": "97056580",
   "metadata": {},
   "outputs": [],
   "source": [
    "data.activities.head(10)"
   ]
  },
  {
   "cell_type": "code",
   "execution_count": null,
   "id": "a447a78f",
   "metadata": {},
   "outputs": [],
   "source": [
    "data.activities.mode() # multiple modes in a dataset"
   ]
  },
  {
   "cell_type": "code",
   "execution_count": null,
   "id": "0a597a35",
   "metadata": {},
   "outputs": [],
   "source": [
    "data.activities.mode()[0]"
   ]
  },
  {
   "cell_type": "code",
   "execution_count": null,
   "id": "6d139385",
   "metadata": {},
   "outputs": [],
   "source": [
    "data.activities.fillna(data.activities.mode()[0], inplace = True)\n",
    "data.activities.head(10)"
   ]
  },
  {
   "cell_type": "markdown",
   "id": "22834ee4",
   "metadata": {},
   "source": [
    "# Q. Famrel - impute the missing values"
   ]
  },
  {
   "cell_type": "markdown",
   "id": "911793ea",
   "metadata": {},
   "source": [
    "# Outliers Detection"
   ]
  },
  {
   "cell_type": "code",
   "execution_count": null,
   "id": "1a00b6ea",
   "metadata": {},
   "outputs": [],
   "source": [
    "sns.boxplot(x = data.absences).set(title = \"Boxplot of Absences Column\");\n",
    "# x - Horizontal Boxplot"
   ]
  },
  {
   "cell_type": "raw",
   "id": "fd3a1a1d",
   "metadata": {},
   "source": [
    "sns.boxplot(y = data.absences).set(title = \"Boxplot of Absences Column\");\n",
    "# Vertical - Vertical Boxplot"
   ]
  },
  {
   "cell_type": "code",
   "execution_count": null,
   "id": "3f83dddc",
   "metadata": {},
   "outputs": [],
   "source": [
    "min_value = data['absences'].min()\n",
    "Q1 = data['absences'].quantile(0.25)\n",
    "median_value = data['absences'].median()\n",
    "Q3 = data['absences'].quantile(0.75)\n",
    "max_value = data['absences'].max()\n",
    "\n",
    "\n",
    "print (\"min_value    :\", min_value)\n",
    "print (\"Q1           :\", Q1)\n",
    "print (\"median_value :\", median_value)\n",
    "print (\"Q3           :\", Q3)\n",
    "print (\"max_value    :\", max_value)\n"
   ]
  },
  {
   "cell_type": "markdown",
   "id": "12438e86",
   "metadata": {},
   "source": [
    "**Not Outliers = (Q1 - 1.5 * IQR) <= data <= (Q3 + 1.5 * IQR)**\n",
    "- Q1 - 1st Quartile\n",
    "- Q3 - 3rd Quartile\n",
    "- Q3-Q1 - IQR"
   ]
  },
  {
   "cell_type": "code",
   "execution_count": null,
   "id": "76951960",
   "metadata": {},
   "outputs": [],
   "source": [
    "IQR = Q3 - Q1\n",
    "IQR"
   ]
  },
  {
   "cell_type": "code",
   "execution_count": null,
   "id": "07e0b5fe",
   "metadata": {},
   "outputs": [],
   "source": [
    "lower_limit = Q1 - 1.5 * IQR\n",
    "upper_limit = Q3 + 1.5 * IQR\n",
    "\n",
    "# data points less than lower_limit are outliers\n",
    "# data points greater than upper limit are outliers\n",
    "\n",
    "print (lower_limit)\n",
    "print (upper_limit)"
   ]
  },
  {
   "cell_type": "markdown",
   "id": "c85f83a9",
   "metadata": {},
   "source": [
    "## Deleting Outliers"
   ]
  },
  {
   "cell_type": "code",
   "execution_count": null,
   "id": "ae2bf71c",
   "metadata": {},
   "outputs": [],
   "source": [
    "data.loc[data.absences < lower_limit]"
   ]
  },
  {
   "cell_type": "code",
   "execution_count": null,
   "id": "f68fbdf4",
   "metadata": {},
   "outputs": [],
   "source": [
    "data.loc[data.absences > upper_limit]\n",
    "len(data.loc[data.absences > upper_limit])"
   ]
  },
  {
   "cell_type": "code",
   "execution_count": null,
   "id": "50289765",
   "metadata": {},
   "outputs": [],
   "source": [
    "25/395*100"
   ]
  },
  {
   "cell_type": "code",
   "execution_count": null,
   "id": "189f2c52",
   "metadata": {},
   "outputs": [],
   "source": [
    "data.loc[data.absences > upper_limit].index"
   ]
  },
  {
   "cell_type": "raw",
   "id": "12c2737e",
   "metadata": {},
   "source": [
    "data.drop(data.loc[data.absences > upper_limit].index, inplace = True)\n",
    "data.shape"
   ]
  },
  {
   "cell_type": "code",
   "execution_count": null,
   "id": "97b18ea5",
   "metadata": {},
   "outputs": [],
   "source": [
    "data = data.loc[data.absences <= upper_limit]\n",
    "data.shape"
   ]
  },
  {
   "cell_type": "code",
   "execution_count": null,
   "id": "6b5f7c99",
   "metadata": {},
   "outputs": [],
   "source": [
    "sns.boxplot(y = data.absences).set(title = \"Boxplot of Absences Column\");\n",
    "# y - Vertical Boxplot"
   ]
  },
  {
   "cell_type": "code",
   "execution_count": null,
   "id": "312c3ce5",
   "metadata": {},
   "outputs": [],
   "source": [
    "min_value = data['absences'].min()\n",
    "Q1 = data['absences'].quantile(0.25)\n",
    "median_value = data['absences'].median()\n",
    "Q3 = data['absences'].quantile(0.75)\n",
    "max_value = data['absences'].max()\n",
    "\n",
    "\n",
    "print (\"min_value    :\", min_value)\n",
    "print (\"Q1           :\", Q1)\n",
    "print (\"median_value :\", median_value)\n",
    "print (\"Q3           :\", Q3)\n",
    "print (\"max_value    :\", max_value)\n"
   ]
  },
  {
   "cell_type": "code",
   "execution_count": null,
   "id": "93c0a239",
   "metadata": {},
   "outputs": [],
   "source": []
  }
 ],
 "metadata": {
  "kernelspec": {
   "display_name": "Python 3 (ipykernel)",
   "language": "python",
   "name": "python3"
  },
  "language_info": {
   "codemirror_mode": {
    "name": "ipython",
    "version": 3
   },
   "file_extension": ".py",
   "mimetype": "text/x-python",
   "name": "python",
   "nbconvert_exporter": "python",
   "pygments_lexer": "ipython3",
   "version": "3.9.13"
  }
 },
 "nbformat": 4,
 "nbformat_minor": 5
}

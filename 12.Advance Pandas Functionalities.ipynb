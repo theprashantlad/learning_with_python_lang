{
 "cells": [
  {
   "cell_type": "code",
   "execution_count": 3,
   "id": "3d204d89",
   "metadata": {},
   "outputs": [],
   "source": [
    "import numpy as np\n",
    "import pandas as pd"
   ]
  },
  {
   "cell_type": "code",
   "execution_count": null,
   "id": "4fd20e31",
   "metadata": {},
   "outputs": [],
   "source": [
    "# create a simple dataframe\n",
    "\n",
    "data = pd.DataFrame({\n",
    "    'age' :     [ 10, 22, 13, 21, 12, 11, 17],\n",
    "    'section' : [ 'A', 'B', 'C', 'B', 'B', 'A', 'A'],\n",
    "    'city' :    [ 'Gurgaon', 'Delhi', 'Mumbai', 'Delhi', 'Mumbai', 'Delhi', 'Mumbai'],\n",
    "    'gender' :  [ 'M', 'F', 'F', 'M', 'M', 'M', 'F'],\n",
    "    'favourite_color' : [ 'red', 'blue', 'yellow', 'blue', 'black', 'green', 'red']\n",
    "})\n",
    "\n",
    "# view the data\n",
    "data"
   ]
  },
  {
   "cell_type": "code",
   "execution_count": null,
   "id": "e07ba2be",
   "metadata": {},
   "outputs": [],
   "source": [
    "data[1:3, 2]"
   ]
  },
  {
   "cell_type": "markdown",
   "id": "d3976d13",
   "metadata": {},
   "source": [
    "## loc and iloc\n",
    "\n",
    "- loc gets rows (or columns) with particular labels from the index.\n",
    "- iloc gets rows (or columns) at particular positions in the index (**so it only takes integers**)."
   ]
  },
  {
   "cell_type": "markdown",
   "id": "712b8a42",
   "metadata": {},
   "source": [
    "### Find all the rows based on any condition in a column\n",
    "\n",
    "We can solve types of queries with a simple line of code using pandas.DataFrame.loc[]. We just need to pass the condition within the loc statement."
   ]
  },
  {
   "cell_type": "code",
   "execution_count": null,
   "id": "c2482cff",
   "metadata": {},
   "outputs": [],
   "source": [
    "data"
   ]
  },
  {
   "cell_type": "code",
   "execution_count": null,
   "id": "114f0617",
   "metadata": {},
   "outputs": [],
   "source": [
    "data.loc[data.age >= 15]"
   ]
  },
  {
   "cell_type": "markdown",
   "id": "4823ea8a",
   "metadata": {},
   "source": [
    "### Find all the rows with more than one condition in columns"
   ]
  },
  {
   "cell_type": "code",
   "execution_count": null,
   "id": "c65fb807",
   "metadata": {},
   "outputs": [],
   "source": [
    "data"
   ]
  },
  {
   "cell_type": "code",
   "execution_count": null,
   "id": "9ea80aaf",
   "metadata": {},
   "outputs": [],
   "source": [
    "data.loc[(data.age >= 12) & (data.gender == \"M\")]"
   ]
  },
  {
   "cell_type": "markdown",
   "id": "97d40250",
   "metadata": {},
   "source": [
    "### Select only required columns with a condition"
   ]
  },
  {
   "cell_type": "code",
   "execution_count": null,
   "id": "6692043c",
   "metadata": {},
   "outputs": [],
   "source": [
    "data.loc[(data.age >= 12),[\"age\", \"favourite_color\", \"city\"]]"
   ]
  },
  {
   "cell_type": "markdown",
   "id": "0b4a15df",
   "metadata": {},
   "source": [
    "### Update the values of a particular column on selected rows\n",
    "\n",
    "We can do this by running a for loop as well but if our dataset is big in size, then it would take forever to complete the task. Using loc in Pandas, we can do this within seconds, even on bigger datasets!\n",
    "\n",
    "We just need to specify the condition followed by the target column and then assign the value with which we want to update"
   ]
  },
  {
   "cell_type": "code",
   "execution_count": null,
   "id": "8126a972",
   "metadata": {},
   "outputs": [],
   "source": [
    "data"
   ]
  },
  {
   "cell_type": "code",
   "execution_count": null,
   "id": "2d789f80",
   "metadata": {},
   "outputs": [],
   "source": [
    "# display(data.loc[data.age >= 12])\n",
    "display(data.loc[data.age >= 12,['age', \"section\"]])\n",
    "data.loc[data.age >= 12,[\"section\"]] = \"UpdateS\"\n",
    "display(data.loc[data.age >= 12,['age', \"section\"]])"
   ]
  },
  {
   "cell_type": "code",
   "execution_count": null,
   "id": "89650d54",
   "metadata": {},
   "outputs": [],
   "source": [
    "display(data.loc[data.age >= 20 , ['favourite_color', 'city']])\n",
    "data.loc[data.age >= 20 , ['favourite_color', 'city']] = ['BLACK', \"Dubai\"]\n",
    "data                                                          "
   ]
  },
  {
   "cell_type": "markdown",
   "id": "6ee8bcb2",
   "metadata": {},
   "source": [
    "### Select rows with indices using iloc"
   ]
  },
  {
   "cell_type": "code",
   "execution_count": null,
   "id": "ad0550fe",
   "metadata": {},
   "outputs": [],
   "source": [
    "data"
   ]
  },
  {
   "cell_type": "code",
   "execution_count": null,
   "id": "0daf6f55",
   "metadata": {},
   "outputs": [],
   "source": [
    "data.iloc[1:3,2]"
   ]
  },
  {
   "cell_type": "code",
   "execution_count": null,
   "id": "fa739370",
   "metadata": {},
   "outputs": [],
   "source": [
    "# select rows with indexes\n",
    "\n",
    "data.iloc[[0,2]]\n",
    "\n",
    "# 1st the row and the 3rd row"
   ]
  },
  {
   "cell_type": "markdown",
   "id": "612b7510",
   "metadata": {},
   "source": [
    "### Select rows with particular indices and particular columns == Slicing"
   ]
  },
  {
   "cell_type": "code",
   "execution_count": null,
   "id": "3f38be8c",
   "metadata": {},
   "outputs": [],
   "source": [
    "display(data)\n",
    "data.iloc[[0,2],[1,3]]\n",
    "\n",
    "# \",\" is individual rows and column"
   ]
  },
  {
   "cell_type": "markdown",
   "id": "9b49f1be",
   "metadata": {},
   "source": [
    "# InClass Assignment"
   ]
  },
  {
   "cell_type": "code",
   "execution_count": 4,
   "id": "2e53d025",
   "metadata": {},
   "outputs": [
    {
     "data": {
      "text/html": [
       "<div>\n",
       "<style scoped>\n",
       "    .dataframe tbody tr th:only-of-type {\n",
       "        vertical-align: middle;\n",
       "    }\n",
       "\n",
       "    .dataframe tbody tr th {\n",
       "        vertical-align: top;\n",
       "    }\n",
       "\n",
       "    .dataframe thead th {\n",
       "        text-align: right;\n",
       "    }\n",
       "</style>\n",
       "<table border=\"1\" class=\"dataframe\">\n",
       "  <thead>\n",
       "    <tr style=\"text-align: right;\">\n",
       "      <th></th>\n",
       "      <th>eid</th>\n",
       "      <th>ename</th>\n",
       "      <th>esal</th>\n",
       "      <th>yearlySalary</th>\n",
       "      <th>department</th>\n",
       "      <th>UpdatedYearlySalary</th>\n",
       "    </tr>\n",
       "  </thead>\n",
       "  <tbody>\n",
       "    <tr>\n",
       "      <th>0</th>\n",
       "      <td>1</td>\n",
       "      <td>Prashant</td>\n",
       "      <td>1000</td>\n",
       "      <td>12000</td>\n",
       "      <td>HR</td>\n",
       "      <td>13200.0</td>\n",
       "    </tr>\n",
       "    <tr>\n",
       "      <th>1</th>\n",
       "      <td>2</td>\n",
       "      <td>Amar</td>\n",
       "      <td>2000</td>\n",
       "      <td>24000</td>\n",
       "      <td>Ops</td>\n",
       "      <td>25200.0</td>\n",
       "    </tr>\n",
       "    <tr>\n",
       "      <th>2</th>\n",
       "      <td>3</td>\n",
       "      <td>Chitra</td>\n",
       "      <td>2000</td>\n",
       "      <td>24000</td>\n",
       "      <td>Admin</td>\n",
       "      <td>25200.0</td>\n",
       "    </tr>\n",
       "    <tr>\n",
       "      <th>3</th>\n",
       "      <td>3</td>\n",
       "      <td>Chitra</td>\n",
       "      <td>2000</td>\n",
       "      <td>24000</td>\n",
       "      <td>Admin</td>\n",
       "      <td>25200.0</td>\n",
       "    </tr>\n",
       "    <tr>\n",
       "      <th>4</th>\n",
       "      <td>4</td>\n",
       "      <td>Utkarsha</td>\n",
       "      <td>9878</td>\n",
       "      <td>118536</td>\n",
       "      <td>Ops</td>\n",
       "      <td>124462.8</td>\n",
       "    </tr>\n",
       "    <tr>\n",
       "      <th>5</th>\n",
       "      <td>5</td>\n",
       "      <td>Ajit</td>\n",
       "      <td>9999</td>\n",
       "      <td>119988</td>\n",
       "      <td>HR</td>\n",
       "      <td>125987.4</td>\n",
       "    </tr>\n",
       "  </tbody>\n",
       "</table>\n",
       "</div>"
      ],
      "text/plain": [
       "   eid     ename  esal  yearlySalary department  UpdatedYearlySalary\n",
       "0    1  Prashant  1000         12000         HR              13200.0\n",
       "1    2      Amar  2000         24000        Ops              25200.0\n",
       "2    3    Chitra  2000         24000      Admin              25200.0\n",
       "3    3    Chitra  2000         24000      Admin              25200.0\n",
       "4    4  Utkarsha  9878        118536        Ops             124462.8\n",
       "5    5      Ajit  9999        119988         HR             125987.4"
      ]
     },
     "execution_count": 4,
     "metadata": {},
     "output_type": "execute_result"
    }
   ],
   "source": [
    "datasetExample = pd.read_csv('FinalOutput.csv')\n",
    "datasetExample"
   ]
  },
  {
   "cell_type": "code",
   "execution_count": 7,
   "id": "a2f8ce62",
   "metadata": {},
   "outputs": [
    {
     "data": {
      "text/html": [
       "<div>\n",
       "<style scoped>\n",
       "    .dataframe tbody tr th:only-of-type {\n",
       "        vertical-align: middle;\n",
       "    }\n",
       "\n",
       "    .dataframe tbody tr th {\n",
       "        vertical-align: top;\n",
       "    }\n",
       "\n",
       "    .dataframe thead th {\n",
       "        text-align: right;\n",
       "    }\n",
       "</style>\n",
       "<table border=\"1\" class=\"dataframe\">\n",
       "  <thead>\n",
       "    <tr style=\"text-align: right;\">\n",
       "      <th></th>\n",
       "      <th>eid</th>\n",
       "      <th>ename</th>\n",
       "      <th>esal</th>\n",
       "      <th>yearlySalary</th>\n",
       "      <th>department</th>\n",
       "      <th>UpdatedYearlySalary</th>\n",
       "    </tr>\n",
       "  </thead>\n",
       "  <tbody>\n",
       "    <tr>\n",
       "      <th>4</th>\n",
       "      <td>4</td>\n",
       "      <td>Utkarsha</td>\n",
       "      <td>9878</td>\n",
       "      <td>118536</td>\n",
       "      <td>Ops</td>\n",
       "      <td>124462.8</td>\n",
       "    </tr>\n",
       "    <tr>\n",
       "      <th>5</th>\n",
       "      <td>5</td>\n",
       "      <td>Ajit</td>\n",
       "      <td>9999</td>\n",
       "      <td>119988</td>\n",
       "      <td>HR</td>\n",
       "      <td>125987.4</td>\n",
       "    </tr>\n",
       "  </tbody>\n",
       "</table>\n",
       "</div>"
      ],
      "text/plain": [
       "   eid     ename  esal  yearlySalary department  UpdatedYearlySalary\n",
       "4    4  Utkarsha  9878        118536        Ops             124462.8\n",
       "5    5      Ajit  9999        119988         HR             125987.4"
      ]
     },
     "execution_count": 7,
     "metadata": {},
     "output_type": "execute_result"
    }
   ],
   "source": [
    "# 1. Extract the records of employees whose esal is greater than 5000\n",
    "datasetExample.loc[datasetExample.esal > 5000]"
   ]
  },
  {
   "cell_type": "code",
   "execution_count": 8,
   "id": "fe7d3b34",
   "metadata": {},
   "outputs": [
    {
     "data": {
      "text/html": [
       "<div>\n",
       "<style scoped>\n",
       "    .dataframe tbody tr th:only-of-type {\n",
       "        vertical-align: middle;\n",
       "    }\n",
       "\n",
       "    .dataframe tbody tr th {\n",
       "        vertical-align: top;\n",
       "    }\n",
       "\n",
       "    .dataframe thead th {\n",
       "        text-align: right;\n",
       "    }\n",
       "</style>\n",
       "<table border=\"1\" class=\"dataframe\">\n",
       "  <thead>\n",
       "    <tr style=\"text-align: right;\">\n",
       "      <th></th>\n",
       "      <th>ename</th>\n",
       "      <th>department</th>\n",
       "    </tr>\n",
       "  </thead>\n",
       "  <tbody>\n",
       "    <tr>\n",
       "      <th>4</th>\n",
       "      <td>Utkarsha</td>\n",
       "      <td>Ops</td>\n",
       "    </tr>\n",
       "    <tr>\n",
       "      <th>5</th>\n",
       "      <td>Ajit</td>\n",
       "      <td>HR</td>\n",
       "    </tr>\n",
       "  </tbody>\n",
       "</table>\n",
       "</div>"
      ],
      "text/plain": [
       "      ename department\n",
       "4  Utkarsha        Ops\n",
       "5      Ajit         HR"
      ]
     },
     "execution_count": 8,
     "metadata": {},
     "output_type": "execute_result"
    }
   ],
   "source": [
    "# 2. Extract only ename and department of employees whose esal is greater than 5000\n",
    "\n",
    "datasetExample.loc[datasetExample.esal > 5000, [\"ename\", 'department']]"
   ]
  },
  {
   "cell_type": "code",
   "execution_count": 10,
   "id": "c752fd6d",
   "metadata": {},
   "outputs": [
    {
     "data": {
      "text/html": [
       "<div>\n",
       "<style scoped>\n",
       "    .dataframe tbody tr th:only-of-type {\n",
       "        vertical-align: middle;\n",
       "    }\n",
       "\n",
       "    .dataframe tbody tr th {\n",
       "        vertical-align: top;\n",
       "    }\n",
       "\n",
       "    .dataframe thead th {\n",
       "        text-align: right;\n",
       "    }\n",
       "</style>\n",
       "<table border=\"1\" class=\"dataframe\">\n",
       "  <thead>\n",
       "    <tr style=\"text-align: right;\">\n",
       "      <th></th>\n",
       "      <th>eid</th>\n",
       "      <th>ename</th>\n",
       "      <th>esal</th>\n",
       "      <th>yearlySalary</th>\n",
       "      <th>department</th>\n",
       "      <th>UpdatedYearlySalary</th>\n",
       "    </tr>\n",
       "  </thead>\n",
       "  <tbody>\n",
       "    <tr>\n",
       "      <th>4</th>\n",
       "      <td>4</td>\n",
       "      <td>Utkarsha</td>\n",
       "      <td>9878</td>\n",
       "      <td>118536</td>\n",
       "      <td>Ops</td>\n",
       "      <td>124462.8</td>\n",
       "    </tr>\n",
       "  </tbody>\n",
       "</table>\n",
       "</div>"
      ],
      "text/plain": [
       "   eid     ename  esal  yearlySalary department  UpdatedYearlySalary\n",
       "4    4  Utkarsha  9878        118536        Ops             124462.8"
      ]
     },
     "execution_count": 10,
     "metadata": {},
     "output_type": "execute_result"
    }
   ],
   "source": [
    "# 3. Extract those records whose sal is greater than 6500 and belongs to Ops dept\n",
    "\n",
    "datasetExample.loc[(datasetExample.esal > 6500) & (datasetExample.department == \"Ops\")]"
   ]
  },
  {
   "cell_type": "code",
   "execution_count": 11,
   "id": "e5da14cd",
   "metadata": {},
   "outputs": [
    {
     "data": {
      "text/html": [
       "<div>\n",
       "<style scoped>\n",
       "    .dataframe tbody tr th:only-of-type {\n",
       "        vertical-align: middle;\n",
       "    }\n",
       "\n",
       "    .dataframe tbody tr th {\n",
       "        vertical-align: top;\n",
       "    }\n",
       "\n",
       "    .dataframe thead th {\n",
       "        text-align: right;\n",
       "    }\n",
       "</style>\n",
       "<table border=\"1\" class=\"dataframe\">\n",
       "  <thead>\n",
       "    <tr style=\"text-align: right;\">\n",
       "      <th></th>\n",
       "      <th>ename</th>\n",
       "    </tr>\n",
       "  </thead>\n",
       "  <tbody>\n",
       "    <tr>\n",
       "      <th>5</th>\n",
       "      <td>Ajit</td>\n",
       "    </tr>\n",
       "  </tbody>\n",
       "</table>\n",
       "</div>"
      ],
      "text/plain": [
       "  ename\n",
       "5  Ajit"
      ]
     },
     "execution_count": 11,
     "metadata": {},
     "output_type": "execute_result"
    }
   ],
   "source": [
    "# 4. Display the name of employees whose salary is greater than 5000 and belongs to HR dept\n",
    "datasetExample.loc[(datasetExample.esal > 5000) & (datasetExample.department == \"HR\"), ['ename']]"
   ]
  },
  {
   "cell_type": "code",
   "execution_count": 14,
   "id": "56513e23",
   "metadata": {},
   "outputs": [
    {
     "data": {
      "text/html": [
       "<div>\n",
       "<style scoped>\n",
       "    .dataframe tbody tr th:only-of-type {\n",
       "        vertical-align: middle;\n",
       "    }\n",
       "\n",
       "    .dataframe tbody tr th {\n",
       "        vertical-align: top;\n",
       "    }\n",
       "\n",
       "    .dataframe thead th {\n",
       "        text-align: right;\n",
       "    }\n",
       "</style>\n",
       "<table border=\"1\" class=\"dataframe\">\n",
       "  <thead>\n",
       "    <tr style=\"text-align: right;\">\n",
       "      <th></th>\n",
       "      <th>eid</th>\n",
       "      <th>ename</th>\n",
       "      <th>esal</th>\n",
       "      <th>yearlySalary</th>\n",
       "      <th>department</th>\n",
       "      <th>UpdatedYearlySalary</th>\n",
       "    </tr>\n",
       "  </thead>\n",
       "  <tbody>\n",
       "    <tr>\n",
       "      <th>0</th>\n",
       "      <td>1</td>\n",
       "      <td>Prashant</td>\n",
       "      <td>7000</td>\n",
       "      <td>12000</td>\n",
       "      <td>HR</td>\n",
       "      <td>13200.0</td>\n",
       "    </tr>\n",
       "    <tr>\n",
       "      <th>1</th>\n",
       "      <td>2</td>\n",
       "      <td>Amar</td>\n",
       "      <td>2000</td>\n",
       "      <td>24000</td>\n",
       "      <td>Ops</td>\n",
       "      <td>25200.0</td>\n",
       "    </tr>\n",
       "    <tr>\n",
       "      <th>2</th>\n",
       "      <td>3</td>\n",
       "      <td>Chitra</td>\n",
       "      <td>2000</td>\n",
       "      <td>24000</td>\n",
       "      <td>Admin</td>\n",
       "      <td>25200.0</td>\n",
       "    </tr>\n",
       "    <tr>\n",
       "      <th>3</th>\n",
       "      <td>3</td>\n",
       "      <td>Chitra</td>\n",
       "      <td>2000</td>\n",
       "      <td>24000</td>\n",
       "      <td>Admin</td>\n",
       "      <td>25200.0</td>\n",
       "    </tr>\n",
       "    <tr>\n",
       "      <th>4</th>\n",
       "      <td>4</td>\n",
       "      <td>Utkarsha</td>\n",
       "      <td>9878</td>\n",
       "      <td>118536</td>\n",
       "      <td>Ops</td>\n",
       "      <td>124462.8</td>\n",
       "    </tr>\n",
       "    <tr>\n",
       "      <th>5</th>\n",
       "      <td>5</td>\n",
       "      <td>Ajit</td>\n",
       "      <td>9999</td>\n",
       "      <td>119988</td>\n",
       "      <td>HR</td>\n",
       "      <td>125987.4</td>\n",
       "    </tr>\n",
       "  </tbody>\n",
       "</table>\n",
       "</div>"
      ],
      "text/plain": [
       "   eid     ename  esal  yearlySalary department  UpdatedYearlySalary\n",
       "0    1  Prashant  7000         12000         HR              13200.0\n",
       "1    2      Amar  2000         24000        Ops              25200.0\n",
       "2    3    Chitra  2000         24000      Admin              25200.0\n",
       "3    3    Chitra  2000         24000      Admin              25200.0\n",
       "4    4  Utkarsha  9878        118536        Ops             124462.8\n",
       "5    5      Ajit  9999        119988         HR             125987.4"
      ]
     },
     "execution_count": 14,
     "metadata": {},
     "output_type": "execute_result"
    }
   ],
   "source": [
    "# 5. Replace the salary of the employee as 7000 if the current salary is less than 1500\n",
    "\n",
    "datasetExample.loc[(datasetExample.esal < 1500), [\"esal\"]] = 7000\n",
    "datasetExample"
   ]
  },
  {
   "cell_type": "code",
   "execution_count": null,
   "id": "c5faad9d",
   "metadata": {},
   "outputs": [],
   "source": []
  },
  {
   "cell_type": "code",
   "execution_count": 15,
   "id": "5bda0cc8",
   "metadata": {},
   "outputs": [
    {
     "data": {
      "text/html": [
       "<div>\n",
       "<style scoped>\n",
       "    .dataframe tbody tr th:only-of-type {\n",
       "        vertical-align: middle;\n",
       "    }\n",
       "\n",
       "    .dataframe tbody tr th {\n",
       "        vertical-align: top;\n",
       "    }\n",
       "\n",
       "    .dataframe thead th {\n",
       "        text-align: right;\n",
       "    }\n",
       "</style>\n",
       "<table border=\"1\" class=\"dataframe\">\n",
       "  <thead>\n",
       "    <tr style=\"text-align: right;\">\n",
       "      <th></th>\n",
       "      <th>eid</th>\n",
       "      <th>ename</th>\n",
       "      <th>esal</th>\n",
       "      <th>yearlySalary</th>\n",
       "      <th>department</th>\n",
       "      <th>UpdatedYearlySalary</th>\n",
       "    </tr>\n",
       "  </thead>\n",
       "  <tbody>\n",
       "    <tr>\n",
       "      <th>0</th>\n",
       "      <td>1</td>\n",
       "      <td>Prashant</td>\n",
       "      <td>7000</td>\n",
       "      <td>12000</td>\n",
       "      <td>HR</td>\n",
       "      <td>13200.0</td>\n",
       "    </tr>\n",
       "    <tr>\n",
       "      <th>1</th>\n",
       "      <td>2</td>\n",
       "      <td>Amar</td>\n",
       "      <td>2000</td>\n",
       "      <td>24000</td>\n",
       "      <td>Ops</td>\n",
       "      <td>25200.0</td>\n",
       "    </tr>\n",
       "    <tr>\n",
       "      <th>2</th>\n",
       "      <td>3</td>\n",
       "      <td>Chitra</td>\n",
       "      <td>2000</td>\n",
       "      <td>24000</td>\n",
       "      <td>Admin</td>\n",
       "      <td>25200.0</td>\n",
       "    </tr>\n",
       "    <tr>\n",
       "      <th>3</th>\n",
       "      <td>3</td>\n",
       "      <td>Chitra</td>\n",
       "      <td>2000</td>\n",
       "      <td>24000</td>\n",
       "      <td>Admin</td>\n",
       "      <td>25200.0</td>\n",
       "    </tr>\n",
       "    <tr>\n",
       "      <th>4</th>\n",
       "      <td>4</td>\n",
       "      <td>Utkarsha</td>\n",
       "      <td>9878</td>\n",
       "      <td>118536</td>\n",
       "      <td>Ops</td>\n",
       "      <td>124462.8</td>\n",
       "    </tr>\n",
       "    <tr>\n",
       "      <th>5</th>\n",
       "      <td>5</td>\n",
       "      <td>Ajit</td>\n",
       "      <td>9999</td>\n",
       "      <td>119988</td>\n",
       "      <td>HR</td>\n",
       "      <td>125987.4</td>\n",
       "    </tr>\n",
       "  </tbody>\n",
       "</table>\n",
       "</div>"
      ],
      "text/plain": [
       "   eid     ename  esal  yearlySalary department  UpdatedYearlySalary\n",
       "0    1  Prashant  7000         12000         HR              13200.0\n",
       "1    2      Amar  2000         24000        Ops              25200.0\n",
       "2    3    Chitra  2000         24000      Admin              25200.0\n",
       "3    3    Chitra  2000         24000      Admin              25200.0\n",
       "4    4  Utkarsha  9878        118536        Ops             124462.8\n",
       "5    5      Ajit  9999        119988         HR             125987.4"
      ]
     },
     "execution_count": 15,
     "metadata": {},
     "output_type": "execute_result"
    }
   ],
   "source": [
    "datasetExample"
   ]
  },
  {
   "cell_type": "code",
   "execution_count": 16,
   "id": "8468329b",
   "metadata": {
    "collapsed": true
   },
   "outputs": [
    {
     "data": {
      "text/plain": [
       "0    False\n",
       "1    False\n",
       "2    False\n",
       "3     True\n",
       "4    False\n",
       "5    False\n",
       "dtype: bool"
      ]
     },
     "execution_count": 16,
     "metadata": {},
     "output_type": "execute_result"
    }
   ],
   "source": [
    "datasetExample.duplicated()"
   ]
  },
  {
   "cell_type": "code",
   "execution_count": 18,
   "id": "9f3f311a",
   "metadata": {},
   "outputs": [
    {
     "data": {
      "text/html": [
       "<div>\n",
       "<style scoped>\n",
       "    .dataframe tbody tr th:only-of-type {\n",
       "        vertical-align: middle;\n",
       "    }\n",
       "\n",
       "    .dataframe tbody tr th {\n",
       "        vertical-align: top;\n",
       "    }\n",
       "\n",
       "    .dataframe thead th {\n",
       "        text-align: right;\n",
       "    }\n",
       "</style>\n",
       "<table border=\"1\" class=\"dataframe\">\n",
       "  <thead>\n",
       "    <tr style=\"text-align: right;\">\n",
       "      <th></th>\n",
       "      <th>eid</th>\n",
       "      <th>ename</th>\n",
       "      <th>esal</th>\n",
       "      <th>yearlySalary</th>\n",
       "      <th>department</th>\n",
       "      <th>UpdatedYearlySalary</th>\n",
       "    </tr>\n",
       "  </thead>\n",
       "  <tbody>\n",
       "    <tr>\n",
       "      <th>0</th>\n",
       "      <td>1</td>\n",
       "      <td>Prashant</td>\n",
       "      <td>7000</td>\n",
       "      <td>12000</td>\n",
       "      <td>HR</td>\n",
       "      <td>13200.0</td>\n",
       "    </tr>\n",
       "    <tr>\n",
       "      <th>1</th>\n",
       "      <td>2</td>\n",
       "      <td>Amar</td>\n",
       "      <td>2000</td>\n",
       "      <td>24000</td>\n",
       "      <td>Ops</td>\n",
       "      <td>25200.0</td>\n",
       "    </tr>\n",
       "    <tr>\n",
       "      <th>2</th>\n",
       "      <td>3</td>\n",
       "      <td>Chitra</td>\n",
       "      <td>2000</td>\n",
       "      <td>24000</td>\n",
       "      <td>Admin</td>\n",
       "      <td>25200.0</td>\n",
       "    </tr>\n",
       "    <tr>\n",
       "      <th>3</th>\n",
       "      <td>4</td>\n",
       "      <td>Utkarsha</td>\n",
       "      <td>9878</td>\n",
       "      <td>118536</td>\n",
       "      <td>Ops</td>\n",
       "      <td>124462.8</td>\n",
       "    </tr>\n",
       "    <tr>\n",
       "      <th>4</th>\n",
       "      <td>5</td>\n",
       "      <td>Ajit</td>\n",
       "      <td>9999</td>\n",
       "      <td>119988</td>\n",
       "      <td>HR</td>\n",
       "      <td>125987.4</td>\n",
       "    </tr>\n",
       "  </tbody>\n",
       "</table>\n",
       "</div>"
      ],
      "text/plain": [
       "   eid     ename  esal  yearlySalary department  UpdatedYearlySalary\n",
       "0    1  Prashant  7000         12000         HR              13200.0\n",
       "1    2      Amar  2000         24000        Ops              25200.0\n",
       "2    3    Chitra  2000         24000      Admin              25200.0\n",
       "3    4  Utkarsha  9878        118536        Ops             124462.8\n",
       "4    5      Ajit  9999        119988         HR             125987.4"
      ]
     },
     "metadata": {},
     "output_type": "display_data"
    }
   ],
   "source": [
    "datasetExample.drop_duplicates(inplace = True, ignore_index = True)\n",
    "display (datasetExample)"
   ]
  },
  {
   "cell_type": "code",
   "execution_count": null,
   "id": "e8cc71cd",
   "metadata": {},
   "outputs": [],
   "source": []
  }
 ],
 "metadata": {
  "kernelspec": {
   "display_name": "Python 3 (ipykernel)",
   "language": "python",
   "name": "python3"
  },
  "language_info": {
   "codemirror_mode": {
    "name": "ipython",
    "version": 3
   },
   "file_extension": ".py",
   "mimetype": "text/x-python",
   "name": "python",
   "nbconvert_exporter": "python",
   "pygments_lexer": "ipython3",
   "version": "3.9.13"
  }
 },
 "nbformat": 4,
 "nbformat_minor": 5
}

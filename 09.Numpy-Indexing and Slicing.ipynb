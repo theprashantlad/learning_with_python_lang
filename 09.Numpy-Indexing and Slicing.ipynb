{
 "cells": [
  {
   "cell_type": "code",
   "execution_count": null,
   "id": "d774bfe1",
   "metadata": {},
   "outputs": [],
   "source": [
    "import numpy as np"
   ]
  },
  {
   "cell_type": "markdown",
   "id": "1332d8ef",
   "metadata": {},
   "source": [
    "# Accessing Array Elements"
   ]
  },
  {
   "cell_type": "code",
   "execution_count": null,
   "id": "451ddc67",
   "metadata": {},
   "outputs": [],
   "source": [
    "A = np.array([[10,15,17,26],[12,11,21,24]])\n",
    "A"
   ]
  },
  {
   "cell_type": "code",
   "execution_count": null,
   "id": "818afdea",
   "metadata": {},
   "outputs": [],
   "source": [
    "print (A.ndim)\n",
    "print (A.shape)"
   ]
  },
  {
   "cell_type": "code",
   "execution_count": null,
   "id": "bf706aca",
   "metadata": {},
   "outputs": [],
   "source": [
    "A[0] # 1st Row"
   ]
  },
  {
   "cell_type": "code",
   "execution_count": null,
   "id": "42bb58b7",
   "metadata": {},
   "outputs": [],
   "source": [
    "A[1] # 2nd Row"
   ]
  },
  {
   "cell_type": "markdown",
   "id": "24247653",
   "metadata": {},
   "source": [
    "## How to access the first columns -- [10,12]?"
   ]
  },
  {
   "cell_type": "code",
   "execution_count": null,
   "id": "eb52c66e",
   "metadata": {},
   "outputs": [],
   "source": [
    "# A[0][-4][1][-4]\n",
    "# A[0,1]\n",
    "# A[1,1]\n"
   ]
  },
  {
   "cell_type": "code",
   "execution_count": null,
   "id": "0a40e2ea",
   "metadata": {},
   "outputs": [],
   "source": [
    "from IPython.display import Image\n",
    "Image(filename ='Indexing.png')"
   ]
  },
  {
   "cell_type": "code",
   "execution_count": null,
   "id": "c000a865",
   "metadata": {},
   "outputs": [],
   "source": [
    "A"
   ]
  },
  {
   "cell_type": "code",
   "execution_count": null,
   "id": "4458fc05",
   "metadata": {},
   "outputs": [],
   "source": [
    "A[ : , 0]\n",
    "\n",
    "# values before the ',' stand for rows and values after the ',' stand for columns\n",
    "# \":\" before the comma is to select all the rows for the said col"
   ]
  },
  {
   "cell_type": "markdown",
   "id": "89572606",
   "metadata": {},
   "source": [
    "# Slicing Array Elements"
   ]
  },
  {
   "cell_type": "code",
   "execution_count": null,
   "id": "6abb5c21",
   "metadata": {},
   "outputs": [],
   "source": [
    "from IPython.display import Image\n",
    "Image(filename='slicing.png')"
   ]
  },
  {
   "cell_type": "code",
   "execution_count": null,
   "id": "625d8d93",
   "metadata": {},
   "outputs": [],
   "source": [
    "A[:, 1:3]\n",
    "# Slicing the array data [ : , 1 : 3] where 1 is inclusive but 3 is not. elements from 1 to (3-1) index"
   ]
  },
  {
   "cell_type": "code",
   "execution_count": null,
   "id": "325db065",
   "metadata": {},
   "outputs": [],
   "source": [
    "A[:, [0, 3]]\n",
    "A[:, [0, -1]]"
   ]
  },
  {
   "cell_type": "code",
   "execution_count": null,
   "id": "c8114ec0",
   "metadata": {},
   "outputs": [],
   "source": [
    "A"
   ]
  },
  {
   "cell_type": "code",
   "execution_count": null,
   "id": "98c7d1e4",
   "metadata": {},
   "outputs": [],
   "source": [
    "A[: , 0:4:3]  # start from 0, go till 4-1 give me 3rd column\n",
    "\n",
    "# Start : Upperbound : Step\n",
    "# Stop = Upperbound - 1"
   ]
  },
  {
   "cell_type": "markdown",
   "id": "a3297eca",
   "metadata": {},
   "source": [
    "## Built-in Functions Exploration"
   ]
  },
  {
   "cell_type": "markdown",
   "id": "276836c2",
   "metadata": {},
   "source": [
    "**np.ones**"
   ]
  },
  {
   "cell_type": "code",
   "execution_count": null,
   "id": "0a8060e1",
   "metadata": {},
   "outputs": [],
   "source": [
    "x = np.ones(5)          # default dtype is float\n",
    "print (x)\n",
    "print ()\n",
    "print (x.shape)"
   ]
  },
  {
   "cell_type": "code",
   "execution_count": null,
   "id": "57cda831",
   "metadata": {},
   "outputs": [],
   "source": [
    "x = np.ones(5, dtype = int)\n",
    "print (x)\n",
    "print ()\n",
    "print (x.shape)"
   ]
  },
  {
   "cell_type": "code",
   "execution_count": null,
   "id": "367da73e",
   "metadata": {},
   "outputs": [],
   "source": [
    "x = np.ones((5,2), dtype = int)\n",
    "print (x)\n",
    "print ()\n",
    "print (x.shape)"
   ]
  },
  {
   "cell_type": "markdown",
   "id": "029b0beb",
   "metadata": {},
   "source": [
    "**np.zeros**"
   ]
  },
  {
   "cell_type": "code",
   "execution_count": null,
   "id": "3ae543e1",
   "metadata": {},
   "outputs": [],
   "source": [
    "y = np.zeros((5,5)) # 2 dimensional\n",
    "print (y)\n",
    "print ()\n",
    "print (y.shape)"
   ]
  },
  {
   "cell_type": "markdown",
   "id": "564a37f1",
   "metadata": {},
   "source": [
    "**np.arange**\n",
    "\n",
    "Returns evenly spaced values with a given interval"
   ]
  },
  {
   "cell_type": "code",
   "execution_count": null,
   "id": "161e7fcd",
   "metadata": {},
   "outputs": [],
   "source": [
    "# np.arange(start_value, upperbound, stepSize)\n",
    "# stop_value = upperbound - 1\n",
    "\n",
    "np.arange(0, 10) # 0 to 10-1"
   ]
  },
  {
   "cell_type": "code",
   "execution_count": null,
   "id": "ca42706c",
   "metadata": {},
   "outputs": [],
   "source": [
    "np.arange(1,10,2)"
   ]
  },
  {
   "cell_type": "code",
   "execution_count": null,
   "id": "90049f97",
   "metadata": {},
   "outputs": [],
   "source": [
    "np.arange(3, 9, 2) # start, upperbound and step == start from 3 and give every second value"
   ]
  },
  {
   "cell_type": "code",
   "execution_count": null,
   "id": "8ba25ba0",
   "metadata": {},
   "outputs": [],
   "source": [
    "np.arange(20, 10, 2)"
   ]
  },
  {
   "cell_type": "code",
   "execution_count": null,
   "id": "82c4e963",
   "metadata": {},
   "outputs": [],
   "source": [
    "np.arange(20, 10, -2)"
   ]
  },
  {
   "cell_type": "code",
   "execution_count": null,
   "id": "c6e5fb0c",
   "metadata": {},
   "outputs": [],
   "source": [
    "A = np.array(list(range(0,21)))\n",
    "A"
   ]
  },
  {
   "cell_type": "code",
   "execution_count": null,
   "id": "b12c8796",
   "metadata": {},
   "outputs": [],
   "source": [
    "# Reverse Array A\n",
    "# np.arange(20, -1, -1)\n",
    "# np.flip(A)\n",
    "\n",
    "A[:6]\n",
    "A[8:]\n",
    "\n",
    "A[::-1]"
   ]
  },
  {
   "cell_type": "code",
   "execution_count": null,
   "id": "461846b6",
   "metadata": {},
   "outputs": [],
   "source": [
    "a = \"Data Science With Python\"\n",
    "a"
   ]
  },
  {
   "cell_type": "code",
   "execution_count": null,
   "id": "f88bf6cf",
   "metadata": {},
   "outputs": [],
   "source": [
    "a[::-1]"
   ]
  },
  {
   "cell_type": "markdown",
   "id": "ad873756",
   "metadata": {},
   "source": [
    "**linspace** \n",
    "\n",
    "Returns evenly spaced numbers over a specified interval\n",
    "\n",
    "Returns num evenly spaced samples, calculated over the interval [start, stop].\n",
    "\n",
    "The endpoint of the interval can optionally be excluded."
   ]
  },
  {
   "cell_type": "code",
   "execution_count": null,
   "id": "ddd2a2ef",
   "metadata": {},
   "outputs": [],
   "source": [
    "np.linspace(2.0, 3.0, num = 5) # (3-2)/(5-1)"
   ]
  },
  {
   "cell_type": "code",
   "execution_count": null,
   "id": "f4ccebdc",
   "metadata": {},
   "outputs": [],
   "source": [
    "np.linspace(2.0, 3.0, num = 5, endpoint = False) # (3-2)/(5)"
   ]
  },
  {
   "cell_type": "code",
   "execution_count": null,
   "id": "d6ff8769",
   "metadata": {},
   "outputs": [],
   "source": [
    "np.linspace(2.0, 3.0, num = 5, retstep = True) # retstep - difference b/w the two numbers"
   ]
  },
  {
   "cell_type": "code",
   "execution_count": null,
   "id": "fcdda783",
   "metadata": {},
   "outputs": [],
   "source": [
    "np.linspace(2.0, 3.0, num = 5, endpoint = False, retstep = True) "
   ]
  },
  {
   "cell_type": "code",
   "execution_count": null,
   "id": "b60c2cbe",
   "metadata": {},
   "outputs": [],
   "source": [
    "np.linspace(2.0, 3.0, num = 20, retstep = True) "
   ]
  },
  {
   "cell_type": "markdown",
   "id": "eb8adcfa",
   "metadata": {},
   "source": [
    "## What is the application of arange and linspace?\n",
    "\n",
    "#### We use arange and linspace while creating x-axis of graphs for visualization."
   ]
  },
  {
   "cell_type": "code",
   "execution_count": null,
   "id": "60871351",
   "metadata": {},
   "outputs": [],
   "source": []
  }
 ],
 "metadata": {
  "kernelspec": {
   "display_name": "Python 3 (ipykernel)",
   "language": "python",
   "name": "python3"
  },
  "language_info": {
   "codemirror_mode": {
    "name": "ipython",
    "version": 3
   },
   "file_extension": ".py",
   "mimetype": "text/x-python",
   "name": "python",
   "nbconvert_exporter": "python",
   "pygments_lexer": "ipython3",
   "version": "3.9.13"
  }
 },
 "nbformat": 4,
 "nbformat_minor": 5
}

{
 "cells": [
  {
   "cell_type": "markdown",
   "id": "19bb8aa3",
   "metadata": {},
   "source": [
    "# Collections\n",
    "Collections are objects(variable) that can holds more than one constant\n",
    "\n",
    "Some of the collections supported by Python is:\n",
    "1. Tuples\n",
    "2. List\n",
    "3. Dictionaries\n",
    "\n",
    "When it comes to variables and collections in Python, there exists two forms of collections\n",
    "1. ***Immutable Collections***\n",
    "   They are those collections which once loaded, **cannot be changed** at any point in time\n",
    "   Immutable is useful in a situation where you want to ensure the data will never change either by user or by system\n",
    " \n",
    "2. ***Mutable Collections***\n",
    "   They are those collections which allow you to **change the data** at any point in time\n",
    "   Mutable collections are useful in a situation where you will be reusing your memory for operations"
   ]
  },
  {
   "cell_type": "markdown",
   "id": "46fe8ee8",
   "metadata": {},
   "source": [
    "## Tuples\n",
    "\n",
    "- A tuple is a one-dimensional, fixed-length, **immutable** sequence of Python objects. Immutable implies that its content cannot be modified.\n",
    "\n",
    "- The easiest way to create a tuple is to provide a **comma-separated sequence of values**. In this example, a tuple is assigned a bunch of mixed comma separated data type values enclosed within **parentheses**.\n",
    "\n",
    "- Let’s view it by referencing the tuple object. To access the tuple element at index 1, use the syntax shown here. The index usually starts from 0. \n",
    "\n",
    "- If you try to modify the value at a specified index, it throws an error since a tuple is immutable."
   ]
  },
  {
   "cell_type": "code",
   "execution_count": 1,
   "id": "de0b0867",
   "metadata": {},
   "outputs": [
    {
     "name": "stdout",
     "output_type": "stream",
     "text": [
      "('physics', 'chemistry', 1997, 2000)\n"
     ]
    }
   ],
   "source": [
    "tup1 = ('physics', \"chemistry\", 1997, 2000)\n",
    "print (tup1)"
   ]
  },
  {
   "cell_type": "markdown",
   "id": "280d9437",
   "metadata": {},
   "source": [
    "### Update Tuple"
   ]
  },
  {
   "cell_type": "code",
   "execution_count": 2,
   "id": "adf9f725",
   "metadata": {},
   "outputs": [
    {
     "name": "stdout",
     "output_type": "stream",
     "text": [
      "('physics', 'chemistry', 1997, 2000)\n",
      "\n",
      "1997\n"
     ]
    },
    {
     "ename": "TypeError",
     "evalue": "'tuple' object does not support item assignment",
     "output_type": "error",
     "traceback": [
      "\u001b[1;31m---------------------------------------------------------------------------\u001b[0m",
      "\u001b[1;31mTypeError\u001b[0m                                 Traceback (most recent call last)",
      "Input \u001b[1;32mIn [2]\u001b[0m, in \u001b[0;36m<cell line: 8>\u001b[1;34m()\u001b[0m\n\u001b[0;32m      4\u001b[0m \u001b[38;5;28mprint\u001b[39m ()     \u001b[38;5;66;03m#========================== Blank print\u001b[39;00m\n\u001b[0;32m      6\u001b[0m \u001b[38;5;28mprint\u001b[39m (tup1[\u001b[38;5;241m2\u001b[39m]) \u001b[38;5;66;03m# access the value at index 2\u001b[39;00m\n\u001b[1;32m----> 8\u001b[0m tup1[\u001b[38;5;241m2\u001b[39m] \u001b[38;5;241m=\u001b[39m \u001b[38;5;124m\"\u001b[39m\u001b[38;5;124mmaths\u001b[39m\u001b[38;5;124m\"\u001b[39m\n",
      "\u001b[1;31mTypeError\u001b[0m: 'tuple' object does not support item assignment"
     ]
    }
   ],
   "source": [
    "tup1 = ('physics', \"chemistry\", 1997, 2000)\n",
    "print (tup1)\n",
    "\n",
    "print ()     #========================== Blank print\n",
    "\n",
    "print (tup1[2]) # access the value at index 2\n",
    "\n",
    "tup1[2] = \"maths\"  # update 1997 to maths\n",
    "\n",
    "# TypeError: 'tuple' object does not support item assignment"
   ]
  },
  {
   "cell_type": "markdown",
   "id": "a5473121",
   "metadata": {},
   "source": [
    "### Delete an element of the Tuple"
   ]
  },
  {
   "cell_type": "code",
   "execution_count": 3,
   "id": "ae377389",
   "metadata": {},
   "outputs": [
    {
     "name": "stdout",
     "output_type": "stream",
     "text": [
      "('physics', 'chemistry', 1997, 2000)\n",
      "\n",
      "1997\n"
     ]
    },
    {
     "ename": "TypeError",
     "evalue": "'tuple' object doesn't support item deletion",
     "output_type": "error",
     "traceback": [
      "\u001b[1;31m---------------------------------------------------------------------------\u001b[0m",
      "\u001b[1;31mTypeError\u001b[0m                                 Traceback (most recent call last)",
      "Input \u001b[1;32mIn [3]\u001b[0m, in \u001b[0;36m<cell line: 8>\u001b[1;34m()\u001b[0m\n\u001b[0;32m      4\u001b[0m \u001b[38;5;28mprint\u001b[39m ()     \u001b[38;5;66;03m#========================== Blank print\u001b[39;00m\n\u001b[0;32m      6\u001b[0m \u001b[38;5;28mprint\u001b[39m (tup1[\u001b[38;5;241m2\u001b[39m]) \u001b[38;5;66;03m# access the value at index 2\u001b[39;00m\n\u001b[1;32m----> 8\u001b[0m \u001b[38;5;28;01mdel\u001b[39;00m tup1[\u001b[38;5;241m2\u001b[39m]\n",
      "\u001b[1;31mTypeError\u001b[0m: 'tuple' object doesn't support item deletion"
     ]
    }
   ],
   "source": [
    "tup1 = ('physics', \"chemistry\", 1997, 2000)\n",
    "print (tup1)\n",
    "\n",
    "print ()     #========================== Blank print\n",
    "\n",
    "print (tup1[2]) # access the value at index 2\n",
    "\n",
    "del tup1[2] # deleting 1997\n",
    "\n",
    "# TypeError: 'tuple' object doesn't support item deletion"
   ]
  },
  {
   "cell_type": "markdown",
   "id": "d2480ad2",
   "metadata": {},
   "source": [
    "### Some Operations on Tuple\n",
    "- We can use the index of an element to view and access it. To access elements with the help of positive indices, count from the left, starting with 0. \n",
    "\n",
    "- You can also use negative indices by counting from the right, starting with -1. Negative indices are useful as they help you to easily refer to elements at the end of a long tuple.\n",
    "\n",
    "- Once you have seen how to access individual elements in a tuple. You can also access a range or slice of elements within a tuple. \n",
    "\n",
    "- Slicing allows you to create a subset of the tuple. To slice a tuple, mention the indices of the first element and that of the element immediately after the last element. This is because while the first index is inclusive, the second one is not. \n",
    "\n",
    "- For example, here we can see that referencing indices 1 to 4, creates a tuple subset containing the elements from index 1 to 3.\n",
    "\n",
    "- You can also use negative indices to slice tuples, as shown here."
   ]
  },
  {
   "cell_type": "code",
   "execution_count": 4,
   "id": "6c9cba5f",
   "metadata": {},
   "outputs": [
    {
     "name": "stdout",
     "output_type": "stream",
     "text": [
      "('abcd', 786, 2.23, 'john', 70.2)\n",
      "\n",
      "(123, 'jane')\n"
     ]
    }
   ],
   "source": [
    "tup1 = ('abcd', 786, 2.23, 'john', 70.2)\n",
    "tinytuple = (123, 'jane')\n",
    "print (tup1)\n",
    "print ()\n",
    "print (tinytuple)"
   ]
  },
  {
   "cell_type": "code",
   "execution_count": 5,
   "id": "664cf043",
   "metadata": {},
   "outputs": [
    {
     "name": "stdout",
     "output_type": "stream",
     "text": [
      "abcd\n",
      "\n",
      "(786, 2.23)\n",
      "\n",
      "(2.23, 'john', 70.2)\n",
      "\n",
      "(123, 'jane', 123, 'jane')\n",
      "\n",
      "('abcd', 786, 2.23, 'john', 70.2, 123, 'jane')\n"
     ]
    }
   ],
   "source": [
    "print (tup1[0])\n",
    "print()             # for space\n",
    "\n",
    "print (tup1[1:3])\n",
    "print()\n",
    "\n",
    "print (tup1[2:])      # access the ele at 2nd index till the end\n",
    "print()\n",
    "\n",
    "print (tinytuple * 2) # repetition\n",
    "print()\n",
    "\n",
    "print (tup1 + tinytuple) # concat"
   ]
  },
  {
   "cell_type": "markdown",
   "id": "440cf741",
   "metadata": {},
   "source": [
    "# Lists\n",
    "\n",
    "- In contrast with tuples, the length of lists is variable and their contents can be modified. They can be defined using square brackets **[ ]**. \n",
    "\n",
    "- Here, a list is defined using **comma separated values** of mixed data types. \n",
    "\n",
    "- We can view the content of the list by just referring to the list object. \n",
    "\n",
    "- You can use the append method to add a value to the list. Note that this value gets added to the end of the list. \n",
    "\n",
    "- We can also remove any particular item by just referring to the element value. \n",
    "\n",
    "- Use the pop method to simultaneously view and remove the value at a particular index. \n",
    "\n",
    "- Similarly, use the insert method to insert a value at a particular index. "
   ]
  },
  {
   "cell_type": "code",
   "execution_count": 6,
   "id": "a6076ab7",
   "metadata": {},
   "outputs": [
    {
     "name": "stdout",
     "output_type": "stream",
     "text": [
      "[100, 5.2, 'class', True]\n"
     ]
    }
   ],
   "source": [
    "CL = [100, 5.2, 'class', True]\n",
    "print (CL)"
   ]
  },
  {
   "cell_type": "markdown",
   "id": "43530841",
   "metadata": {},
   "source": [
    "## Update List"
   ]
  },
  {
   "cell_type": "code",
   "execution_count": 7,
   "id": "d453e783",
   "metadata": {},
   "outputs": [
    {
     "name": "stdout",
     "output_type": "stream",
     "text": [
      "['physics', 'chemistry', 1997, 2000]\n",
      "\n",
      "Original Value at Index 2 =  1997\n",
      "\n",
      "Updated Value at Index 2 =  maths\n",
      "\n",
      "Updated List =  ['physics', 'chemistry', 'maths', 2000]\n"
     ]
    }
   ],
   "source": [
    "List1 = ['physics', \"chemistry\", 1997, 2000]\n",
    "print (List1)\n",
    "print ()     \n",
    "\n",
    "print ('Original Value at Index 2 = ', List1[2])          # access the value at index 2\n",
    "List1[2] = \"maths\" # update 1997 to maths\n",
    "print ()        \n",
    "\n",
    "print ('Updated Value at Index 2 = ', List1[2])          # access the value at index 2\n",
    "print ()\n",
    "print ('Updated List = ', List1)"
   ]
  },
  {
   "cell_type": "markdown",
   "id": "6e8334c3",
   "metadata": {},
   "source": [
    "### Deleting an element of the List"
   ]
  },
  {
   "cell_type": "code",
   "execution_count": 8,
   "id": "d38820cf",
   "metadata": {},
   "outputs": [
    {
     "name": "stdout",
     "output_type": "stream",
     "text": [
      "['physics', 'chemistry', 1997, 2000]\n",
      "\n",
      "Original Value at Index 2 =  1997\n",
      "\n",
      "Updated Value at Index 2 =  2000\n",
      "\n",
      "Updated List =  ['physics', 'chemistry', 2000]\n"
     ]
    }
   ],
   "source": [
    "List1 = ['physics', \"chemistry\", 1997, 2000]\n",
    "print (List1)\n",
    "print ()                                      #========================== Blank print\n",
    "\n",
    "print ('Original Value at Index 2 = ', List1[2])          # access the value at index 2\n",
    "\n",
    "del List1[2]\n",
    "\n",
    "print ()\n",
    "print ('Updated Value at Index 2 = ', List1[2]) # access the value at index 2\n",
    "\n",
    "print ()\n",
    "print ('Updated List = ', List1)"
   ]
  },
  {
   "cell_type": "code",
   "execution_count": 9,
   "id": "a4d94dcf",
   "metadata": {},
   "outputs": [
    {
     "name": "stdout",
     "output_type": "stream",
     "text": [
      "['physics', 'chemistry', 1997, 2000]\n",
      "\n",
      "[1, 2, 3, 4, 5, 6, 7]\n"
     ]
    }
   ],
   "source": [
    "# Accessing values from the list\n",
    "list1 = ['physics', 'chemistry', 1997, 2000]\n",
    "list2 = [1,2,3,4,5,6,7]\n",
    "\n",
    "print (list1)\n",
    "print ()\n",
    "print (list2)"
   ]
  },
  {
   "cell_type": "code",
   "execution_count": 10,
   "id": "305ea2e9",
   "metadata": {},
   "outputs": [
    {
     "name": "stdout",
     "output_type": "stream",
     "text": [
      "physics\n",
      "[2, 3, 4, 5]\n"
     ]
    }
   ],
   "source": [
    "print (list1[0])\n",
    "print (list2[1:5]) # [Start : Stop - 1]"
   ]
  },
  {
   "cell_type": "code",
   "execution_count": 11,
   "id": "18208237",
   "metadata": {},
   "outputs": [
    {
     "name": "stdout",
     "output_type": "stream",
     "text": [
      "[123, 'xyz', 'zara', 'abc']\n",
      "[2009, 'mani']\n",
      "\n",
      "[123, 'xyz', 'zara', 'abc', 2009, 'mani']\n",
      "[2009, 'mani', 123, 'xyz', 'zara', 'abc']\n",
      "\n",
      "[123, 'xyz', 'zara', 'abc', 123, 'xyz', 'zara', 'abc']\n"
     ]
    }
   ],
   "source": [
    "aList = [123, 'xyz', 'zara', 'abc']\n",
    "bList = [2009, 'mani']\n",
    "\n",
    "print (aList)\n",
    "print (bList)\n",
    "print ()\n",
    "print (aList + bList) # concat\n",
    "print (bList + aList)\n",
    "print ()\n",
    "print (aList * 2) # repetition"
   ]
  },
  {
   "cell_type": "markdown",
   "id": "5f730516",
   "metadata": {},
   "source": [
    "## Inbuilt function in List"
   ]
  },
  {
   "cell_type": "code",
   "execution_count": 12,
   "id": "07d91d12",
   "metadata": {},
   "outputs": [
    {
     "name": "stdout",
     "output_type": "stream",
     "text": [
      "Original List :  [123, 'xyz', 'zara', 'abc']\n",
      "\n",
      "Updated List :  [123, 'xyz', 'zara', 'abc', 2009]\n"
     ]
    }
   ],
   "source": [
    "# list append() -- Modify - adding a new value - appends an element to the end of the list\n",
    "\n",
    "aList = [123, 'xyz', 'zara', 'abc']\n",
    "print ('Original List : ', aList)\n",
    "print ()\n",
    "\n",
    "aList.append(2009)\n",
    "\n",
    "print ('Updated List : ', aList)"
   ]
  },
  {
   "cell_type": "code",
   "execution_count": 13,
   "id": "53c49107",
   "metadata": {},
   "outputs": [
    {
     "name": "stdout",
     "output_type": "stream",
     "text": [
      "Original List :  [123, 'xyz', 'zara', 'abc']\n",
      "\n",
      "Updated List :  [123, 'xyz', 2009, 'zara', 'abc']\n"
     ]
    }
   ],
   "source": [
    "# Modify a list: Insert a new item at a certain index\n",
    "\n",
    "aList = [123, 'xyz', 'zara', 'abc']\n",
    "print ('Original List : ', aList)\n",
    "print ()\n",
    "\n",
    "aList.insert(2, 2009) # index and value --- insert 2009 at index 2\n",
    "print ('Updated List : ', aList)"
   ]
  },
  {
   "cell_type": "code",
   "execution_count": 14,
   "id": "e00ae580",
   "metadata": {},
   "outputs": [
    {
     "name": "stdout",
     "output_type": "stream",
     "text": [
      "List =  [123, 'xyz', 'zara', 'abc']\n",
      "\n",
      "List =  [123, 'zara', 'abc']\n",
      "\n",
      "List =  [123, 'abc']\n"
     ]
    }
   ],
   "source": [
    "# Remove - element -- Modifying the list\n",
    "# remove deletes the item, does not display anything\n",
    "\n",
    "aList = [123, 'xyz', 'zara', 'abc']\n",
    "print ('List = ', aList)\n",
    "print ()\n",
    "\n",
    "aList.remove(\"xyz\")\n",
    "print ('List = ', aList)\n",
    "print ()\n",
    "\n",
    "aList.remove(\"zara\")\n",
    "print ('List = ', aList)"
   ]
  },
  {
   "cell_type": "code",
   "execution_count": 15,
   "id": "f160162c",
   "metadata": {},
   "outputs": [
    {
     "name": "stdout",
     "output_type": "stream",
     "text": [
      "List =  [123, 'xyz', 'zara', 'abc']\n",
      "\n",
      "zara\n",
      "\n",
      "List =  [123, 'xyz', 'abc']\n",
      "\n",
      "abc\n",
      "\n",
      "List =  [123, 'xyz']\n"
     ]
    }
   ],
   "source": [
    "# pop() - The pop() method removes the item at the given index from the list and returns the removed item.\n",
    "\n",
    "aList = [123, 'xyz', 'zara', 'abc']\n",
    "print ('List = ', aList)\n",
    "print ()\n",
    "\n",
    "print (aList.pop(2)) # zara \n",
    "print ()\n",
    "print ('List = ', aList)\n",
    "print ()\n",
    "\n",
    "print (aList.pop()) # print the element or value which will be dropped. when no indice is mentioned picks the last one\n",
    "print ()\n",
    "print ('List = ', aList)"
   ]
  },
  {
   "cell_type": "markdown",
   "id": "3eca6764",
   "metadata": {},
   "source": [
    "# Positive and Negative indice in List"
   ]
  },
  {
   "cell_type": "markdown",
   "id": "88d2c4b0",
   "metadata": {},
   "source": [
    "- As you have learned earlier, positive indices are counted from the left, starting with 0. By providing the positive index, we can access the specified list element. \n",
    "\n",
    "\n",
    "- Recall that negative indices are counted from the right, starting with -1. Since -2 refers to the second element from the right in the list, the value 5.2 is generated as the output."
   ]
  },
  {
   "cell_type": "code",
   "execution_count": 16,
   "id": "fc029716",
   "metadata": {},
   "outputs": [
    {
     "name": "stdout",
     "output_type": "stream",
     "text": [
      "[100, 5.2, 'class', True]\n"
     ]
    }
   ],
   "source": [
    "print (CL)"
   ]
  },
  {
   "cell_type": "code",
   "execution_count": 17,
   "id": "621a3db3",
   "metadata": {},
   "outputs": [
    {
     "name": "stdout",
     "output_type": "stream",
     "text": [
      "100\n",
      "5.2\n",
      "class\n",
      "True\n"
     ]
    }
   ],
   "source": [
    "print (CL[0])\n",
    "print (CL[1])\n",
    "print (CL[2])\n",
    "print (CL[3])"
   ]
  },
  {
   "cell_type": "code",
   "execution_count": 18,
   "id": "24e541ae",
   "metadata": {},
   "outputs": [
    {
     "name": "stdout",
     "output_type": "stream",
     "text": [
      "100\n",
      "5.2\n",
      "class\n",
      "True\n"
     ]
    }
   ],
   "source": [
    "print (CL[-4])\n",
    "print (CL[-3])\n",
    "print (CL[-2])\n",
    "print (CL[-1])"
   ]
  }
 ],
 "metadata": {
  "kernelspec": {
   "display_name": "Python 3 (ipykernel)",
   "language": "python",
   "name": "python3"
  },
  "language_info": {
   "codemirror_mode": {
    "name": "ipython",
    "version": 3
   },
   "file_extension": ".py",
   "mimetype": "text/x-python",
   "name": "python",
   "nbconvert_exporter": "python",
   "pygments_lexer": "ipython3",
   "version": "3.9.12"
  }
 },
 "nbformat": 4,
 "nbformat_minor": 5
}

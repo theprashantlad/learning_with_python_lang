{
 "cells": [
  {
   "cell_type": "markdown",
   "id": "19bb8aa3",
   "metadata": {},
   "source": [
    "# Collections\n",
    "Collections are objects(variable) that can holds more than one constant\n",
    "\n",
    "Some of the collections supported by Python is:\n",
    "1. Tuples\n",
    "2. List\n",
    "3. Dictionaries\n",
    "\n",
    "When it comes to variables and collections in Python, there exists two forms of collections\n",
    "1. ***Immutable Collections***\n",
    "   They are those collections which once loaded, **cannot be changed** at any point in time\n",
    "   Immutable is useful in a situation where you want to ensure the data will never change either by user or by system\n",
    " \n",
    "2. ***Mutable Collections***\n",
    "   They are those collections which allow you to **change the data** at any point in time\n",
    "   Mutable collections are useful in a situation where you will be reusing your memory for operations"
   ]
  },
  {
   "cell_type": "markdown",
   "id": "46fe8ee8",
   "metadata": {},
   "source": [
    "## Tuples\n",
    "\n",
    "- A tuple is a one-dimensional, fixed-length, **immutable** sequence of Python objects. Immutable implies that its content cannot be modified.\n",
    "\n",
    "- The easiest way to create a tuple is to provide a **comma-separated sequence of values**. In this example, a tuple is assigned a bunch of mixed comma separated data type values enclosed within **parentheses**.\n",
    "\n",
    "- Let’s view it by referencing the tuple object. To access the tuple element at index 1, use the syntax shown here. The index usually starts from 0. \n",
    "\n",
    "- If you try to modify the value at a specified index, it throws an error since a tuple is immutable."
   ]
  },
  {
   "cell_type": "code",
   "execution_count": 1,
   "id": "de0b0867",
   "metadata": {},
   "outputs": [
    {
     "name": "stdout",
     "output_type": "stream",
     "text": [
      "('physics', 'chemistry', 1997, 2000)\n"
     ]
    }
   ],
   "source": [
    "tup1 = ('physics', \"chemistry\", 1997, 2000)\n",
    "print (tup1)"
   ]
  },
  {
   "cell_type": "markdown",
   "id": "280d9437",
   "metadata": {},
   "source": [
    "### Update Tuple"
   ]
  },
  {
   "cell_type": "code",
   "execution_count": 3,
   "id": "adf9f725",
   "metadata": {
    "collapsed": true
   },
   "outputs": [
    {
     "name": "stdout",
     "output_type": "stream",
     "text": [
      "('physics', 'chemistry', 1997, 2000)\n",
      "\n",
      "1997\n"
     ]
    },
    {
     "ename": "TypeError",
     "evalue": "'tuple' object does not support item assignment",
     "output_type": "error",
     "traceback": [
      "\u001b[1;31m---------------------------------------------------------------------------\u001b[0m",
      "\u001b[1;31mTypeError\u001b[0m                                 Traceback (most recent call last)",
      "Input \u001b[1;32mIn [3]\u001b[0m, in \u001b[0;36m<cell line: 8>\u001b[1;34m()\u001b[0m\n\u001b[0;32m      4\u001b[0m \u001b[38;5;28mprint\u001b[39m ()     \u001b[38;5;66;03m#========================== Blank print\u001b[39;00m\n\u001b[0;32m      6\u001b[0m \u001b[38;5;28mprint\u001b[39m (tup1[\u001b[38;5;241m2\u001b[39m]) \u001b[38;5;66;03m# access the value at index 2\u001b[39;00m\n\u001b[1;32m----> 8\u001b[0m tup1[\u001b[38;5;241m2\u001b[39m] \u001b[38;5;241m=\u001b[39m \u001b[38;5;124m\"\u001b[39m\u001b[38;5;124mmaths\u001b[39m\u001b[38;5;124m\"\u001b[39m\n",
      "\u001b[1;31mTypeError\u001b[0m: 'tuple' object does not support item assignment"
     ]
    }
   ],
   "source": [
    "tup1 = ('physics', \"chemistry\", 1997, 2000)\n",
    "print (tup1)\n",
    "\n",
    "print ()     #========================== Blank print\n",
    "\n",
    "print (tup1[2]) # access the value at index 2\n",
    "\n",
    "tup1[2] = \"maths\"  # update 1997 to maths\n",
    "\n",
    "# TypeError: 'tuple' object does not support item assignment"
   ]
  },
  {
   "cell_type": "markdown",
   "id": "a5473121",
   "metadata": {},
   "source": [
    "### Delete an element of the Tuple"
   ]
  },
  {
   "cell_type": "code",
   "execution_count": 5,
   "id": "ae377389",
   "metadata": {},
   "outputs": [
    {
     "name": "stdout",
     "output_type": "stream",
     "text": [
      "('physics', 'chemistry', 1997, 2000)\n",
      "\n",
      "1997\n"
     ]
    },
    {
     "ename": "TypeError",
     "evalue": "'tuple' object doesn't support item deletion",
     "output_type": "error",
     "traceback": [
      "\u001b[1;31m---------------------------------------------------------------------------\u001b[0m",
      "\u001b[1;31mTypeError\u001b[0m                                 Traceback (most recent call last)",
      "Input \u001b[1;32mIn [5]\u001b[0m, in \u001b[0;36m<cell line: 8>\u001b[1;34m()\u001b[0m\n\u001b[0;32m      4\u001b[0m \u001b[38;5;28mprint\u001b[39m ()     \u001b[38;5;66;03m#========================== Blank print\u001b[39;00m\n\u001b[0;32m      6\u001b[0m \u001b[38;5;28mprint\u001b[39m (tup1[\u001b[38;5;241m2\u001b[39m]) \u001b[38;5;66;03m# access the value at index 2\u001b[39;00m\n\u001b[1;32m----> 8\u001b[0m \u001b[38;5;28;01mdel\u001b[39;00m tup1[\u001b[38;5;241m2\u001b[39m]\n",
      "\u001b[1;31mTypeError\u001b[0m: 'tuple' object doesn't support item deletion"
     ]
    }
   ],
   "source": [
    "tup1 = ('physics', \"chemistry\", 1997, 2000)\n",
    "print (tup1)\n",
    "\n",
    "print ()     #========================== Blank print\n",
    "\n",
    "print (tup1[2]) # access the value at index 2\n",
    "\n",
    "del tup1[2] # deleting 1997\n",
    "\n",
    "# TypeError: 'tuple' object doesn't support item deletion"
   ]
  },
  {
   "cell_type": "markdown",
   "id": "d2480ad2",
   "metadata": {},
   "source": [
    "### Some Operations on Tuple\n",
    "- We can use the index of an element to view and access it. To access elements with the help of positive indices, count from the left, starting with 0. \n",
    "\n",
    "- You can also use negative indices by counting from the right, starting with -1. Negative indices are useful as they help you to easily refer to elements at the end of a long tuple.\n",
    "\n",
    "- Once you have seen how to access individual elements in a tuple. You can also access a range or slice of elements within a tuple. \n",
    "\n",
    "- Slicing allows you to create a subset of the tuple. To slice a tuple, mention the indices of the first element and that of the element immediately after the last element. This is because while the first index is inclusive, the second one is not. \n",
    "\n",
    "- For example, here we can see that referencing indices 1 to 4, creates a tuple subset containing the elements from index 1 to 3.\n",
    "\n",
    "- You can also use negative indices to slice tuples, as shown here."
   ]
  },
  {
   "cell_type": "code",
   "execution_count": null,
   "id": "6c9cba5f",
   "metadata": {},
   "outputs": [],
   "source": [
    "tup1 = ('abcd', 786, 2.23, 'john', 70.2)\n",
    "tinytuple = (123, 'jane')\n",
    "print (tup1)\n",
    "print ()\n",
    "print (tinytuple)"
   ]
  },
  {
   "cell_type": "code",
   "execution_count": null,
   "id": "664cf043",
   "metadata": {},
   "outputs": [],
   "source": [
    "print (tup1[0])\n",
    "print()             # for space\n",
    "\n",
    "print (tup1[1:3])\n",
    "print()\n",
    "\n",
    "print (tup1[2:])      # access the ele at 2nd index till the end\n",
    "print()\n",
    "\n",
    "print (tinytuple * 2) # repetition\n",
    "print()\n",
    "\n",
    "print (tup1 + tinytuple) # concat"
   ]
  },
  {
   "cell_type": "markdown",
   "id": "440cf741",
   "metadata": {},
   "source": [
    "# Lists\n",
    "\n",
    "- In contrast with tuples, the length of lists is variable and their contents can be modified. They can be defined using square brackets **[ ]**. \n",
    "\n",
    "- Here, a list is defined using **comma separated values** of mixed data types. \n",
    "\n",
    "- We can view the content of the list by just referring to the list object. \n",
    "\n",
    "- You can use the append method to add a value to the list. Note that this value gets added to the end of the list. \n",
    "\n",
    "- We can also remove any particular item by just referring to the element value. \n",
    "\n",
    "- Use the pop method to simultaneously view and remove the value at a particular index. \n",
    "\n",
    "- Similarly, use the insert method to insert a value at a particular index. "
   ]
  },
  {
   "cell_type": "code",
   "execution_count": 6,
   "id": "a6076ab7",
   "metadata": {},
   "outputs": [
    {
     "name": "stdout",
     "output_type": "stream",
     "text": [
      "[100, 5.2, 'class', True]\n"
     ]
    }
   ],
   "source": [
    "CL = [100, 5.2, 'class', True]\n",
    "print (CL)"
   ]
  },
  {
   "cell_type": "markdown",
   "id": "43530841",
   "metadata": {},
   "source": [
    "## Update List"
   ]
  },
  {
   "cell_type": "code",
   "execution_count": 10,
   "id": "d453e783",
   "metadata": {},
   "outputs": [
    {
     "name": "stdout",
     "output_type": "stream",
     "text": [
      "['physics', 'chemistry', 1997, 2000]\n",
      "\n",
      "Original Value at Index 2 =  1997\n",
      "\n",
      "Updated Value at Index 2 =  maths\n",
      "\n",
      "Updated List =  ['physics', 'chemistry', 'maths', 2000]\n"
     ]
    }
   ],
   "source": [
    "List1 = ['physics', \"chemistry\", 1997, 2000]\n",
    "print (List1)\n",
    "print ()     \n",
    "\n",
    "print ('Original Value at Index 2 = ', List1[2])          # access the value at index 2\n",
    "List1[2] = \"maths\" # update 1997 to maths\n",
    "print ()        \n",
    "\n",
    "print ('Updated Value at Index 2 = ', List1[2])          # access the value at index 2\n",
    "print ()\n",
    "print ('Updated List = ', List1)"
   ]
  },
  {
   "cell_type": "markdown",
   "id": "6e8334c3",
   "metadata": {},
   "source": [
    "### Deleting an element of the List"
   ]
  },
  {
   "cell_type": "code",
   "execution_count": 11,
   "id": "d38820cf",
   "metadata": {},
   "outputs": [
    {
     "name": "stdout",
     "output_type": "stream",
     "text": [
      "['physics', 'chemistry', 1997, 2000]\n",
      "\n",
      "Original Value at Index 2 =  1997\n",
      "\n",
      "Updated Value at Index 2 =  2000\n",
      "\n",
      "Updated List =  ['physics', 'chemistry', 2000]\n"
     ]
    }
   ],
   "source": [
    "List1 = ['physics', \"chemistry\", 1997, 2000]\n",
    "print (List1)\n",
    "print ()                                      #========================== Blank print\n",
    "\n",
    "print ('Original Value at Index 2 = ', List1[2])          # access the value at index 2\n",
    "\n",
    "del List1[2]\n",
    "\n",
    "print ()\n",
    "print ('Updated Value at Index 2 = ', List1[2]) # access the value at index 2\n",
    "\n",
    "print ()\n",
    "print ('Updated List = ', List1)"
   ]
  },
  {
   "cell_type": "code",
   "execution_count": null,
   "id": "a4d94dcf",
   "metadata": {},
   "outputs": [],
   "source": [
    "# Accessing values from the list\n",
    "list1 = ['physics', 'chemistry', 1997, 2000]\n",
    "list2 = [1,2,3,4,5,6,7]\n",
    "\n",
    "print (list1)\n",
    "print ()\n",
    "print (list2)"
   ]
  },
  {
   "cell_type": "code",
   "execution_count": null,
   "id": "305ea2e9",
   "metadata": {},
   "outputs": [],
   "source": [
    "print (list1[0])\n",
    "print (list2[1:5]) # [Start : Stop - 1]"
   ]
  },
  {
   "cell_type": "code",
   "execution_count": null,
   "id": "18208237",
   "metadata": {},
   "outputs": [],
   "source": [
    "aList = [123, 'xyz', 'zara', 'abc']\n",
    "bList = [2009, 'mani']\n",
    "\n",
    "print (aList)\n",
    "print (bList)\n",
    "print ()\n",
    "print (aList + bList) # concat\n",
    "print (bList + aList)\n",
    "print ()\n",
    "print (aList * 2) # repetition"
   ]
  },
  {
   "cell_type": "markdown",
   "id": "5f730516",
   "metadata": {},
   "source": [
    "## Inbuilt function in List"
   ]
  },
  {
   "cell_type": "code",
   "execution_count": 12,
   "id": "07d91d12",
   "metadata": {},
   "outputs": [
    {
     "name": "stdout",
     "output_type": "stream",
     "text": [
      "Original List :  [123, 'xyz', 'zara', 'abc']\n",
      "\n",
      "Updated List :  [123, 'xyz', 'zara', 'abc', 2009]\n"
     ]
    }
   ],
   "source": [
    "# list append() -- Modify - adding a new value - appends an element to the end of the list\n",
    "\n",
    "aList = [123, 'xyz', 'zara', 'abc']\n",
    "print ('Original List : ', aList)\n",
    "print ()\n",
    "\n",
    "aList.append(2009)\n",
    "\n",
    "print ('Updated List : ', aList)"
   ]
  },
  {
   "cell_type": "code",
   "execution_count": 13,
   "id": "53c49107",
   "metadata": {},
   "outputs": [
    {
     "name": "stdout",
     "output_type": "stream",
     "text": [
      "Original List :  [123, 'xyz', 'zara', 'abc']\n",
      "\n",
      "Updated List :  [123, 'xyz', 2009, 'zara', 'abc']\n"
     ]
    }
   ],
   "source": [
    "# Modify a list: Insert a new item at a certain index\n",
    "\n",
    "aList = [123, 'xyz', 'zara', 'abc']\n",
    "print ('Original List : ', aList)\n",
    "print ()\n",
    "\n",
    "aList.insert(2, 2009) # index and value --- insert 2009 at index 2\n",
    "print ('Updated List : ', aList)"
   ]
  },
  {
   "cell_type": "code",
   "execution_count": 15,
   "id": "e00ae580",
   "metadata": {},
   "outputs": [
    {
     "name": "stdout",
     "output_type": "stream",
     "text": [
      "List =  [123, 'xyz', 'zara', 'abc']\n",
      "\n",
      "List =  [123, 'zara', 'abc']\n",
      "\n",
      "List =  [123, 'abc']\n"
     ]
    }
   ],
   "source": [
    "# Remove - element -- Modifying the list\n",
    "# remove deletes the item, does not display anything\n",
    "\n",
    "aList = [123, 'xyz', 'zara', 'abc']\n",
    "print ('List = ', aList)\n",
    "print ()\n",
    "\n",
    "aList.remove(\"xyz\")\n",
    "print ('List = ', aList)\n",
    "print ()\n",
    "\n",
    "aList.remove(\"zara\")\n",
    "print ('List = ', aList)"
   ]
  },
  {
   "cell_type": "code",
   "execution_count": 1,
   "id": "f160162c",
   "metadata": {},
   "outputs": [
    {
     "name": "stdout",
     "output_type": "stream",
     "text": [
      "List =  [123, 'xyz', 'zara', 'abc']\n",
      "\n",
      "zara\n",
      "\n",
      "List =  [123, 'xyz', 'abc']\n",
      "\n",
      "abc\n",
      "\n",
      "List =  [123, 'xyz']\n"
     ]
    }
   ],
   "source": [
    "# pop() - The pop() method removes the item at the given index from the list and returns the removed item.\n",
    "\n",
    "aList = [123, 'xyz', 'zara', 'abc']\n",
    "print ('List = ', aList)\n",
    "print ()\n",
    "\n",
    "print (aList.pop(2)) # zara \n",
    "print ()\n",
    "print ('List = ', aList)\n",
    "print ()\n",
    "\n",
    "print (aList.pop()) # print the element or value which will be dropped. when no indice is mentioned picks the last one\n",
    "print ()\n",
    "print ('List = ', aList)"
   ]
  },
  {
   "cell_type": "markdown",
   "id": "3eca6764",
   "metadata": {},
   "source": [
    "# Positive and Negative indice in List"
   ]
  },
  {
   "cell_type": "markdown",
   "id": "88d2c4b0",
   "metadata": {},
   "source": [
    "- As you have learned earlier, positive indices are counted from the left, starting with 0. By providing the positive index, we can access the specified list element. \n",
    "\n",
    "\n",
    "- Recall that negative indices are counted from the right, starting with -1. Since -2 refers to the second element from the right in the list, the value 5.2 is generated as the output."
   ]
  },
  {
   "cell_type": "code",
   "execution_count": 18,
   "id": "fc029716",
   "metadata": {},
   "outputs": [
    {
     "name": "stdout",
     "output_type": "stream",
     "text": [
      "[100, 5.2, 'class', True]\n"
     ]
    }
   ],
   "source": [
    "print (CL)"
   ]
  },
  {
   "cell_type": "code",
   "execution_count": 19,
   "id": "621a3db3",
   "metadata": {},
   "outputs": [
    {
     "name": "stdout",
     "output_type": "stream",
     "text": [
      "100\n",
      "5.2\n",
      "class\n",
      "True\n"
     ]
    }
   ],
   "source": [
    "print (CL[0])\n",
    "print (CL[1])\n",
    "print (CL[2])\n",
    "print (CL[3])"
   ]
  },
  {
   "cell_type": "code",
   "execution_count": 20,
   "id": "24e541ae",
   "metadata": {},
   "outputs": [
    {
     "name": "stdout",
     "output_type": "stream",
     "text": [
      "100\n",
      "5.2\n",
      "class\n",
      "True\n"
     ]
    }
   ],
   "source": [
    "print (CL[-4])\n",
    "print (CL[-3])\n",
    "print (CL[-2])\n",
    "print (CL[-1])"
   ]
  },
  {
   "cell_type": "markdown",
   "id": "bbe36c76",
   "metadata": {},
   "source": [
    "# Nested Lists"
   ]
  },
  {
   "cell_type": "code",
   "execution_count": 2,
   "id": "6d996933",
   "metadata": {},
   "outputs": [
    {
     "name": "stdout",
     "output_type": "stream",
     "text": [
      "[1, 2, 3, 4, [10, 20, 30, 40]]\n"
     ]
    }
   ],
   "source": [
    "A = [1, 2, 3 , 4 , [10,20,30,40]]\n",
    "print (A)"
   ]
  },
  {
   "cell_type": "markdown",
   "id": "3a30cbee",
   "metadata": {},
   "source": [
    "**How will you access 30?**"
   ]
  },
  {
   "cell_type": "code",
   "execution_count": 3,
   "id": "594659de",
   "metadata": {},
   "outputs": [
    {
     "data": {
      "text/plain": [
       "5"
      ]
     },
     "execution_count": 3,
     "metadata": {},
     "output_type": "execute_result"
    }
   ],
   "source": [
    "len(A)"
   ]
  },
  {
   "cell_type": "code",
   "execution_count": 7,
   "id": "15d84baa",
   "metadata": {},
   "outputs": [
    {
     "data": {
      "text/plain": [
       "30"
      ]
     },
     "execution_count": 7,
     "metadata": {},
     "output_type": "execute_result"
    }
   ],
   "source": [
    "B = A[4]\n",
    "B\n",
    "B[2]"
   ]
  },
  {
   "cell_type": "code",
   "execution_count": 10,
   "id": "27190b93",
   "metadata": {
    "collapsed": true
   },
   "outputs": [
    {
     "name": "stdout",
     "output_type": "stream",
     "text": [
      "30\n",
      "30\n",
      "30\n",
      "30\n"
     ]
    }
   ],
   "source": [
    "print (A[4][2])\n",
    "print (A[-1][-2])\n",
    "print (A[4][-2])\n",
    "print (A[-1][2])"
   ]
  },
  {
   "cell_type": "markdown",
   "id": "a104e538",
   "metadata": {},
   "source": [
    "**List to Tuple**"
   ]
  },
  {
   "cell_type": "code",
   "execution_count": 41,
   "id": "0846cb90",
   "metadata": {},
   "outputs": [
    {
     "name": "stdout",
     "output_type": "stream",
     "text": [
      "[123, 'xyz', 'zara', 'abc']\n",
      "\n",
      "(123, 'xyz', 'zara', 'abc')\n"
     ]
    }
   ],
   "source": [
    "aList = [123, 'xyz', 'zara', 'abc']\n",
    "print (aList)\n",
    "print ()\n",
    "aTuple = tuple(aList) # converting list to tuple\n",
    "print (aTuple)"
   ]
  },
  {
   "cell_type": "markdown",
   "id": "73ef129d",
   "metadata": {},
   "source": [
    "**Tuple to List**"
   ]
  },
  {
   "cell_type": "code",
   "execution_count": 42,
   "id": "4e6f47d5",
   "metadata": {},
   "outputs": [
    {
     "name": "stdout",
     "output_type": "stream",
     "text": [
      "(123, 'xyz', 'zara', 'abc')\n",
      "\n",
      "[123, 'xyz', 'zara', 'abc']\n"
     ]
    }
   ],
   "source": [
    "aTuple = (123, 'xyz', 'zara', 'abc')\n",
    "print (aTuple)\n",
    "print ()\n",
    "aList = list(aTuple)\n",
    "print (aList)"
   ]
  },
  {
   "cell_type": "markdown",
   "id": "eeb71700",
   "metadata": {},
   "source": [
    "# Dictionary\n",
    "\n",
    "- Dictionary is likely the most important built-in Python data structure. \n",
    "\n",
    "- Dictionaries store a mapping between **a set of keys** and **a set of values**. \n",
    "- Keys are variables, and they are listed together with the values assigned to them. This forms a key-value pair. \n",
    "- The keys can be of any **immutable** type and the values can be of any type. \n",
    "\n",
    "- A dictionary is a flexibly-sized collection of key-value pairs, where keys and values are Python objects."
   ]
  },
  {
   "cell_type": "code",
   "execution_count": 17,
   "id": "51f03bf0",
   "metadata": {},
   "outputs": [
    {
     "ename": "TypeError",
     "evalue": "'str' object does not support item assignment",
     "output_type": "error",
     "traceback": [
      "\u001b[1;31m---------------------------------------------------------------------------\u001b[0m",
      "\u001b[1;31mTypeError\u001b[0m                                 Traceback (most recent call last)",
      "Input \u001b[1;32mIn [17]\u001b[0m, in \u001b[0;36m<cell line: 3>\u001b[1;34m()\u001b[0m\n\u001b[0;32m      1\u001b[0m a \u001b[38;5;241m=\u001b[39m \u001b[38;5;124m'\u001b[39m\u001b[38;5;124mSonal\u001b[39m\u001b[38;5;124m'\u001b[39m\n\u001b[0;32m      2\u001b[0m a[\u001b[38;5;241m-\u001b[39m\u001b[38;5;241m2\u001b[39m]\n\u001b[1;32m----> 3\u001b[0m a[\u001b[38;5;241m-\u001b[39m\u001b[38;5;241m2\u001b[39m] \u001b[38;5;241m=\u001b[39m \u001b[38;5;124m\"\u001b[39m\u001b[38;5;124me\u001b[39m\u001b[38;5;124m\"\u001b[39m\n\u001b[0;32m      4\u001b[0m a\n",
      "\u001b[1;31mTypeError\u001b[0m: 'str' object does not support item assignment"
     ]
    }
   ],
   "source": [
    "a = 'Sonal'\n",
    "a[-2]\n",
    "a[-2] = \"e\"\n",
    "a\n",
    "\n",
    "# Strings are immutable data type"
   ]
  },
  {
   "cell_type": "code",
   "execution_count": 18,
   "id": "91915fda",
   "metadata": {},
   "outputs": [
    {
     "data": {
      "text/plain": [
       "'Sonel'"
      ]
     },
     "execution_count": 18,
     "metadata": {},
     "output_type": "execute_result"
    }
   ],
   "source": [
    "a.replace(\"a\",'e')"
   ]
  },
  {
   "cell_type": "code",
   "execution_count": 19,
   "id": "e54f9fc8",
   "metadata": {},
   "outputs": [
    {
     "data": {
      "text/plain": [
       "'Sonal'"
      ]
     },
     "execution_count": 19,
     "metadata": {},
     "output_type": "execute_result"
    }
   ],
   "source": [
    "a"
   ]
  },
  {
   "cell_type": "code",
   "execution_count": 20,
   "id": "625eaed9",
   "metadata": {},
   "outputs": [
    {
     "data": {
      "text/plain": [
       "'Sonel'"
      ]
     },
     "execution_count": 20,
     "metadata": {},
     "output_type": "execute_result"
    }
   ],
   "source": [
    "a = a.replace(\"a\",'e')\n",
    "a"
   ]
  },
  {
   "cell_type": "code",
   "execution_count": 21,
   "id": "a12e87c6",
   "metadata": {},
   "outputs": [
    {
     "data": {
      "text/plain": [
       "{'Name': 'Zara', 'Age': 7, 'Class': 'First'}"
      ]
     },
     "execution_count": 21,
     "metadata": {},
     "output_type": "execute_result"
    }
   ],
   "source": [
    "dict1 = {'Name' : \"Zara\", \"Age\" : 7, \"Class\" : \"First\"}\n",
    "dict1"
   ]
  },
  {
   "cell_type": "code",
   "execution_count": 22,
   "id": "a74e441b",
   "metadata": {},
   "outputs": [
    {
     "data": {
      "text/plain": [
       "dict_keys(['Name', 'Age', 'Class'])"
      ]
     },
     "execution_count": 22,
     "metadata": {},
     "output_type": "execute_result"
    }
   ],
   "source": [
    "dict1.keys()"
   ]
  },
  {
   "cell_type": "code",
   "execution_count": 23,
   "id": "7e95ccca",
   "metadata": {},
   "outputs": [
    {
     "data": {
      "text/plain": [
       "dict_values(['Zara', 7, 'First'])"
      ]
     },
     "execution_count": 23,
     "metadata": {},
     "output_type": "execute_result"
    }
   ],
   "source": [
    "dict1.values()"
   ]
  },
  {
   "cell_type": "code",
   "execution_count": 24,
   "id": "753bf984",
   "metadata": {},
   "outputs": [
    {
     "data": {
      "text/plain": [
       "dict_items([('Name', 'Zara'), ('Age', 7), ('Class', 'First')])"
      ]
     },
     "execution_count": 24,
     "metadata": {},
     "output_type": "execute_result"
    }
   ],
   "source": [
    "dict1.items() # key-value pair"
   ]
  },
  {
   "cell_type": "code",
   "execution_count": 25,
   "id": "f29e9634",
   "metadata": {
    "collapsed": true
   },
   "outputs": [
    {
     "ename": "KeyError",
     "evalue": "0",
     "output_type": "error",
     "traceback": [
      "\u001b[1;31m---------------------------------------------------------------------------\u001b[0m",
      "\u001b[1;31mKeyError\u001b[0m                                  Traceback (most recent call last)",
      "Input \u001b[1;32mIn [25]\u001b[0m, in \u001b[0;36m<cell line: 1>\u001b[1;34m()\u001b[0m\n\u001b[1;32m----> 1\u001b[0m \u001b[43mdict1\u001b[49m\u001b[43m[\u001b[49m\u001b[38;5;241;43m0\u001b[39;49m\u001b[43m]\u001b[49m\n",
      "\u001b[1;31mKeyError\u001b[0m: 0"
     ]
    }
   ],
   "source": [
    "dict1[0]\n",
    "# KeyError: 0"
   ]
  },
  {
   "cell_type": "code",
   "execution_count": 26,
   "id": "d6c25206",
   "metadata": {
    "collapsed": true
   },
   "outputs": [
    {
     "ename": "TypeError",
     "evalue": "'dict_values' object is not subscriptable",
     "output_type": "error",
     "traceback": [
      "\u001b[1;31m---------------------------------------------------------------------------\u001b[0m",
      "\u001b[1;31mTypeError\u001b[0m                                 Traceback (most recent call last)",
      "Input \u001b[1;32mIn [26]\u001b[0m, in \u001b[0;36m<cell line: 1>\u001b[1;34m()\u001b[0m\n\u001b[1;32m----> 1\u001b[0m \u001b[43mdict1\u001b[49m\u001b[38;5;241;43m.\u001b[39;49m\u001b[43mvalues\u001b[49m\u001b[43m(\u001b[49m\u001b[43m)\u001b[49m\u001b[43m[\u001b[49m\u001b[38;5;241;43m0\u001b[39;49m\u001b[43m]\u001b[49m\n",
      "\u001b[1;31mTypeError\u001b[0m: 'dict_values' object is not subscriptable"
     ]
    }
   ],
   "source": [
    "dict1.values()[0]\n",
    "# TypeError: 'dict_values' object is not subscriptable"
   ]
  },
  {
   "cell_type": "markdown",
   "id": "eed9d6c1",
   "metadata": {},
   "source": [
    "- The Python Dictionary object provides a key:value indexing facility. \n",
    "- **Note that dictionaries are unordered - since the values in the dictionary are indexed by keys, they are not held in any particular order, unlike a list, where each item can be located by its position in the list.**"
   ]
  },
  {
   "cell_type": "code",
   "execution_count": 27,
   "id": "1bc00019",
   "metadata": {},
   "outputs": [
    {
     "name": "stdout",
     "output_type": "stream",
     "text": [
      "Zara\n",
      "\n",
      "7\n"
     ]
    }
   ],
   "source": [
    "# Access with keys\n",
    "\n",
    "print (dict1[\"Name\"])\n",
    "print ()\n",
    "print (dict1[\"Age\"])"
   ]
  },
  {
   "cell_type": "markdown",
   "id": "c9e97efc",
   "metadata": {},
   "source": [
    "# Updating the Dict"
   ]
  },
  {
   "cell_type": "code",
   "execution_count": 30,
   "id": "ce006751",
   "metadata": {},
   "outputs": [
    {
     "name": "stdout",
     "output_type": "stream",
     "text": [
      "{'Name': 'Zara', 'Age': 7, 'Class': 'First'}\n",
      "\n",
      "7\n",
      "\n",
      "{'Name': 'Zara', 'Age': [7, 8], 'Class': 'First'}\n",
      "\n",
      "{'Name': 'Zara', 'Age': [7, 8], 'Class': 'First', 'School': 'DPS'}\n"
     ]
    }
   ],
   "source": [
    "dict1 = {'Name': 'Zara', 'Age': 7, 'Class': 'First'}\n",
    "print (dict1)\n",
    "print ()\n",
    "\n",
    "print (dict1[\"Age\"])\n",
    "print ()\n",
    "\n",
    "dict1[\"Age\"] = [7,8]   # updating/ modifying a value\n",
    "print (dict1)\n",
    "print ()\n",
    "\n",
    "dict1[\"School\"] = \"DPS\"\n",
    "print (dict1)"
   ]
  },
  {
   "cell_type": "code",
   "execution_count": 34,
   "id": "a95971cd",
   "metadata": {},
   "outputs": [
    {
     "name": "stdout",
     "output_type": "stream",
     "text": [
      "[7, 8]\n"
     ]
    },
    {
     "data": {
      "text/plain": [
       "8"
      ]
     },
     "execution_count": 34,
     "metadata": {},
     "output_type": "execute_result"
    }
   ],
   "source": [
    "print (dict1[\"Age\"])\n",
    "type(dict1[\"Age\"])\n",
    "dict1[\"Age\"][1]"
   ]
  },
  {
   "cell_type": "markdown",
   "id": "bdc7265d",
   "metadata": {},
   "source": [
    "## Deleting a key-value pair"
   ]
  },
  {
   "cell_type": "code",
   "execution_count": 35,
   "id": "f50d6862",
   "metadata": {},
   "outputs": [
    {
     "name": "stdout",
     "output_type": "stream",
     "text": [
      "{'Name': 'Zara', 'Age': [7, 8], 'Class': 'First', 'School': 'DPS'}\n",
      "\n",
      "DPS\n",
      "\n",
      "{'Name': 'Zara', 'Age': [7, 8], 'Class': 'First'}\n"
     ]
    }
   ],
   "source": [
    "print (dict1)\n",
    "print ()\n",
    "print (dict1[\"School\"])\n",
    "\n",
    "print ()\n",
    "del dict1[\"School\"]\n",
    "print (dict1)"
   ]
  },
  {
   "cell_type": "markdown",
   "id": "6bf05c90",
   "metadata": {},
   "source": [
    "## Keys are immutable"
   ]
  },
  {
   "cell_type": "code",
   "execution_count": 36,
   "id": "00ff39d1",
   "metadata": {
    "collapsed": true
   },
   "outputs": [
    {
     "ename": "TypeError",
     "evalue": "unhashable type: 'list'",
     "output_type": "error",
     "traceback": [
      "\u001b[1;31m---------------------------------------------------------------------------\u001b[0m",
      "\u001b[1;31mTypeError\u001b[0m                                 Traceback (most recent call last)",
      "Input \u001b[1;32mIn [36]\u001b[0m, in \u001b[0;36m<cell line: 1>\u001b[1;34m()\u001b[0m\n\u001b[1;32m----> 1\u001b[0m dict1 \u001b[38;5;241m=\u001b[39m {[\u001b[38;5;124m'\u001b[39m\u001b[38;5;124mName\u001b[39m\u001b[38;5;124m'\u001b[39m]: \u001b[38;5;124m'\u001b[39m\u001b[38;5;124mZara\u001b[39m\u001b[38;5;124m'\u001b[39m, \u001b[38;5;124m'\u001b[39m\u001b[38;5;124mAge\u001b[39m\u001b[38;5;124m'\u001b[39m: \u001b[38;5;241m7\u001b[39m, \u001b[38;5;124m'\u001b[39m\u001b[38;5;124mClass\u001b[39m\u001b[38;5;124m'\u001b[39m: \u001b[38;5;124m'\u001b[39m\u001b[38;5;124mFirst\u001b[39m\u001b[38;5;124m'\u001b[39m}\n\u001b[0;32m      2\u001b[0m \u001b[38;5;28mprint\u001b[39m (dict1)\n\u001b[0;32m      3\u001b[0m \u001b[38;5;28mprint\u001b[39m ()\n",
      "\u001b[1;31mTypeError\u001b[0m: unhashable type: 'list'"
     ]
    }
   ],
   "source": [
    "dict1 = {['Name']: 'Zara', 'Age': 7, 'Class': 'First'}\n",
    "print (dict1)\n",
    "print ()\n",
    "\n",
    "# TypeError: unhashable type: 'list'\n",
    "# keys are immutable. list are mutable hence the error"
   ]
  },
  {
   "cell_type": "code",
   "execution_count": 37,
   "id": "50942c1f",
   "metadata": {},
   "outputs": [
    {
     "name": "stdout",
     "output_type": "stream",
     "text": [
      "{'Name': 'Zara', 'Age': 7}\n"
     ]
    }
   ],
   "source": [
    "dict1 = {('Name') : 'Zara', 'Age' : 7}\n",
    "print (dict1)"
   ]
  },
  {
   "cell_type": "markdown",
   "id": "3ea8744f",
   "metadata": {},
   "source": [
    "# Clear Dictionary"
   ]
  },
  {
   "cell_type": "code",
   "execution_count": 38,
   "id": "6731f8bc",
   "metadata": {},
   "outputs": [
    {
     "name": "stdout",
     "output_type": "stream",
     "text": [
      "{}\n"
     ]
    }
   ],
   "source": [
    "dict1.clear()\n",
    "print (dict1) # empty the dictionary"
   ]
  },
  {
   "cell_type": "markdown",
   "id": "09d80f76",
   "metadata": {},
   "source": [
    "# Del Dictionary"
   ]
  },
  {
   "cell_type": "code",
   "execution_count": 39,
   "id": "8937adf5",
   "metadata": {},
   "outputs": [
    {
     "ename": "NameError",
     "evalue": "name 'dict1' is not defined",
     "output_type": "error",
     "traceback": [
      "\u001b[1;31m---------------------------------------------------------------------------\u001b[0m",
      "\u001b[1;31mNameError\u001b[0m                                 Traceback (most recent call last)",
      "Input \u001b[1;32mIn [39]\u001b[0m, in \u001b[0;36m<cell line: 2>\u001b[1;34m()\u001b[0m\n\u001b[0;32m      1\u001b[0m \u001b[38;5;28;01mdel\u001b[39;00m (dict1)\n\u001b[1;32m----> 2\u001b[0m \u001b[38;5;28mprint\u001b[39m (\u001b[43mdict1\u001b[49m)\n",
      "\u001b[1;31mNameError\u001b[0m: name 'dict1' is not defined"
     ]
    }
   ],
   "source": [
    "del (dict1)\n",
    "print (dict1) # error"
   ]
  },
  {
   "cell_type": "markdown",
   "id": "420d9c2c",
   "metadata": {},
   "source": [
    "# Tuple vs List vs Dictionary"
   ]
  },
  {
   "cell_type": "code",
   "execution_count": 40,
   "id": "ada29b5f",
   "metadata": {},
   "outputs": [
    {
     "name": "stdout",
     "output_type": "stream",
     "text": [
      "()\n",
      "<class 'tuple'>\n",
      "[]\n",
      "<class 'list'>\n",
      "{}\n",
      "<class 'dict'>\n"
     ]
    }
   ],
   "source": [
    "A = ()\n",
    "print (A)\n",
    "print (type(A))\n",
    "B = []\n",
    "print (B)\n",
    "print (type(B))\n",
    "C = {}\n",
    "print (C)\n",
    "print (type(C))"
   ]
  },
  {
   "cell_type": "markdown",
   "id": "b7b59c23",
   "metadata": {},
   "source": [
    "# InClass Assignment"
   ]
  },
  {
   "cell_type": "markdown",
   "id": "6ab97fe0",
   "metadata": {},
   "source": [
    "# 1.\n",
    "\n",
    "Given this nested list, use indexing to grab the word \"Joe\""
   ]
  },
  {
   "cell_type": "code",
   "execution_count": 43,
   "id": "74e0b40f",
   "metadata": {},
   "outputs": [
    {
     "data": {
      "text/plain": [
       "[[1, 2, 3], ['Anand', ['Raghav', [7, 8, 9, 0, ['Aman', ['Kumar', 'Joe']]]]]]"
      ]
     },
     "execution_count": 43,
     "metadata": {},
     "output_type": "execute_result"
    }
   ],
   "source": [
    "B = [[1,2,3],['Anand',['Raghav',[7,8,9,0,['Aman',['Kumar','Joe']]]]]]\n",
    "B"
   ]
  },
  {
   "cell_type": "code",
   "execution_count": 50,
   "id": "d4c4182c",
   "metadata": {},
   "outputs": [
    {
     "name": "stdout",
     "output_type": "stream",
     "text": [
      "['Anand', ['Raghav', [7, 8, 9, 0, ['Aman', ['Kumar', 'Joe']]]]]\n",
      "['Raghav', [7, 8, 9, 0, ['Aman', ['Kumar', 'Joe']]]]\n",
      "[7, 8, 9, 0, ['Aman', ['Kumar', 'Joe']]]\n",
      "['Aman', ['Kumar', 'Joe']]\n",
      "['Kumar', 'Joe']\n",
      "Joe\n"
     ]
    }
   ],
   "source": [
    "print (B[-1])\n",
    "print (B[-1][-1])\n",
    "print (B[-1][-1][-1])\n",
    "print (B[-1][-1][-1][-1])\n",
    "print (B[-1][-1][-1][-1][-1])\n",
    "print (B[-1][-1][-1][-1][-1][-1])"
   ]
  },
  {
   "cell_type": "code",
   "execution_count": 51,
   "id": "14e4956a",
   "metadata": {},
   "outputs": [
    {
     "name": "stdout",
     "output_type": "stream",
     "text": [
      "['Anand', ['Raghav', [7, 8, 9, 0, ['Aman', ['Kumar', 'Joe']]]]]\n",
      "['Raghav', [7, 8, 9, 0, ['Aman', ['Kumar', 'Joe']]]]\n",
      "[7, 8, 9, 0, ['Aman', ['Kumar', 'Joe']]]\n",
      "['Aman', ['Kumar', 'Joe']]\n",
      "['Kumar', 'Joe']\n",
      "Joe\n"
     ]
    }
   ],
   "source": [
    "print (B[1])\n",
    "print (B[1][1])\n",
    "print (B[1][1][1])\n",
    "print (B[1][1][1][4])\n",
    "print (B[1][1][1][4][1])\n",
    "print (B[1][1][1][4][1][1])"
   ]
  },
  {
   "cell_type": "markdown",
   "id": "158aa50f",
   "metadata": {},
   "source": [
    "# 2.\n",
    "\n",
    "**Given this nested dictionary grab the word \"hello\". Be prepared, this will be annoying/tricky**\n",
    "\n",
    "d = {'k1':[1,2,3,{'tricky':['oh','man','inception',{'target':[1,2,3,'hello']}]}]}\n"
   ]
  },
  {
   "cell_type": "code",
   "execution_count": 2,
   "id": "f2ecad8c",
   "metadata": {},
   "outputs": [
    {
     "data": {
      "text/plain": [
       "{'k1': [1,\n",
       "  2,\n",
       "  3,\n",
       "  {'tricky': ['oh', 'man', 'inception', {'target': [1, 2, 3, 'hello']}]}]}"
      ]
     },
     "execution_count": 2,
     "metadata": {},
     "output_type": "execute_result"
    }
   ],
   "source": [
    "d = {'k1':[1,2,3,{'tricky':['oh','man','inception',{'target':[1,2,3,'hello']}]}]}\n",
    "d"
   ]
  },
  {
   "cell_type": "code",
   "execution_count": 7,
   "id": "38abbc9b",
   "metadata": {},
   "outputs": [
    {
     "data": {
      "text/plain": [
       "'hello'"
      ]
     },
     "execution_count": 7,
     "metadata": {},
     "output_type": "execute_result"
    }
   ],
   "source": [
    "d['k1'][-1]['tricky'][-1]['target'][-1]"
   ]
  },
  {
   "cell_type": "markdown",
   "id": "26399deb",
   "metadata": {},
   "source": [
    "# 3. \n",
    "\n",
    "tup4 = ((1, 2, 'z'), 199, 'a', 200.88, 'string', ['a', 'b'])\n",
    "print (tup4)\n",
    "\n",
    "**Update b with 2000**"
   ]
  },
  {
   "cell_type": "code",
   "execution_count": 53,
   "id": "aaa822f9",
   "metadata": {},
   "outputs": [
    {
     "name": "stdout",
     "output_type": "stream",
     "text": [
      "((1, 2, 'z'), 199, 'a', 200.88, 'string', ['a', 'b'])\n"
     ]
    }
   ],
   "source": [
    "tup4 = ((1, 2, 'z'), 199, 'a', 200.88, 'string', ['a', 'b']) \n",
    "print (tup4)"
   ]
  },
  {
   "cell_type": "code",
   "execution_count": null,
   "id": "9f8ffd91",
   "metadata": {},
   "outputs": [],
   "source": []
  },
  {
   "cell_type": "markdown",
   "id": "5588d6d4",
   "metadata": {},
   "source": [
    "# 4. \n",
    "\n",
    "**Given this nested list, use indexing to grab the word \"hello\"**\n",
    "\n",
    "lst = [1,2,[3,4],[5,[100,200,['hello']],23,11],1,7]"
   ]
  },
  {
   "cell_type": "code",
   "execution_count": 55,
   "id": "4bfced3a",
   "metadata": {},
   "outputs": [
    {
     "data": {
      "text/plain": [
       "[1, 2, [3, 4], [5, [100, 200, ['hello']], 23, 11], 1, 7]"
      ]
     },
     "execution_count": 55,
     "metadata": {},
     "output_type": "execute_result"
    }
   ],
   "source": [
    "lst = [1,2,[3,4],[5,[100,200,['hello']],23,11],1,7]\n",
    "lst"
   ]
  },
  {
   "cell_type": "code",
   "execution_count": null,
   "id": "c91eae9e",
   "metadata": {},
   "outputs": [],
   "source": []
  }
 ],
 "metadata": {
  "kernelspec": {
   "display_name": "Python 3 (ipykernel)",
   "language": "python",
   "name": "python3"
  },
  "language_info": {
   "codemirror_mode": {
    "name": "ipython",
    "version": 3
   },
   "file_extension": ".py",
   "mimetype": "text/x-python",
   "name": "python",
   "nbconvert_exporter": "python",
   "pygments_lexer": "ipython3",
   "version": "3.9.12"
  }
 },
 "nbformat": 4,
 "nbformat_minor": 5
}

{
 "cells": [
  {
   "cell_type": "markdown",
   "id": "ceb21997",
   "metadata": {},
   "source": [
    "# Exploring the Bike Sharing DataSet"
   ]
  },
  {
   "cell_type": "code",
   "execution_count": null,
   "id": "5d3343b6",
   "metadata": {},
   "outputs": [],
   "source": [
    "import matplotlib.pyplot as plt\n",
    "%matplotlib inline\n",
    "\n",
    "# help in creating the graphs in the notebook otherwise they will pop up\n",
    "\n",
    "import numpy as np\n",
    "import pandas as pd\n",
    "import seaborn as sns"
   ]
  },
  {
   "cell_type": "code",
   "execution_count": null,
   "id": "6e19612c",
   "metadata": {},
   "outputs": [],
   "source": [
    "train_data = pd.read_csv('train.csv')\n",
    "train_data.head()"
   ]
  },
  {
   "cell_type": "code",
   "execution_count": null,
   "id": "df305be6",
   "metadata": {},
   "outputs": [],
   "source": [
    "train_data.shape"
   ]
  },
  {
   "cell_type": "markdown",
   "id": "521d5125",
   "metadata": {},
   "source": [
    "# Attribute Information:\n",
    "\n",
    "- instant: record index\n",
    "- season : season (1:spring, 2:summer, 3:fall, 4:winter)\n",
    "- yr : year (0: 2011, 1: 2012)\n",
    "- mnth : month (1 to 12)\n",
    "- hr : hour (0 to 23)\n",
    "- holiday : weather day is holiday or not (extracted from [Web Link])\n",
    "- weekday : day of the week\n",
    "- workingday : if day is neither weekend nor holiday is 1, otherwise is 0.\n",
    "+ weathersit : \n",
    "    - 1: Clear, Few clouds, Partly cloudy\n",
    "    - 2: Mist + Cloudy, Mist + Broken clouds, Mist + Few clouds, Mist\n",
    "    - 3: Light Snow, Light Rain + Thunderstorm + Scattered clouds, Light Rain + Scattered clouds\n",
    "    - 4: Heavy Rain + Ice Pallets + Thunderstorm + Mist, Snow + Fog\n",
    "- temp : Normalized temperature in Celsius. The values are derived via (t-t_min)/(t_max-t_min), t_min=-8, t_max=+39 (only in hourly scale)\n",
    "- atemp: Normalized feeling temperature in Celsius. The values are derived via (t-t_min)/(t_max-t_min), t_min=-16, t_max=+50 (only in hourly scale)\n",
    "- hum: Normalized humidity. The values are divided to 100 (max)\n",
    "- windspeed: Normalized wind speed. The values are divided to 67 (max)\n",
    "- casual: count of casual users\n",
    "- registered: count of registered users\n",
    "- cnt: count of total rental bikes including both casual and registered"
   ]
  },
  {
   "cell_type": "code",
   "execution_count": null,
   "id": "5d3c8f6a",
   "metadata": {},
   "outputs": [],
   "source": [
    "train_data.info()"
   ]
  },
  {
   "cell_type": "code",
   "execution_count": null,
   "id": "1a2b8461",
   "metadata": {},
   "outputs": [],
   "source": [
    "train_data.describe().T"
   ]
  },
  {
   "cell_type": "markdown",
   "id": "eaec8624",
   "metadata": {},
   "source": [
    "# Univariate Analysis"
   ]
  },
  {
   "cell_type": "markdown",
   "id": "dc8446bf",
   "metadata": {},
   "source": [
    "## Continuous Data"
   ]
  },
  {
   "cell_type": "code",
   "execution_count": null,
   "id": "f1bd4da9",
   "metadata": {},
   "outputs": [],
   "source": [
    "sns.displot(train_data['temp'], bins = 50, kde = True).set(title = \"Distribution of Temperature\");"
   ]
  },
  {
   "cell_type": "markdown",
   "id": "c2a91c4b",
   "metadata": {},
   "source": [
    "Everytime the bike is shared, the temp is noted.\n",
    "\n",
    "\n",
    "##### Most people won't rent a bike when it is too hot or too cold. More bikes are rented when the temperature is pleasant.\n",
    "##### High number of bikes are rented when the temp is around 0.35 and 0.60"
   ]
  },
  {
   "cell_type": "markdown",
   "id": "4b74f688",
   "metadata": {},
   "source": [
    "## Categorical Variable"
   ]
  },
  {
   "cell_type": "code",
   "execution_count": null,
   "id": "2c60184f",
   "metadata": {},
   "outputs": [],
   "source": [
    "train_data['season'].unique()"
   ]
  },
  {
   "cell_type": "code",
   "execution_count": null,
   "id": "10980150",
   "metadata": {},
   "outputs": [],
   "source": [
    "train_data['season'].value_counts() \n",
    "\n",
    "# 1:spring, 2:summer, 3:fall, 4:winter"
   ]
  },
  {
   "cell_type": "code",
   "execution_count": null,
   "id": "0b76a97d",
   "metadata": {},
   "outputs": [],
   "source": [
    "print (3980 + 4409) # season 1 and 2\n",
    "print (2512 + 2134) # season 3 and 4\n",
    "\n",
    "# 1:spring, 2:summer, 3:fall, 4:winter"
   ]
  },
  {
   "cell_type": "code",
   "execution_count": null,
   "id": "f2f8af61",
   "metadata": {},
   "outputs": [],
   "source": [
    "sns.countplot(y = train_data.season, palette = 'Set2').set(title = \"Seasons\");\n",
    "# y - horizontal bar"
   ]
  },
  {
   "cell_type": "markdown",
   "id": "421e2648",
   "metadata": {},
   "source": [
    "#### Season 1 and 2 have twice the number of instances of Bike Sharing than season 3 and 4. This, intuitively, makes sense as season 1 & 2 are spring and summer which would be pleasant and season 3 & 4 would be fall & winter which will be cold."
   ]
  },
  {
   "cell_type": "markdown",
   "id": "0fa99de9",
   "metadata": {},
   "source": [
    "# Bivariate Analysis"
   ]
  },
  {
   "cell_type": "markdown",
   "id": "8df33273",
   "metadata": {},
   "source": [
    "## Continuous & Continuous"
   ]
  },
  {
   "cell_type": "markdown",
   "id": "aff96990",
   "metadata": {},
   "source": [
    "### Scatter Plot"
   ]
  },
  {
   "cell_type": "code",
   "execution_count": null,
   "id": "9ee644d1",
   "metadata": {},
   "outputs": [],
   "source": [
    "plot = sns.jointplot(x = train_data.temp, y = train_data.atemp, kind = 'scatter');\n",
    "plot.fig.suptitle(\"Temp Vs Atemp\");"
   ]
  },
  {
   "cell_type": "markdown",
   "id": "378214ab",
   "metadata": {},
   "source": [
    "#### Temp and atemp have a positive linear relation"
   ]
  },
  {
   "cell_type": "markdown",
   "id": "3625edf8",
   "metadata": {},
   "source": [
    "### Correlation"
   ]
  },
  {
   "cell_type": "code",
   "execution_count": null,
   "id": "154f27a4",
   "metadata": {},
   "outputs": [],
   "source": [
    "train_data.temp.corr(train_data.atemp)\n",
    "np.round(train_data.temp.corr(train_data.atemp),2)"
   ]
  },
  {
   "cell_type": "markdown",
   "id": "a3578aa4",
   "metadata": {},
   "source": [
    "## Categorical & Continuous"
   ]
  },
  {
   "cell_type": "markdown",
   "id": "9b50f7d5",
   "metadata": {},
   "source": [
    "### Boxplots of Continuous Variable over the Categories of Categorical Variable"
   ]
  },
  {
   "cell_type": "code",
   "execution_count": null,
   "id": "6d673ddb",
   "metadata": {},
   "outputs": [],
   "source": [
    "sns.boxplot(y = train_data.cnt, x = train_data.season, palette ='Set2').set(title = \"Total # Bikes Rented By Seasons\");\n",
    "\n",
    "# 1:spring, 2:summer, 3:fall, 4:winter"
   ]
  },
  {
   "cell_type": "markdown",
   "id": "ec799d47",
   "metadata": {},
   "source": [
    "**The cnt column is an important column for analysis and the outliers are good for the business because we are working with Bike Sharing Data. So, we will not treat them.**"
   ]
  },
  {
   "cell_type": "markdown",
   "id": "4d70779b",
   "metadata": {},
   "source": [
    "## Categorical & Categorical"
   ]
  },
  {
   "cell_type": "markdown",
   "id": "36374036",
   "metadata": {},
   "source": [
    "### Pivot Tables And Stacked Bar Chart"
   ]
  },
  {
   "cell_type": "code",
   "execution_count": null,
   "id": "017b14f8",
   "metadata": {},
   "outputs": [],
   "source": [
    "train_data.head()"
   ]
  },
  {
   "cell_type": "code",
   "execution_count": null,
   "id": "13d98ddf",
   "metadata": {},
   "outputs": [],
   "source": [
    "# Average number of bikes rented hourly on a working and a non-workingday\n",
    "\n",
    "tbl = train_data.pivot_table(columns = \"workingday\", index = \"hr\", values = \"cnt\", aggfunc = \"mean\")\n",
    "tbl = round (tbl)\n",
    "tbl\n",
    "\n",
    "# col of table = the categories of workingday\n",
    "# rows of the tables = index === hr \n",
    "# data in the table is aggfunc applied to the 'cnt' col === mean(cnt)"
   ]
  },
  {
   "cell_type": "code",
   "execution_count": null,
   "id": "dc57a2f8",
   "metadata": {
    "scrolled": true
   },
   "outputs": [],
   "source": [
    "tbl.plot(kind = 'bar', stacked = True);"
   ]
  },
  {
   "cell_type": "raw",
   "id": "b6f9b5bf",
   "metadata": {},
   "source": [
    "tbl.plot(kind = 'bar');"
   ]
  },
  {
   "cell_type": "markdown",
   "id": "426471f3",
   "metadata": {},
   "source": [
    "##### Shows us hourly distribution of count of rented bikes. \n",
    "- In the hours 0-6, when people will be sleeping, we have low amount of rented bikes. \n",
    "- Around 7th to 9th hour and 17th to 19th hour, we see a hike in the number of biked rented. This would be the hours when people go and come back from work on a working day."
   ]
  },
  {
   "cell_type": "code",
   "execution_count": null,
   "id": "79ca4eca",
   "metadata": {},
   "outputs": [],
   "source": []
  }
 ],
 "metadata": {
  "kernelspec": {
   "display_name": "Python 3 (ipykernel)",
   "language": "python",
   "name": "python3"
  },
  "language_info": {
   "codemirror_mode": {
    "name": "ipython",
    "version": 3
   },
   "file_extension": ".py",
   "mimetype": "text/x-python",
   "name": "python",
   "nbconvert_exporter": "python",
   "pygments_lexer": "ipython3",
   "version": "3.9.13"
  }
 },
 "nbformat": 4,
 "nbformat_minor": 5
}

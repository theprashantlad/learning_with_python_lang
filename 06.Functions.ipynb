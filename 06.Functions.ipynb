{
 "cells": [
  {
   "cell_type": "markdown",
   "id": "b694670a",
   "metadata": {},
   "source": [
    "# Functions are reusable codes ::\n",
    "In python there exists two functions:\n",
    "-  1. Pre-defined Functions -- len, append, print\n",
    "-  2. User-defined Functions"
   ]
  },
  {
   "cell_type": "markdown",
   "id": "c7982f0e",
   "metadata": {},
   "source": [
    "## 1. Pre-defined Functions"
   ]
  },
  {
   "cell_type": "code",
   "execution_count": 2,
   "id": "2e29ffd0",
   "metadata": {},
   "outputs": [
    {
     "name": "stdout",
     "output_type": "stream",
     "text": [
      "this is a print function\n",
      "[1, 2]\n",
      "apple, cherry\n"
     ]
    }
   ],
   "source": [
    "print ('this is a print function')\n",
    "print ([1,2])\n",
    "print (('apple, cherry'))"
   ]
  },
  {
   "cell_type": "code",
   "execution_count": 3,
   "id": "d64ebd5d",
   "metadata": {},
   "outputs": [
    {
     "data": {
      "text/plain": [
       "4"
      ]
     },
     "execution_count": 3,
     "metadata": {},
     "output_type": "execute_result"
    }
   ],
   "source": [
    "x = [1,2,3,4]\n",
    "len(x)"
   ]
  },
  {
   "cell_type": "code",
   "execution_count": 4,
   "id": "e7d629fe",
   "metadata": {},
   "outputs": [
    {
     "name": "stdout",
     "output_type": "stream",
     "text": [
      "\n"
     ]
    }
   ],
   "source": [
    "print ()"
   ]
  },
  {
   "cell_type": "code",
   "execution_count": 5,
   "id": "a4712131",
   "metadata": {
    "collapsed": true
   },
   "outputs": [
    {
     "ename": "TypeError",
     "evalue": "len() takes exactly one argument (0 given)",
     "output_type": "error",
     "traceback": [
      "\u001b[1;31m---------------------------------------------------------------------------\u001b[0m",
      "\u001b[1;31mTypeError\u001b[0m                                 Traceback (most recent call last)",
      "Input \u001b[1;32mIn [5]\u001b[0m, in \u001b[0;36m<cell line: 1>\u001b[1;34m()\u001b[0m\n\u001b[1;32m----> 1\u001b[0m \u001b[38;5;28;43mlen\u001b[39;49m\u001b[43m \u001b[49m\u001b[43m(\u001b[49m\u001b[43m)\u001b[49m\n",
      "\u001b[1;31mTypeError\u001b[0m: len() takes exactly one argument (0 given)"
     ]
    }
   ],
   "source": [
    "len ()\n",
    "# TypeError: len() takes exactly one argument (0 given)"
   ]
  },
  {
   "cell_type": "markdown",
   "id": "c27a0e89",
   "metadata": {},
   "source": [
    "## 2. User-defined Functions"
   ]
  },
  {
   "cell_type": "code",
   "execution_count": 6,
   "id": "b6f578d8",
   "metadata": {},
   "outputs": [],
   "source": [
    "# Function that can print values\n",
    "\n",
    "def welcome():\n",
    "    print ('hi')\n",
    "    print (\"Python is interesting\")\n",
    "    \n",
    "# def - keyword to define the functions\n",
    "# welcome - name of the user defined function\n",
    "\n",
    "# syntax - def function_name() ==> to accept arguments\n",
    "# there is no output  "
   ]
  },
  {
   "cell_type": "code",
   "execution_count": 7,
   "id": "303b53f9",
   "metadata": {},
   "outputs": [
    {
     "name": "stdout",
     "output_type": "stream",
     "text": [
      "hi\n",
      "Python is interesting\n"
     ]
    }
   ],
   "source": [
    "welcome() # calling the function"
   ]
  },
  {
   "cell_type": "code",
   "execution_count": 8,
   "id": "98a9cf05",
   "metadata": {
    "collapsed": true
   },
   "outputs": [
    {
     "ename": "TypeError",
     "evalue": "welcome() takes 0 positional arguments but 1 was given",
     "output_type": "error",
     "traceback": [
      "\u001b[1;31m---------------------------------------------------------------------------\u001b[0m",
      "\u001b[1;31mTypeError\u001b[0m                                 Traceback (most recent call last)",
      "Input \u001b[1;32mIn [8]\u001b[0m, in \u001b[0;36m<cell line: 1>\u001b[1;34m()\u001b[0m\n\u001b[1;32m----> 1\u001b[0m \u001b[43mwelcome\u001b[49m\u001b[43m(\u001b[49m\u001b[38;5;124;43m\"\u001b[39;49m\u001b[38;5;124;43mSonal\u001b[39;49m\u001b[38;5;124;43m\"\u001b[39;49m\u001b[43m)\u001b[49m\n",
      "\u001b[1;31mTypeError\u001b[0m: welcome() takes 0 positional arguments but 1 was given"
     ]
    }
   ],
   "source": [
    "welcome(\"Sonal\")"
   ]
  },
  {
   "cell_type": "markdown",
   "id": "314cbf01",
   "metadata": {},
   "source": [
    "## User defined function with arguments"
   ]
  },
  {
   "cell_type": "code",
   "execution_count": 9,
   "id": "5af0f2a4",
   "metadata": {},
   "outputs": [
    {
     "data": {
      "text/plain": [
       "5"
      ]
     },
     "execution_count": 9,
     "metadata": {},
     "output_type": "execute_result"
    }
   ],
   "source": [
    "# Parameters are defined during function creation\n",
    "# Arguments are defined during function usage\n",
    "\n",
    "def add(num1, num2):\n",
    "    # num1 , num2 ---> Parameters\n",
    "    return num1 + num2\n",
    "\n",
    "add(3,2) # 3,2 --- arguments"
   ]
  },
  {
   "cell_type": "code",
   "execution_count": 10,
   "id": "1dcd51e5",
   "metadata": {},
   "outputs": [
    {
     "data": {
      "text/plain": [
       "'Apple Oranges'"
      ]
     },
     "execution_count": 10,
     "metadata": {},
     "output_type": "execute_result"
    }
   ],
   "source": [
    "add('Apple ',\"Oranges\") # concatenate"
   ]
  },
  {
   "cell_type": "code",
   "execution_count": 11,
   "id": "9e35fc3c",
   "metadata": {},
   "outputs": [
    {
     "data": {
      "text/plain": [
       "[1, 2, 3, 4, 10, 11, 12, 13]"
      ]
     },
     "execution_count": 11,
     "metadata": {},
     "output_type": "execute_result"
    }
   ],
   "source": [
    "add([1,2,3,4],[10,11,12,13]) # concatenate"
   ]
  },
  {
   "cell_type": "code",
   "execution_count": 12,
   "id": "7159fb31",
   "metadata": {
    "collapsed": true
   },
   "outputs": [
    {
     "ename": "TypeError",
     "evalue": "unsupported operand type(s) for +: 'int' and 'str'",
     "output_type": "error",
     "traceback": [
      "\u001b[1;31m---------------------------------------------------------------------------\u001b[0m",
      "\u001b[1;31mTypeError\u001b[0m                                 Traceback (most recent call last)",
      "Input \u001b[1;32mIn [12]\u001b[0m, in \u001b[0;36m<cell line: 1>\u001b[1;34m()\u001b[0m\n\u001b[1;32m----> 1\u001b[0m \u001b[43madd\u001b[49m\u001b[43m(\u001b[49m\u001b[38;5;241;43m2\u001b[39;49m\u001b[43m,\u001b[49m\u001b[43m \u001b[49m\u001b[38;5;124;43m\"\u001b[39;49m\u001b[38;5;124;43mOranges\u001b[39;49m\u001b[38;5;124;43m\"\u001b[39;49m\u001b[43m)\u001b[49m\n",
      "Input \u001b[1;32mIn [9]\u001b[0m, in \u001b[0;36madd\u001b[1;34m(num1, num2)\u001b[0m\n\u001b[0;32m      4\u001b[0m \u001b[38;5;28;01mdef\u001b[39;00m \u001b[38;5;21madd\u001b[39m(num1, num2):\n\u001b[0;32m      5\u001b[0m     \u001b[38;5;66;03m# num1 , num2 ---> Parameters\u001b[39;00m\n\u001b[1;32m----> 6\u001b[0m     \u001b[38;5;28;01mreturn\u001b[39;00m \u001b[43mnum1\u001b[49m\u001b[43m \u001b[49m\u001b[38;5;241;43m+\u001b[39;49m\u001b[43m \u001b[49m\u001b[43mnum2\u001b[49m\n",
      "\u001b[1;31mTypeError\u001b[0m: unsupported operand type(s) for +: 'int' and 'str'"
     ]
    }
   ],
   "source": [
    "add(2, \"Oranges\")"
   ]
  },
  {
   "cell_type": "code",
   "execution_count": 13,
   "id": "ccd3ee83",
   "metadata": {
    "collapsed": true
   },
   "outputs": [
    {
     "ename": "TypeError",
     "evalue": "add() missing 1 required positional argument: 'num2'",
     "output_type": "error",
     "traceback": [
      "\u001b[1;31m---------------------------------------------------------------------------\u001b[0m",
      "\u001b[1;31mTypeError\u001b[0m                                 Traceback (most recent call last)",
      "Input \u001b[1;32mIn [13]\u001b[0m, in \u001b[0;36m<cell line: 1>\u001b[1;34m()\u001b[0m\n\u001b[1;32m----> 1\u001b[0m \u001b[43madd\u001b[49m\u001b[43m(\u001b[49m\u001b[38;5;241;43m9\u001b[39;49m\u001b[43m)\u001b[49m\n",
      "\u001b[1;31mTypeError\u001b[0m: add() missing 1 required positional argument: 'num2'"
     ]
    }
   ],
   "source": [
    "add(9)"
   ]
  },
  {
   "cell_type": "markdown",
   "id": "97614753",
   "metadata": {},
   "source": [
    "### User defined function with default arguments"
   ]
  },
  {
   "cell_type": "code",
   "execution_count": 14,
   "id": "cde45cdb",
   "metadata": {},
   "outputs": [],
   "source": [
    "# Parameters are defined during function creation\n",
    "# Arguments are defined during function usage\n",
    "\n",
    "# You can create a function that can hold default argument in the parameter\n",
    "\n",
    "def printinfo(name = \"Sonal\" , age = 20):\n",
    "    print (\"Name : \", name)\n",
    "    print (\"Age : \", age)"
   ]
  },
  {
   "cell_type": "code",
   "execution_count": 15,
   "id": "67557bb0",
   "metadata": {},
   "outputs": [
    {
     "name": "stdout",
     "output_type": "stream",
     "text": [
      "Name :  Sonal\n",
      "Age :  20\n"
     ]
    }
   ],
   "source": [
    "printinfo()"
   ]
  },
  {
   "cell_type": "code",
   "execution_count": 16,
   "id": "a6c1a146",
   "metadata": {},
   "outputs": [
    {
     "name": "stdout",
     "output_type": "stream",
     "text": [
      "Name :  Akshay\n",
      "Age :  20\n"
     ]
    }
   ],
   "source": [
    "printinfo(name = \"Akshay\")"
   ]
  },
  {
   "cell_type": "code",
   "execution_count": 17,
   "id": "598d6cb9",
   "metadata": {},
   "outputs": [
    {
     "name": "stdout",
     "output_type": "stream",
     "text": [
      "Name :  Akshay\n",
      "Age :  25\n"
     ]
    }
   ],
   "source": [
    "printinfo(name = \"Akshay\", age = 25)"
   ]
  },
  {
   "cell_type": "markdown",
   "id": "325eac00",
   "metadata": {},
   "source": [
    "# Functions with for loop"
   ]
  },
  {
   "cell_type": "code",
   "execution_count": 18,
   "id": "8ba0452b",
   "metadata": {},
   "outputs": [],
   "source": [
    "# Write a function, which take a number from the user and returns the multiplcation table till 10\n",
    "\n",
    "def mult_table(num):\n",
    "    for i in range(1,11):\n",
    "        nnum = num * i\n",
    "        print (num, \"*\", i, \"=\", nnum)"
   ]
  },
  {
   "cell_type": "code",
   "execution_count": 19,
   "id": "aac1ab87",
   "metadata": {
    "collapsed": true
   },
   "outputs": [
    {
     "name": "stdout",
     "output_type": "stream",
     "text": [
      "19 * 1 = 19\n",
      "19 * 2 = 38\n",
      "19 * 3 = 57\n",
      "19 * 4 = 76\n",
      "19 * 5 = 95\n",
      "19 * 6 = 114\n",
      "19 * 7 = 133\n",
      "19 * 8 = 152\n",
      "19 * 9 = 171\n",
      "19 * 10 = 190\n"
     ]
    }
   ],
   "source": [
    "mult_table(19)"
   ]
  },
  {
   "cell_type": "markdown",
   "id": "4dec16c6",
   "metadata": {},
   "source": [
    "### Examples of Functions"
   ]
  },
  {
   "cell_type": "code",
   "execution_count": 20,
   "id": "ff3fd577",
   "metadata": {},
   "outputs": [],
   "source": [
    "# Writing a function to check if the word \"python\" is in my string, return true else return false\n",
    "\n",
    "def word_check(myword):\n",
    "    if 'python' in myword:\n",
    "        return True\n",
    "    else:\n",
    "        return False"
   ]
  },
  {
   "cell_type": "code",
   "execution_count": 21,
   "id": "82649877",
   "metadata": {},
   "outputs": [
    {
     "data": {
      "text/plain": [
       "True"
      ]
     },
     "execution_count": 21,
     "metadata": {},
     "output_type": "execute_result"
    }
   ],
   "source": [
    "word_check('python is an interesting language')"
   ]
  },
  {
   "cell_type": "code",
   "execution_count": 22,
   "id": "a240f329",
   "metadata": {},
   "outputs": [
    {
     "data": {
      "text/plain": [
       "False"
      ]
     },
     "execution_count": 22,
     "metadata": {},
     "output_type": "execute_result"
    }
   ],
   "source": [
    "word_check('Python is an interesting language')"
   ]
  },
  {
   "cell_type": "code",
   "execution_count": 23,
   "id": "5edef7e0",
   "metadata": {},
   "outputs": [],
   "source": [
    "# Writing a function to check if the word \"python\" or \"Python\" is in my string, return true else return false\n",
    "\n",
    "def word_check(myword):\n",
    "    if 'python' in myword.lower():\n",
    "        return True\n",
    "    else:\n",
    "        return False"
   ]
  },
  {
   "cell_type": "code",
   "execution_count": 24,
   "id": "da76c736",
   "metadata": {},
   "outputs": [
    {
     "data": {
      "text/plain": [
       "True"
      ]
     },
     "execution_count": 24,
     "metadata": {},
     "output_type": "execute_result"
    }
   ],
   "source": [
    "word_check('python is an interesting language')"
   ]
  },
  {
   "cell_type": "code",
   "execution_count": 25,
   "id": "a9dcbf56",
   "metadata": {},
   "outputs": [
    {
     "data": {
      "text/plain": [
       "True"
      ]
     },
     "execution_count": 25,
     "metadata": {},
     "output_type": "execute_result"
    }
   ],
   "source": [
    "word_check('Python is an interesting language')"
   ]
  },
  {
   "cell_type": "code",
   "execution_count": 26,
   "id": "d0579273",
   "metadata": {},
   "outputs": [
    {
     "data": {
      "text/plain": [
       "'python is an interesting language'"
      ]
     },
     "execution_count": 26,
     "metadata": {},
     "output_type": "execute_result"
    }
   ],
   "source": [
    "'Python is an interesting language'.lower()"
   ]
  },
  {
   "cell_type": "markdown",
   "id": "ca817398",
   "metadata": {},
   "source": [
    "# InClass assignment\n",
    "1."
   ]
  },
  {
   "cell_type": "raw",
   "id": "a9cb3b34",
   "metadata": {},
   "source": [
    "Write a program to add 2 Lists:\n",
    "    A = [1,2,3,4]\n",
    "    B = [10,20,30,40]\n",
    "    \n",
    "    C = A+B = [11,22,33,44]"
   ]
  },
  {
   "cell_type": "code",
   "execution_count": 13,
   "id": "570d51be",
   "metadata": {},
   "outputs": [
    {
     "name": "stdout",
     "output_type": "stream",
     "text": [
      "[1, 2, 3, 4]\n",
      "[10, 20, 30, 40]\n",
      "[11, 22, 33, 44]\n"
     ]
    }
   ],
   "source": [
    "A = [1,2,3,4]\n",
    "B = [10,20,30,40]\n",
    "C = []\n",
    "  \n",
    "print (A)  \n",
    "print (B)  \n",
    "\n",
    "\n",
    "for i in range (len(A)):\n",
    "    C.append(A[i] + B[i])\n",
    "    \n",
    "print (C) "
   ]
  },
  {
   "cell_type": "code",
   "execution_count": null,
   "id": "1abdc018",
   "metadata": {},
   "outputs": [],
   "source": []
  }
 ],
 "metadata": {
  "kernelspec": {
   "display_name": "Python 3 (ipykernel)",
   "language": "python",
   "name": "python3"
  },
  "language_info": {
   "codemirror_mode": {
    "name": "ipython",
    "version": 3
   },
   "file_extension": ".py",
   "mimetype": "text/x-python",
   "name": "python",
   "nbconvert_exporter": "python",
   "pygments_lexer": "ipython3",
   "version": "3.9.12"
  }
 },
 "nbformat": 4,
 "nbformat_minor": 5
}
